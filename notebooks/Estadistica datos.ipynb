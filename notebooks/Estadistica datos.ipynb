{
 "cells": [
  {
   "cell_type": "code",
   "execution_count": 2,
   "metadata": {},
   "outputs": [],
   "source": [
    "import numpy as np\n",
    "import pandas as pd"
   ]
  },
  {
   "cell_type": "code",
   "execution_count": 3,
   "metadata": {},
   "outputs": [
    {
     "data": {
      "text/html": [
       "<div>\n",
       "<style scoped>\n",
       "    .dataframe tbody tr th:only-of-type {\n",
       "        vertical-align: middle;\n",
       "    }\n",
       "\n",
       "    .dataframe tbody tr th {\n",
       "        vertical-align: top;\n",
       "    }\n",
       "\n",
       "    .dataframe thead th {\n",
       "        text-align: right;\n",
       "    }\n",
       "</style>\n",
       "<table border=\"1\" class=\"dataframe\">\n",
       "  <thead>\n",
       "    <tr style=\"text-align: right;\">\n",
       "      <th></th>\n",
       "      <th>Candidato</th>\n",
       "      <th>Id_doc</th>\n",
       "      <th>Mes</th>\n",
       "      <th>Text</th>\n",
       "      <th>Title</th>\n",
       "      <th>Weights_kbs</th>\n",
       "      <th>Text_clean</th>\n",
       "      <th>abreviatura</th>\n",
       "    </tr>\n",
       "  </thead>\n",
       "  <tbody>\n",
       "    <tr>\n",
       "      <th>0</th>\n",
       "      <td>Guilherme Boulos</td>\n",
       "      <td>2</td>\n",
       "      <td>janeiro</td>\n",
       "      <td>﻿no próximo dia 24 teremos uma grande  batalha...</td>\n",
       "      <td>Guilherme Boulos _ Julgamento do Lula - 24 de ...</td>\n",
       "      <td>1572</td>\n",
       "      <td>batalha trf marcou julgamento porto_alegre ant...</td>\n",
       "      <td>Guil_jan_2</td>\n",
       "    </tr>\n",
       "    <tr>\n",
       "      <th>1</th>\n",
       "      <td>Guilherme Boulos</td>\n",
       "      <td>3</td>\n",
       "      <td>janeiro</td>\n",
       "      <td>﻿à noite a todas e todos  é uma satisfação est...</td>\n",
       "      <td>Guilherme Boulos _ DIA 24 É DIA DE ENFRENTAR A...</td>\n",
       "      <td>3657</td>\n",
       "      <td>satisfação une seguramente defesa democracia d...</td>\n",
       "      <td>Guil_jan_3</td>\n",
       "    </tr>\n",
       "    <tr>\n",
       "      <th>2</th>\n",
       "      <td>Guilherme Boulos</td>\n",
       "      <td>1</td>\n",
       "      <td>janeiro</td>\n",
       "      <td>﻿os dias sai um vídeo aquino quebrando  tabu e...</td>\n",
       "      <td>Guilherme Boulos _ Me chamaram de extremista!</td>\n",
       "      <td>2734</td>\n",
       "      <td>dias sai vídeo aquino quebrando tabu chamando ...</td>\n",
       "      <td>Guil_jan_1</td>\n",
       "    </tr>\n",
       "  </tbody>\n",
       "</table>\n",
       "</div>"
      ],
      "text/plain": [
       "          Candidato Id_doc      Mes  \\\n",
       "0  Guilherme Boulos      2  janeiro   \n",
       "1  Guilherme Boulos      3  janeiro   \n",
       "2  Guilherme Boulos      1  janeiro   \n",
       "\n",
       "                                                Text  \\\n",
       "0  ﻿no próximo dia 24 teremos uma grande  batalha...   \n",
       "1  ﻿à noite a todas e todos  é uma satisfação est...   \n",
       "2  ﻿os dias sai um vídeo aquino quebrando  tabu e...   \n",
       "\n",
       "                                               Title  Weights_kbs  \\\n",
       "0  Guilherme Boulos _ Julgamento do Lula - 24 de ...         1572   \n",
       "1  Guilherme Boulos _ DIA 24 É DIA DE ENFRENTAR A...         3657   \n",
       "2      Guilherme Boulos _ Me chamaram de extremista!         2734   \n",
       "\n",
       "                                          Text_clean abreviatura  \n",
       "0  batalha trf marcou julgamento porto_alegre ant...  Guil_jan_2  \n",
       "1  satisfação une seguramente defesa democracia d...  Guil_jan_3  \n",
       "2  dias sai vídeo aquino quebrando tabu chamando ...  Guil_jan_1  "
      ]
     },
     "execution_count": 3,
     "metadata": {},
     "output_type": "execute_result"
    }
   ],
   "source": [
    "df=pd.read_pickle('/home/kid/Documentos/analisis2018/pandas_data_candidatos__premas.pd')\n",
    "df.head(3)"
   ]
  },
  {
   "cell_type": "code",
   "execution_count": 7,
   "metadata": {},
   "outputs": [
    {
     "data": {
      "text/plain": [
       "Ciro Gomes            126\n",
       "Alvaro Dias           125\n",
       "Guilherme Boulos      116\n",
       "Joao Amoedo           100\n",
       "Bolsonaro              92\n",
       "Marina silva           77\n",
       "Manuela DAvila         73\n",
       "Henrique Meirelles     61\n",
       "Geraldo Alckmin        56\n",
       "Levy Fidelix           42\n",
       "Rodrigo Maia           17\n",
       "Cristovam Buarque      15\n",
       "Name: Candidato, dtype: int64"
      ]
     },
     "execution_count": 7,
     "metadata": {},
     "output_type": "execute_result"
    }
   ],
   "source": [
    "(df['Candidato'].value_counts().head(20))"
   ]
  },
  {
   "cell_type": "markdown",
   "metadata": {},
   "source": [
    "### total token"
   ]
  },
  {
   "cell_type": "code",
   "execution_count": 8,
   "metadata": {},
   "outputs": [
    {
     "data": {
      "text/plain": [
       "Candidato\n",
       "Alvaro Dias           ﻿o agente os amigos minhas amigas da  internet...\n",
       "Bolsonaro             ﻿o redetv news está recebendo o deputado  jair...\n",
       "Ciro Gomes            ﻿[Música]  só que não luta pelos seus direitos...\n",
       "Cristovam Buarque     ﻿eu trouxe hoje para conversar conosco  todos ...\n",
       "Geraldo Alckmin       ﻿a coca não falar assim o braço grande né  mas...\n",
       "Guilherme Boulos      ﻿no próximo dia 24 teremos uma grande  batalha...\n",
       "Henrique Meirelles    ﻿bom dia onde é você bom dia aí a todos  os ou...\n",
       "Joao Amoedo           ﻿você já deu um panorama mas vamos tentar  ser...\n",
       "Levy Fidelix          ﻿meu nome aqui desculpe eu não cheguei a  grav...\n",
       "Manuela DAvila        ﻿a deputada manuela começa perguntando a  resp...\n",
       "Marina silva          ﻿eu fui para a escola primeira vez né  com 16 ...\n",
       "Rodrigo Maia          ﻿está conosco aqui no jornal da manhã o  presi...\n",
       "Name: Text, dtype: object"
      ]
     },
     "execution_count": 8,
     "metadata": {},
     "output_type": "execute_result"
    }
   ],
   "source": [
    "df.groupby(\"Candidato\")['Text'].apply(lambda tags: ' '.join(tags))"
   ]
  },
  {
   "cell_type": "code",
   "execution_count": 9,
   "metadata": {},
   "outputs": [],
   "source": [
    "f=list(df.groupby(\"Candidato\")['Text'].apply(lambda tags: ' '.join(tags)))"
   ]
  },
  {
   "cell_type": "code",
   "execution_count": 12,
   "metadata": {},
   "outputs": [
    {
     "name": "stdout",
     "output_type": "stream",
     "text": [
      " 450433\n",
      " 411462\n",
      " 902486\n",
      " 54150\n",
      " 257209\n",
      " 553783\n",
      " 284988\n",
      " 498679\n",
      " 120011\n",
      " 277996\n",
      " 380865\n",
      " 60024\n"
     ]
    }
   ],
   "source": [
    "for i in f:\n",
    "    print('',len(i.split()))"
   ]
  },
  {
   "cell_type": "markdown",
   "metadata": {},
   "source": [
    "## min, max, and media tokens por documento"
   ]
  },
  {
   "cell_type": "code",
   "execution_count": 60,
   "metadata": {},
   "outputs": [],
   "source": [
    "candi=list(df[df.Candidato=='Rodrigo Maia']['Text'])"
   ]
  },
  {
   "cell_type": "code",
   "execution_count": 61,
   "metadata": {},
   "outputs": [],
   "source": [
    "toks=[]\n",
    "for i in candi:\n",
    "    toks.append(len(i.split()))\n",
    "toks=np.array(toks)"
   ]
  },
  {
   "cell_type": "code",
   "execution_count": 62,
   "metadata": {},
   "outputs": [
    {
     "data": {
      "text/plain": [
       "(580, 10424, 3530.823529411765)"
      ]
     },
     "execution_count": 62,
     "metadata": {},
     "output_type": "execute_result"
    }
   ],
   "source": [
    "toks.min(), toks.max(), toks.mean()"
   ]
  },
  {
   "cell_type": "markdown",
   "metadata": {},
   "source": [
    "### tamaño pesos videos"
   ]
  },
  {
   "cell_type": "code",
   "execution_count": null,
   "metadata": {},
   "outputs": [],
   "source": [
    "list(df.groupby(\"Candidato\")['Weights_kbs'].apply(lambda tags: tags.sum()))"
   ]
  },
  {
   "cell_type": "code",
   "execution_count": 78,
   "metadata": {},
   "outputs": [],
   "source": [
    "p=list(df.groupby(\"Candidato\")['Weights_kbs'].apply(lambda tags: tags.sum()))"
   ]
  },
  {
   "cell_type": "code",
   "execution_count": 79,
   "metadata": {},
   "outputs": [
    {
     "data": {
      "text/plain": [
       "12"
      ]
     },
     "execution_count": 79,
     "metadata": {},
     "output_type": "execute_result"
    }
   ],
   "source": [
    "len(p)"
   ]
  },
  {
   "cell_type": "code",
   "execution_count": null,
   "metadata": {},
   "outputs": [],
   "source": [
    "Alvaro Dias           ﻿o agente os amigos minhas amigas da  internet...\n",
    "Bolsonaro             ﻿o redetv news está recebendo o deputado  jair...\n",
    "Ciro Gomes            ﻿[Música]  só que não luta pelos seus direitos...\n",
    "Cristovam Buarque     ﻿eu trouxe hoje para conversar conosco  todos ...\n",
    "Geraldo Alckmin       ﻿a coca não falar assim o braço grande né  mas...\n",
    "Guilherme Boulos      ﻿no próximo dia 24 teremos uma grande  batalha...\n",
    "Henrique Meirelles    ﻿bom dia onde é você bom dia aí a todos  os ou...\n",
    "Joao Amoedo           ﻿você já deu um panorama mas vamos tentar  ser...\n",
    "Levy Fidelix          ﻿meu nome aqui desculpe eu não cheguei a  grav...\n",
    "Manuela DAvila        ﻿a deputada manuela começa perguntando a  resp...\n",
    "Marina silva          ﻿eu fui para a escola primeira vez né  com 16 ...\n",
    "Rodrigo Maia          ﻿está conosco aqui no jornal da manhã o  presi..."
   ]
  },
  {
   "cell_type": "code",
   "execution_count": 121,
   "metadata": {},
   "outputs": [
    {
     "name": "stdout",
     "output_type": "stream",
     "text": [
      " 2.931514\n",
      " 2.504578\n",
      " 5.658119\n",
      " 0.333117\n",
      " 1.6069149999999999\n",
      " 3.493398\n",
      " 1.793242\n",
      " 3.074963\n",
      " 0.730784\n",
      " 1.7216179999999999\n",
      " 2.397007\n",
      " 0.37483\n"
     ]
    }
   ],
   "source": [
    "for i in p:\n",
    "    print('',i*1e-6)"
   ]
  },
  {
   "cell_type": "code",
   "execution_count": 112,
   "metadata": {},
   "outputs": [],
   "source": [
    "candi=np.array(list(df[df.Candidato=='Alvaro Dias']['Weights_kbs']))"
   ]
  },
  {
   "cell_type": "code",
   "execution_count": 120,
   "metadata": {},
   "outputs": [
    {
     "data": {
      "text/plain": [
       "2.931514"
      ]
     },
     "execution_count": 120,
     "metadata": {},
     "output_type": "execute_result"
    }
   ],
   "source": [
    "candi.sum()*1e-6"
   ]
  },
  {
   "cell_type": "markdown",
   "metadata": {},
   "source": [
    "### stop words"
   ]
  },
  {
   "cell_type": "code",
   "execution_count": 81,
   "metadata": {},
   "outputs": [],
   "source": [
    "def load_stopwords( inpath = \"stopwords_portu.txt\" ):\n",
    "    stopwords = set()\n",
    "    with open(inpath) as f:\n",
    "        lines = f.readlines()\n",
    "        for l in lines:\n",
    "            l = l.strip()\n",
    "            if len(l) > 0:\n",
    "                stopwords.add(l)\n",
    "    return stopwords"
   ]
  },
  {
   "cell_type": "code",
   "execution_count": 82,
   "metadata": {},
   "outputs": [],
   "source": [
    "en_stop = load_stopwords(\"stopwords_portu.txt\")"
   ]
  },
  {
   "cell_type": "code",
   "execution_count": 109,
   "metadata": {},
   "outputs": [],
   "source": [
    "candi=list(df[df.Candidato=='Rodrigo Maia']['Text'])"
   ]
  },
  {
   "cell_type": "code",
   "execution_count": 110,
   "metadata": {},
   "outputs": [
    {
     "name": "stdout",
     "output_type": "stream",
     "text": [
      "41760\n"
     ]
    }
   ],
   "source": [
    "contador=0\n",
    "for c in candi:\n",
    "    tokens=c.split()\n",
    "    for i in tokens:\n",
    "        if i in en_stop:\n",
    "            contador=contador+1\n",
    "print(contador)"
   ]
  },
  {
   "cell_type": "code",
   "execution_count": null,
   "metadata": {},
   "outputs": [],
   "source": []
  }
 ],
 "metadata": {
  "kernelspec": {
   "display_name": "Python 3",
   "language": "python",
   "name": "python3"
  },
  "language_info": {
   "codemirror_mode": {
    "name": "ipython",
    "version": 3
   },
   "file_extension": ".py",
   "mimetype": "text/x-python",
   "name": "python",
   "nbconvert_exporter": "python",
   "pygments_lexer": "ipython3",
   "version": "3.5.2"
  }
 },
 "nbformat": 4,
 "nbformat_minor": 2
}
