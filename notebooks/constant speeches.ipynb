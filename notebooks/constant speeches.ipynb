{
 "cells": [
  {
   "cell_type": "code",
   "execution_count": 1,
   "metadata": {},
   "outputs": [],
   "source": [
    "from gensim.models.doc2vec import Doc2Vec\n",
    "import matplotlib.pyplot as plt\n",
    "from collections import Counter\n",
    "\n",
    "model2 = Doc2Vec.load('./modeloDoc2vec_setembro_premas40')\n",
    "#model2 = Doc2Vec.load('/home/kid/Documentos/analisis2018/modelD2v_set_db0_vs200_300it')\n",
    "labels = list(model2.docvecs.doctags.keys())"
   ]
  },
  {
   "cell_type": "code",
   "execution_count": 2,
   "metadata": {},
   "outputs": [],
   "source": [
    "nomesx=['Alva','Bols','Ciro','Gera','Guil','Henr','Joao','Mari']\n",
    "vecs_todo=[]\n",
    "lbs_todo=[]\n",
    "#ncandi=['Mari','Bols','Joao']\n",
    "ncandi=nomesx\n",
    "for la in labels:\n",
    "    if la[0:4] in ncandi:\n",
    "            vecs_todo.append(model2.docvecs[la])\n",
    "            lbs_todo.append(la[0:4])"
   ]
  },
  {
   "cell_type": "code",
   "execution_count": 3,
   "metadata": {},
   "outputs": [],
   "source": [
    "def sortLabels():\n",
    "    mes=['ant','out','nov','dez','jan','fev','mar','abr','mai','jun','jul','ago','set']\n",
    "    #mes.reverse()\n",
    "    labels = list(model2.docvecs.doctags.keys())\n",
    "    sorterData=[]\n",
    "    for m in mes:\n",
    "        for la in labels:\n",
    "            if m==la[5:8]:\n",
    "                 sorterData.append(la)\n",
    "    return sorterData\n",
    "\n",
    "def concurrent_recu(topp,nom):\n",
    "    mes=['ant','out','nov','dez','jan','fev','mar','abr','mai','jun','jul','ago','set']\n",
    "    #mes.reverse()\n",
    "    datos=sortLabels()\n",
    "    tuples_todo=[]\n",
    "    nomb=nom\n",
    "    i=0\n",
    "    ctm=[]\n",
    "    for d in datos: \n",
    "        car=''\n",
    "        if d[0:4]==nomb:\n",
    "            parar=False\n",
    "            size=1\n",
    "            while parar==False:\n",
    "                simi=model2.docvecs.most_similar(d,topn=topp)\n",
    "                for si in simi:\n",
    "                    if si[0][0:4]==nomb and mes.index(d[5:8])+1== mes.index(si[0][5:8]) and si[1]>0.55:\n",
    "                        size=size+1\n",
    "                        car=car+'-'+d+' '+si[0]+' '+str(round(si[1], 2))\n",
    "                        print('size', size) \n",
    "                        #print(car)\n",
    "                        tuples_todo.append((d,si[0],round(si[1], 2)))\n",
    "                        d=si[0]\n",
    "                        if si[0] in datos:\n",
    "                            print('remove',si[0])\n",
    "                            datos.remove(si[0])\n",
    "                        \n",
    "                        parar=False\n",
    "                        break\n",
    "                    else:\n",
    "                        #if size<3: \n",
    "                            #car='k'\n",
    "                        parar=True  \n",
    "            if size>=3:\n",
    "                ctm.append(car)\n",
    "        \n",
    "    return ctm"
   ]
  },
  {
   "cell_type": "markdown",
   "metadata": {},
   "source": [
    "sortLabels()"
   ]
  },
  {
   "cell_type": "raw",
   "metadata": {},
   "source": [
    "ct=Counter(x)\n",
    "listoTodo = sorted(x, key=itemgetter(0,1,2))\n",
    "ll_candidatos = [list(value) for key, value in groupby(listoTodo, lambda x: x[0:4])]"
   ]
  },
  {
   "cell_type": "code",
   "execution_count": 5,
   "metadata": {},
   "outputs": [
    {
     "name": "stdout",
     "output_type": "stream",
     "text": [
      "size 2\n",
      "remove Mari_jun_1\n",
      "size 2\n",
      "remove Mari_jun_6\n",
      "size 2\n",
      "size 2\n",
      "remove Mari_jul_2\n",
      "size 2\n",
      "remove Mari_ago_5\n",
      "size 2\n",
      "remove Mari_ago_4\n",
      "size 3\n",
      "remove Mari_set_4\n",
      "size 2\n"
     ]
    },
    {
     "name": "stderr",
     "output_type": "stream",
     "text": [
      "/usr/local/lib/python3.5/dist-packages/gensim/matutils.py:737: FutureWarning: Conversion of the second argument of issubdtype from `int` to `np.signedinteger` is deprecated. In future, it will be treated as `np.int64 == np.dtype(int).type`.\n",
      "  if np.issubdtype(vec.dtype, np.int):\n"
     ]
    },
    {
     "data": {
      "text/plain": [
       "['-Mari_jul_3 Mari_ago_4 0.56-Mari_ago_4 Mari_set_4 0.55']"
      ]
     },
     "execution_count": 5,
     "metadata": {},
     "output_type": "execute_result"
    }
   ],
   "source": [
    "concurrent_recu(20,'Mari')"
   ]
  },
  {
   "cell_type": "code",
   "execution_count": 6,
   "metadata": {},
   "outputs": [
    {
     "data": {
      "text/plain": [
       "['-Alva_mai_2 Alva_jun_7 0.6-Alva_jun_7 Alva_jul_4 0.57-Alva_jul_4 Alva_ago_5 0.59',\n",
       " '-Alva_mai_7 Alva_jun_16 0.55-Alva_jun_16 Alva_jul_10 0.55',\n",
       " '-Alva_mai_3 Alva_jun_7 0.57-Alva_jun_7 Alva_jul_4 0.57-Alva_jul_4 Alva_ago_5 0.59',\n",
       " '-Alva_jun_2 Alva_jul_4 0.55-Alva_jul_4 Alva_ago_5 0.59',\n",
       " '-Alva_jun_7 Alva_jul_4 0.57-Alva_jul_4 Alva_ago_5 0.59']"
      ]
     },
     "execution_count": 6,
     "metadata": {},
     "output_type": "execute_result"
    }
   ],
   "source": [
    "['-Joao_mai_2 Joao_jun_3 0.55-Joao_jun_3 Joao_jul_6 0.55',\n",
    " '-Joao_jun_3 Joao_jul_19 0.58-Joao_jul_19 Joao_ago_9 0.56']\n",
    "\n",
    "['-Alva_mai_2 Alva_jun_7 0.6-Alva_jun_7 Alva_jul_4 0.57-Alva_jul_4 Alva_ago_5 0.59',\n",
    " '-Alva_mai_7 Alva_jun_16 0.55-Alva_jun_16 Alva_jul_10 0.55',\n",
    " '-Alva_mai_3 Alva_jun_7 0.57-Alva_jun_7 Alva_jul_4 0.57-Alva_jul_4 Alva_ago_5 0.59',\n",
    " '-Alva_jun_2 Alva_jul_4 0.55-Alva_jul_4 Alva_ago_5 0.59',\n",
    " '-Alva_jun_7 Alva_jul_4 0.57-Alva_jul_4 Alva_ago_5 0.59']"
   ]
  },
  {
   "cell_type": "code",
   "execution_count": null,
   "metadata": {},
   "outputs": [],
   "source": []
  }
 ],
 "metadata": {
  "kernelspec": {
   "display_name": "Python 3",
   "language": "python",
   "name": "python3"
  },
  "language_info": {
   "codemirror_mode": {
    "name": "ipython",
    "version": 3
   },
   "file_extension": ".py",
   "mimetype": "text/x-python",
   "name": "python",
   "nbconvert_exporter": "python",
   "pygments_lexer": "ipython3",
   "version": "3.5.2"
  }
 },
 "nbformat": 4,
 "nbformat_minor": 2
}
