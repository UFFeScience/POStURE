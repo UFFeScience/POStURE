{
 "cells": [
  {
   "cell_type": "code",
   "execution_count": 1,
   "metadata": {},
   "outputs": [],
   "source": [
    "from gensim.models.doc2vec import Doc2Vec\n",
    "from operator import itemgetter\n",
    "from collections import Counter\n",
    "from itertools import groupby\n",
    "import pandas as pd\n",
    "import numpy as np\n",
    "import gensim                                                  \n",
    "import matplotlib.pyplot as plt\n",
    "import matplotlib.patches as mpatches\n",
    "import math"
   ]
  },
  {
   "cell_type": "markdown",
   "metadata": {},
   "source": [
    "### Doc2vec"
   ]
  },
  {
   "cell_type": "code",
   "execution_count": 2,
   "metadata": {},
   "outputs": [],
   "source": [
    "model_d2v = Doc2Vec.load('./modeloDoc2vec_setembro_premas40')\n",
    "labels_d2v = list(model_d2v.docvecs.doctags.keys())\n",
    "indices=['Alva','Bols','Ciro','Gera','Guil','Henr','Joao','Mari']\n",
    "selecs=[]\n",
    "for i in labels_d2v:\n",
    "    if i[0:4] in indices:\n",
    "        selecs.append(i)\n",
    "labels_d2v=selecs"
   ]
  },
  {
   "cell_type": "markdown",
   "metadata": {},
   "source": [
    "## TF-IDF"
   ]
  },
  {
   "cell_type": "code",
   "execution_count": 3,
   "metadata": {},
   "outputs": [],
   "source": [
    "df=pd.read_pickle('/home/kid/Documentos/analisis2018/pandas_data_candidatos_premas.pd')"
   ]
  },
  {
   "cell_type": "code",
   "execution_count": 4,
   "metadata": {},
   "outputs": [],
   "source": [
    "from sklearn.feature_extraction.text import TfidfVectorizer\n",
    "tfidf = TfidfVectorizer(use_idf=True, norm=None, ngram_range=(1, 1)) \n",
    "#X = tfidf.fit_transform(te)\n",
    "matrix = tfidf.fit_transform(df.Text_clean).toarray()\n",
    "labels_tfidf=list(df.abreviatura)\n",
    "vectors_tfidf=list(matrix)\n",
    "lt=[]\n",
    "vt=[]\n",
    "for i,j in zip(labels_tfidf,vectors_tfidf):\n",
    "    if i[0:4] in indices:\n",
    "        lt.append(i)\n",
    "        vt.append(j)\n",
    "labels_tfidf=lt\n",
    "vectors_tfidf=vt"
   ]
  },
  {
   "cell_type": "code",
   "execution_count": 5,
   "metadata": {},
   "outputs": [
    {
     "data": {
      "text/plain": [
       "(753, 55788)"
      ]
     },
     "execution_count": 5,
     "metadata": {},
     "output_type": "execute_result"
    }
   ],
   "source": [
    "matriz_tfidf=np.asarray(vectors_tfidf) #conver in matriz\n",
    "matriz_tfidf.shape"
   ]
  },
  {
   "cell_type": "code",
   "execution_count": 6,
   "metadata": {},
   "outputs": [
    {
     "name": "stderr",
     "output_type": "stream",
     "text": [
      "/usr/local/lib/python3.5/dist-packages/gensim/matutils.py:737: FutureWarning: Conversion of the second argument of issubdtype from `int` to `np.signedinteger` is deprecated. In future, it will be treated as `np.int64 == np.dtype(int).type`.\n",
      "  if np.issubdtype(vec.dtype, np.int):\n"
     ]
    },
    {
     "data": {
      "text/plain": [
       "753"
      ]
     },
     "execution_count": 6,
     "metadata": {},
     "output_type": "execute_result"
    }
   ],
   "source": [
    "index = gensim.similarities.MatrixSimilarity(gensim.matutils.Dense2Corpus(matriz_tfidf.T))\n",
    "similarity_matrix_tfidf = []\n",
    "for sims in index:\n",
    "    similarity_matrix_tfidf.append(sims)\n",
    "similarity_matrix_tfidf = np.array(similarity_matrix_tfidf)\n",
    "len(similarity_matrix_tfidf[0])"
   ]
  },
  {
   "cell_type": "code",
   "execution_count": 7,
   "metadata": {},
   "outputs": [],
   "source": [
    "def most_simi(doc,num=10):\n",
    "    pos=labels_tfidf.index(doc)\n",
    "    simis=list(similarity_matrix_tfidf[pos][:])\n",
    "    zipsimi=list(zip(labels_tfidf,simis))\n",
    "    zipsimi.sort(key=lambda x: x[1],reverse=True)\n",
    "    return zipsimi[1:num+1]"
   ]
  },
  {
   "cell_type": "code",
   "execution_count": 8,
   "metadata": {},
   "outputs": [],
   "source": [
    "def most_simi_can(doc1,doc2):\n",
    "    pos1=labels_tfidf.index(doc1)\n",
    "    pos2=labels_tfidf.index(doc2)\n",
    "    return similarity_matrix_tfidf[pos1][pos2]"
   ]
  },
  {
   "cell_type": "markdown",
   "metadata": {},
   "source": [
    "# -------------------------------------------------------------------------------------------------------------"
   ]
  },
  {
   "cell_type": "code",
   "execution_count": 10,
   "metadata": {},
   "outputs": [],
   "source": [
    "def strongs(labels,model,minsimi,tipo):\n",
    "    final_strongs=[]\n",
    "    nomes=[]\n",
    "    for t in labels:\n",
    "        nomes.append(t[0:4])\n",
    "    ct=Counter(nomes)\n",
    "    listoTodo = sorted(labels, key=itemgetter(0,1,2))\n",
    "    ll_candidatos = [list(value) for key, value in groupby(listoTodo, lambda x: x[0:4])]\n",
    "    #print(ll_candidatos)\n",
    "    not_repeat=[]\n",
    "    test=[]\n",
    "    for i in range(len(ll_candidatos)): #recorre lista grande\n",
    "        for j in ll_candidatos[i]: #sacas el principal\n",
    "            for k in range(i+1,len(ll_candidatos)): # las restantes listas de listas \n",
    "                for l in ll_candidatos[k]: # elementos de los subgrupos\n",
    "                    if tipo==1:\n",
    "                        similarity=most_simi_can(j,l)\n",
    "                    else:\n",
    "                        similarity=model.docvecs.similarity(j,l)\n",
    "                    if similarity>=minsimi:\n",
    "                        test.append(j)\n",
    "                        test.append(l)\n",
    "                        #print(j,l)\n",
    "                        #nomes.append(j[0:8]+', '+l[0:8])\n",
    "                        final_strongs.append((j,l,similarity))\n",
    "            #print('--------------------------------------------------------------------------------------------------')\n",
    "    final_strongs=sorted(final_strongs, key=lambda x: x[2],reverse=True)\n",
    "    return final_strongs"
   ]
  },
  {
   "cell_type": "raw",
   "metadata": {},
   "source": [
    "strongs(labels_tfidf,model_d2v,0.35,1)"
   ]
  },
  {
   "cell_type": "code",
   "execution_count": 11,
   "metadata": {},
   "outputs": [],
   "source": [
    "def names(list_par):\n",
    "    mes_en=['September','October','November','December','January','February','March','April','May','June','July','August','September']\n",
    "    mes_pt=['ant','out','nov', 'dez', 'jan', 'fev', 'mar', 'abr', 'mai', 'jun', 'jul', 'ago','set']\n",
    "    indices=['Alva','Bols','Ciro','Gera','Guil','Henr','Joao','Mari']\n",
    "    colors=['#9C661F','r','b','#7FFF00','#FFB90F','violet','aqua','black']\n",
    "    combi=[]\n",
    "    nombs=[]\n",
    "    for x in list_par:\n",
    "        if x[0][:4] in indices and x[1][:4] in indices:\n",
    "            mes_name0=mes_en[mes_pt.index(x[0][5:8])][:3]\n",
    "            mes_name1=mes_en[mes_pt.index(x[1][5:8])][:3]\n",
    "            #print(x[0][5:8],mes_en[mes_pt.index(x[0][5:8])][:3])\n",
    "            combi.append((colors[(indices.index(x[0][:4]))],colors[(indices.index(x[1][:4]))]))\n",
    "            #x[0][5:8]=mes_name0\n",
    "            #x[1][5:8]=mes_name1\n",
    "            a=x[0][0:5]+mes_name0\n",
    "            b=x[1][0:5]+mes_name1\n",
    "            nombs.append(a+', '+b)\n",
    "    return combi, nombs"
   ]
  },
  {
   "cell_type": "code",
   "execution_count": 12,
   "metadata": {},
   "outputs": [
    {
     "name": "stdout",
     "output_type": "stream",
     "text": [
      "['Guil_jan_2', 'Guil_jan_3']\n",
      "['Alva_jun_14', 'Guil_jul_9']\n"
     ]
    }
   ],
   "source": [
    "print(labels_tfidf[:2])\n",
    "print(labels_d2v[:2])"
   ]
  },
  {
   "cell_type": "code",
   "execution_count": 13,
   "metadata": {},
   "outputs": [],
   "source": [
    "#ss, nombs=strongs(labels_d2v,model_d2v,0.6)\n",
    "list_par=strongs(labels_tfidf,model_d2v,0.35,1)"
   ]
  },
  {
   "cell_type": "code",
   "execution_count": 23,
   "metadata": {},
   "outputs": [
    {
     "name": "stderr",
     "output_type": "stream",
     "text": [
      "/usr/local/lib/python3.5/dist-packages/gensim/matutils.py:737: FutureWarning: Conversion of the second argument of issubdtype from `int` to `np.signedinteger` is deprecated. In future, it will be treated as `np.int64 == np.dtype(int).type`.\n",
      "  if np.issubdtype(vec.dtype, np.int):\n"
     ]
    }
   ],
   "source": [
    "list_par2=strongs(labels_d2v,model_d2v,0.6,2)"
   ]
  },
  {
   "cell_type": "code",
   "execution_count": 24,
   "metadata": {},
   "outputs": [
    {
     "data": {
      "text/plain": [
       "[('Ciro_jun_8', 'Guil_mai_14', 0.73728955),\n",
       " ('Alva_abr_15', 'Henr_nov_2', 0.69093204),\n",
       " ('Alva_abr_15', 'Guil_mar_5', 0.6562288),\n",
       " ('Guil_mai_6', 'Joao_mar_4', 0.6556229),\n",
       " ('Ciro_jun_8', 'Henr_nov_2', 0.6504773),\n",
       " ('Alva_abr_15', 'Ciro_jun_8', 0.63688433),\n",
       " ('Alva_jan_2', 'Guil_fev_3', 0.63229626),\n",
       " ('Guil_ago_13', 'Joao_ago_10', 0.628788),\n",
       " ('Alva_abr_15', 'Guil_mai_14', 0.6193976),\n",
       " ('Bols_mai_9', 'Guil_mai_14', 0.6179192),\n",
       " ('Guil_mai_14', 'Henr_nov_2', 0.61724025),\n",
       " ('Henr_ago_1', 'Mari_ago_3', 0.6148591),\n",
       " ('Gera_mai_3', 'Henr_ago_4', 0.6113782),\n",
       " ('Gera_jun_7', 'Mari_jun_11', 0.6084893),\n",
       " ('Bols_mai_6', 'Gera_mai_3', 0.6045597),\n",
       " ('Alva_dez_2', 'Gera_ant_3', 0.6039846),\n",
       " ('Ciro_jun_8', 'Joao_mai_6', 0.60043365),\n",
       " ('Ciro_dez_8', 'Henr_nov_1', 0.60040146)]"
      ]
     },
     "execution_count": 24,
     "metadata": {},
     "output_type": "execute_result"
    }
   ],
   "source": [
    "list_par2"
   ]
  },
  {
   "cell_type": "code",
   "execution_count": 14,
   "metadata": {},
   "outputs": [
    {
     "data": {
      "text/plain": [
       "[('Alva_mai_5', 'Ciro_mai_4', 0.43423378),\n",
       " ('Alva_mai_5', 'Gera_mai_1', 0.41108805),\n",
       " ('Alva_jun_9', 'Guil_mai_6', 0.40153122),\n",
       " ('Alva_mai_5', 'Mari_mai_3', 0.39553216),\n",
       " ('Alva_mai_5', 'Gera_jun_6', 0.38924608),\n",
       " ('Guil_ago_13', 'Joao_ago_10', 0.3889293),\n",
       " ('Guil_mai_6', 'Joao_mar_4', 0.386061),\n",
       " ('Alva_mai_5', 'Henr_mai_4', 0.38335273),\n",
       " ('Henr_set_6', 'Joao_ago_9', 0.3774339),\n",
       " ('Gera_mai_1', 'Henr_mai_4', 0.37056988),\n",
       " ('Alva_mai_5', 'Bols_mai_5', 0.3664909),\n",
       " ('Henr_ago_1', 'Joao_ago_8', 0.36474133),\n",
       " ('Guil_ago_1', 'Mari_ago_3', 0.36364147),\n",
       " ('Ciro_set_2', 'Gera_ago_7', 0.3613831),\n",
       " ('Guil_ago_13', 'Henr_ago_5', 0.3598764),\n",
       " ('Joao_ago_9', 'Mari_ago_4', 0.35790604),\n",
       " ('Henr_mai_4', 'Mari_mai_3', 0.35429937),\n",
       " ('Gera_ago_7', 'Joao_ago_9', 0.35330188)]"
      ]
     },
     "execution_count": 14,
     "metadata": {},
     "output_type": "execute_result"
    }
   ],
   "source": [
    "list_par"
   ]
  },
  {
   "cell_type": "code",
   "execution_count": 15,
   "metadata": {},
   "outputs": [],
   "source": [
    "colrs,names=names(list_par)"
   ]
  },
  {
   "cell_type": "markdown",
   "metadata": {},
   "source": [
    "## plot"
   ]
  },
  {
   "cell_type": "code",
   "execution_count": 16,
   "metadata": {},
   "outputs": [
    {
     "name": "stdout",
     "output_type": "stream",
     "text": [
      "8\n"
     ]
    },
    {
     "data": {
      "image/png": "[encoded data removed]",
      "text/plain": [
       "<Figure size 468x396 with 1 Axes>"
      ]
     },
     "metadata": {},
     "output_type": "display_data"
    }
   ],
   "source": [
    "import matplotlib.patches as mpatches\n",
    "cads=['Alvaro Dias','Jair Bolsonaro','Ciro Gomes','Geraldo Alckmin','Guilherme Boulos','Henrique Meirelles','João Amoêdo','Marina Silva']\n",
    "mc=['#9C661F','r','b','#7FFF00','#FFB90F','violet','aqua','black']\n",
    "\n",
    "junto=[]\n",
    "for candi, color in zip(cads,mc):\n",
    "    junto.append(mpatches.Patch(color=color, label=candi))\n",
    "print(len(junto))\n",
    "\n",
    "par1=[]\n",
    "par2=[]\n",
    "pos=len(list_par)\n",
    "i=0\n",
    "iss=[]\n",
    "fig, ax = plt.subplots(figsize=(6.5,5.5))\n",
    "xmin=0.33\n",
    "for t,y in zip(list_par, colrs):\n",
    "    falta=xmin-t[2]/2\n",
    "    complemento=t[2]-xmin\n",
    "    #print(var)\n",
    "    iss.append(i)\n",
    "    #print('kid',t[2]/2+var)\n",
    "    p1=t[2]/2+falta+complemento/2\n",
    "    p2=complemento/2\n",
    "    #print('p1: ',p1,p2)\n",
    "    par1.append(p1)\n",
    "    par2.append(p2)\n",
    "    #print(par1,par2)\n",
    "    plt.bar(i,par1,color=y[0],edgecolor='white',alpha=0.70)\n",
    "    plt.bar(i,par2,color=y[1],edgecolor='white',bottom=par1,alpha=0.70)\n",
    "    par1=[]\n",
    "    par2=[]\n",
    "    i=i+1.2\n",
    "    \n",
    "plt.xticks(iss, names, rotation=90)#rotation=90\n",
    "#plt.yticks(rotation=90)\n",
    "plt.xlabel('Pairs of Strong Similarity ('+str(len(list_par))+')', fontsize=16 )#rotation=180\n",
    "plt.ylabel('Similarity', fontsize=16)\n",
    "#ax.invert_yaxis() \n",
    "#plt.title('Stacked Barchart - Happiness index across cities',fontsize=18)\n",
    "#plt.legend(indices,loc=4)\n",
    "#plt.legend(handles=junto,fontsize=8.5,loc=(0.65, 0.65))\n",
    "ax.spines['right'].set_visible(False)\n",
    "ax.spines['top'].set_visible(False)\n",
    "ax.spines['left'].set_visible(False)\n",
    "ax.spines['bottom'].set_visible(False)\n",
    "ss=[xmin,0.45]\n",
    "ax.set_ylim(ss)\n",
    "plt.legend(handles=junto,fontsize=8.5,loc=(0.65, 0.65))\n",
    "plt.show()"
   ]
  },
  {
   "cell_type": "markdown",
   "metadata": {},
   "source": [
    "# tamaños doc"
   ]
  },
  {
   "cell_type": "code",
   "execution_count": 17,
   "metadata": {},
   "outputs": [],
   "source": [
    "colorCod=['#9ACD32', '#808000','#ae7181', '#cb416b']\n",
    "xs=['Pair-1','Pair-2','Pair-3','Pair-4','Pair-5','Pair-6','Pair-7','Pair-8','Pair-9','Pair-10','Pair-11','Pair-12','Pair-13','Pair-14','Pair-15','Pair-16','Pair-17','Pair-18']"
   ]
  },
  {
   "cell_type": "code",
   "execution_count": 18,
   "metadata": {},
   "outputs": [
    {
     "data": {
      "text/html": [
       "<div>\n",
       "<style scoped>\n",
       "    .dataframe tbody tr th:only-of-type {\n",
       "        vertical-align: middle;\n",
       "    }\n",
       "\n",
       "    .dataframe tbody tr th {\n",
       "        vertical-align: top;\n",
       "    }\n",
       "\n",
       "    .dataframe thead th {\n",
       "        text-align: right;\n",
       "    }\n",
       "</style>\n",
       "<table border=\"1\" class=\"dataframe\">\n",
       "  <thead>\n",
       "    <tr style=\"text-align: right;\">\n",
       "      <th></th>\n",
       "      <th>Candidato</th>\n",
       "      <th>Id_doc</th>\n",
       "      <th>Mes</th>\n",
       "      <th>Text</th>\n",
       "      <th>Title</th>\n",
       "      <th>Weights_kbs</th>\n",
       "      <th>Text_clean</th>\n",
       "      <th>abreviatura</th>\n",
       "    </tr>\n",
       "  </thead>\n",
       "  <tbody>\n",
       "    <tr>\n",
       "      <th>0</th>\n",
       "      <td>Guilherme Boulos</td>\n",
       "      <td>2</td>\n",
       "      <td>janeiro</td>\n",
       "      <td>﻿no próximo dia 24 teremos uma grande  batalha...</td>\n",
       "      <td>Guilherme Boulos _ Julgamento do Lula - 24 de ...</td>\n",
       "      <td>1572</td>\n",
       "      <td>batalha trf marcou julgamento porto_alegre ant...</td>\n",
       "      <td>Guil_jan_2</td>\n",
       "    </tr>\n",
       "    <tr>\n",
       "      <th>1</th>\n",
       "      <td>Guilherme Boulos</td>\n",
       "      <td>3</td>\n",
       "      <td>janeiro</td>\n",
       "      <td>﻿à noite a todas e todos  é uma satisfação est...</td>\n",
       "      <td>Guilherme Boulos _ DIA 24 É DIA DE ENFRENTAR A...</td>\n",
       "      <td>3657</td>\n",
       "      <td>satisfação une seguramente defesa democracia d...</td>\n",
       "      <td>Guil_jan_3</td>\n",
       "    </tr>\n",
       "  </tbody>\n",
       "</table>\n",
       "</div>"
      ],
      "text/plain": [
       "          Candidato Id_doc      Mes  \\\n",
       "0  Guilherme Boulos      2  janeiro   \n",
       "1  Guilherme Boulos      3  janeiro   \n",
       "\n",
       "                                                Text  \\\n",
       "0  ﻿no próximo dia 24 teremos uma grande  batalha...   \n",
       "1  ﻿à noite a todas e todos  é uma satisfação est...   \n",
       "\n",
       "                                               Title  Weights_kbs  \\\n",
       "0  Guilherme Boulos _ Julgamento do Lula - 24 de ...         1572   \n",
       "1  Guilherme Boulos _ DIA 24 É DIA DE ENFRENTAR A...         3657   \n",
       "\n",
       "                                          Text_clean abreviatura  \n",
       "0  batalha trf marcou julgamento porto_alegre ant...  Guil_jan_2  \n",
       "1  satisfação une seguramente defesa democracia d...  Guil_jan_3  "
      ]
     },
     "execution_count": 18,
     "metadata": {},
     "output_type": "execute_result"
    }
   ],
   "source": [
    "df.head(2)"
   ]
  },
  {
   "cell_type": "code",
   "execution_count": 19,
   "metadata": {},
   "outputs": [],
   "source": [
    "def getDoc(abr):\n",
    "    return abr, list(df[df.abreviatura==abr]['Text_clean'])[0]"
   ]
  },
  {
   "cell_type": "code",
   "execution_count": 20,
   "metadata": {},
   "outputs": [],
   "source": [
    "def get_ntokens_dos(list_par):\n",
    "    d1=[]\n",
    "    d2=[]\n",
    "    for i in list_par:\n",
    "        d1.append(len(getDoc(i[0])[1].split()))\n",
    "        d2.append(len(getDoc(i[1])[1].split()))\n",
    "        #d2.append(getDoc(j[0])[1].split())\n",
    "        #d2.append(getDoc(j[1])[1].split())\n",
    "    return d1, d2"
   ]
  },
  {
   "cell_type": "code",
   "execution_count": 21,
   "metadata": {},
   "outputs": [
    {
     "ename": "NameError",
     "evalue": "name 'list_par2' is not defined",
     "output_type": "error",
     "traceback": [
      "\u001b[0;31m---------------------------------------------------------------------------\u001b[0m",
      "\u001b[0;31mNameError\u001b[0m                                 Traceback (most recent call last)",
      "\u001b[0;32m<ipython-input-21-f0e10adae618>\u001b[0m in \u001b[0;36m<module>\u001b[0;34m()\u001b[0m\n\u001b[1;32m      1\u001b[0m \u001b[0ma1\u001b[0m\u001b[0;34m,\u001b[0m\u001b[0ma2\u001b[0m\u001b[0;34m=\u001b[0m\u001b[0mnp\u001b[0m\u001b[0;34m.\u001b[0m\u001b[0marray\u001b[0m\u001b[0;34m(\u001b[0m\u001b[0mget_ntokens_dos\u001b[0m\u001b[0;34m(\u001b[0m\u001b[0mlist_par\u001b[0m\u001b[0;34m)\u001b[0m\u001b[0;34m)\u001b[0m\u001b[0;34m\u001b[0m\u001b[0m\n\u001b[0;32m----> 2\u001b[0;31m \u001b[0mb1\u001b[0m\u001b[0;34m,\u001b[0m\u001b[0mb2\u001b[0m\u001b[0;34m=\u001b[0m\u001b[0mnp\u001b[0m\u001b[0;34m.\u001b[0m\u001b[0marray\u001b[0m\u001b[0;34m(\u001b[0m\u001b[0mget_ntokens_dos\u001b[0m\u001b[0;34m(\u001b[0m\u001b[0mlist_par2\u001b[0m\u001b[0;34m)\u001b[0m\u001b[0;34m)\u001b[0m\u001b[0;34m\u001b[0m\u001b[0m\n\u001b[0m\u001b[1;32m      3\u001b[0m \u001b[0mtodito\u001b[0m\u001b[0;34m=\u001b[0m\u001b[0mnp\u001b[0m\u001b[0;34m.\u001b[0m\u001b[0marray\u001b[0m\u001b[0;34m(\u001b[0m\u001b[0;34m[\u001b[0m\u001b[0ma1\u001b[0m\u001b[0;34m,\u001b[0m\u001b[0ma2\u001b[0m\u001b[0;34m,\u001b[0m\u001b[0mb1\u001b[0m\u001b[0;34m,\u001b[0m\u001b[0mb2\u001b[0m\u001b[0;34m]\u001b[0m\u001b[0;34m)\u001b[0m\u001b[0;34m\u001b[0m\u001b[0m\n\u001b[1;32m      4\u001b[0m \u001b[0mtodito\u001b[0m\u001b[0;34m=\u001b[0m\u001b[0mtodito\u001b[0m\u001b[0;34m.\u001b[0m\u001b[0mT\u001b[0m\u001b[0;34m\u001b[0m\u001b[0m\n",
      "\u001b[0;31mNameError\u001b[0m: name 'list_par2' is not defined"
     ]
    }
   ],
   "source": [
    "a1,a2=np.array(get_ntokens_dos(list_par))\n",
    "b1,b2=np.array(get_ntokens_dos(list_par2))\n",
    "todito=np.array([a1,a2,b1,b2])\n",
    "todito=todito.T"
   ]
  },
  {
   "cell_type": "code",
   "execution_count": null,
   "metadata": {},
   "outputs": [],
   "source": [
    "todito"
   ]
  },
  {
   "cell_type": "code",
   "execution_count": null,
   "metadata": {},
   "outputs": [],
   "source": [
    "import matplotlib.pyplot as plt\n",
    "import matplotlib.collections as mcol\n",
    "from matplotlib.legend_handler import HandlerLineCollection, HandlerTuple\n",
    "from matplotlib.lines import Line2D\n",
    "import numpy as np\n",
    "df2 = pd.DataFrame(todito, columns=['doc1 Tf-idf','doc2 Tf-idf','doc1 Doc2vec','doc2 Doc2vec'])\n",
    "ax=df2.plot.bar(color=colorCod);\n",
    "ax.set_xticklabels(xs)\n",
    "p1 = ax.scatter([], [], c='#9ACD32', marker='s', s=50)\n",
    "p2 = ax.scatter([], [], c='#808000', marker='s', s=60)\n",
    "p3 = ax.scatter([], [], c='#ae7181', marker='s', s=50)\n",
    "p4 = ax.scatter([], [], c='#cb416b', marker='s', s=60)\n",
    "ax.legend([(p1, p2), (p3,p4)], ['TF-IDF Pairs', 'Doc2Vec Pairs'], scatterpoints=1,\n",
    "               numpoints=1, handler_map={tuple: HandlerTuple(ndivide=None)})\n",
    "\n",
    "plt.ylabel('Size documents by tokens')\n",
    "plt.xlabel('18-most strong pairs speeches')"
   ]
  },
  {
   "cell_type": "markdown",
   "metadata": {},
   "source": [
    "## Constan speeches from Aline"
   ]
  },
  {
   "cell_type": "code",
   "execution_count": 9,
   "metadata": {},
   "outputs": [],
   "source": [
    "def sortLabels(labels):\n",
    "    mes=['ant','out','nov','dez','jan','fev','mar','abr','mai','jun','jul','ago','set']\n",
    "    sorterData=[]\n",
    "    for m in mes:\n",
    "        temp_mes=[]\n",
    "        for la in labels:\n",
    "            if m==la[5:8]:\n",
    "                 temp_mes.append(la)\n",
    "        sorterData.append(temp_mes)\n",
    "    return sorterData"
   ]
  },
  {
   "cell_type": "code",
   "execution_count": 10,
   "metadata": {},
   "outputs": [],
   "source": [
    "def sort_speeches(labels): # candidate\n",
    "    nomes=[]\n",
    "    for t in labels:\n",
    "        nomes.append(t[0:4])\n",
    "    ct=Counter(nomes)\n",
    "    listoTodo = sorted(labels, key=itemgetter(0,1,2))\n",
    "    ll_candidatos = [list(value) for key, value in groupby(listoTodo, lambda x: x[0:4])]\n",
    "    #print(ll_candidatos)\n",
    "    return ll_candidatos"
   ]
  },
  {
   "cell_type": "code",
   "execution_count": 11,
   "metadata": {},
   "outputs": [],
   "source": [
    "def set_contenedor(labels):\n",
    "    lis_s=sort_speeches(labels)\n",
    "    contenedor=[]\n",
    "    for candidato in lis_s:\n",
    "        contenedor.append(sortLabels(candidato))\n",
    "    return contenedor"
   ]
  },
  {
   "cell_type": "code",
   "execution_count": 12,
   "metadata": {},
   "outputs": [],
   "source": [
    "def most_similariti(doc,listdocs,k,mini,tmodel=2):\n",
    "    similars=[]\n",
    "    #listdocs.remove(doc)\n",
    "    for i in listdocs:\n",
    "        if tmodel==1:\n",
    "            act_simi=most_simi_can(i,doc)\n",
    "        else:\n",
    "            act_simi=model_d2v.docvecs.similarity(i,doc)\n",
    "        if act_simi>=mini:\n",
    "            similars.append((i,act_simi))\n",
    "    similars=sorted(similars, key=lambda x: x[1],reverse=True)\n",
    "    return similars"
   ]
  },
  {
   "cell_type": "code",
   "execution_count": 13,
   "metadata": {},
   "outputs": [],
   "source": [
    "#contenedor=set_contenedor(labels_d2v)\n",
    "\n",
    "def get_speeches(candidato,index_mes,tmodel=2):\n",
    "    if tmodel==1:\n",
    "        contenedor=set_contenedor(labels_tfidf)\n",
    "    else:\n",
    "        contenedor=set_contenedor(labels_d2v)\n",
    "    mes=['ant','out','nov','dez','jan','fev','mar','abr','mai','jun','jul','ago','set']\n",
    "    can=['Alva','Bols','Ciro','Gera','Guil','Henr','Joao','Mari']\n",
    "    c_bus=can.index(candidato)\n",
    "    m_bus=index_mes\n",
    "    #print('matrix: ',c_bus,m_bus)       \n",
    "    return contenedor[c_bus][m_bus]    #retorna lista d speches de un candidato en el mes tal"
   ]
  },
  {
   "cell_type": "code",
   "execution_count": 14,
   "metadata": {},
   "outputs": [
    {
     "data": {
      "text/plain": [
       "['Bols_set_1']"
      ]
     },
     "execution_count": 14,
     "metadata": {},
     "output_type": "execute_result"
    }
   ],
   "source": [
    "get_speeches('Bols',12)"
   ]
  },
  {
   "cell_type": "raw",
   "metadata": {},
   "source": [
    "k=2\n",
    "min_sim=0.6\n",
    "mes=['ant','out','nov','dez','jan','fev','mar','abr','mai','jun','jul','ago','set']\n",
    "sequencia=[]\n",
    "min_secuencia=3\n",
    "mp=6\n",
    "mq=13\n",
    "m_in=mp\n",
    "m_out=mq-(min_secuencia-1)\n",
    "candidato='Bols'"
   ]
  },
  {
   "cell_type": "raw",
   "metadata": {},
   "source": [
    "print(m_in,m_out)"
   ]
  },
  {
   "cell_type": "raw",
   "metadata": {},
   "source": [
    "get_speeches(candidato,m_in+1)"
   ]
  },
  {
   "cell_type": "raw",
   "metadata": {},
   "source": [
    "k=2\n",
    "min_sim=0.50\n",
    "mes=['ant','out','nov','dez','jan','fev','mar','abr','mai','jun','jul','ago','set']\n",
    "sequencia=[]\n",
    "min_secuencia=3\n",
    "mp=0\n",
    "mq=12\n",
    "m_in=mp\n",
    "m_out=mq-(min_secuencia-1)\n",
    "candidato='Alva'\n",
    "seq_speeches=[]\n",
    "while m_in<m_out:\n",
    "    #print(m_in, m_out)\n",
    "    speeches_inMes=get_speeches(candidato,m_in)\n",
    "    #print('speeches_inMes',speeches_inMes)\n",
    "    x=m_in #2 nov\n",
    "    \n",
    "    size=1\n",
    "    #print('w1')\n",
    "    secuence=[]\n",
    "    for s in speeches_inMes:\n",
    "        #print('f1',s)\n",
    "        #print('s->',s)\n",
    "        secuence.append(s)\n",
    "        size=1\n",
    "        while x<mq:\n",
    "            #print('x',x)\n",
    "            #print('spe_entrada',s)\n",
    "            speeches_inNextMes=get_speeches(candidato,x+1)\n",
    "            similar=most_similariti(s,speeches_inNextMes,k,min_sim)\n",
    "            print('similar: ',similar)\n",
    "            if len(similar)>0:\n",
    "                temp_sec=[]\n",
    "                for f in similar:\n",
    "                    #s=f[0]\n",
    "                    #print('f2')\n",
    "                    #print('len ',secuence)\n",
    "                    for i in range(len(secuence)):\n",
    "                        #print('antes de sumar: ',secuence[i])\n",
    "                        algo=secuence[i]+'-'+f[0]+'-'+str(f[1])\n",
    "                        temp_sec.append(algo)\n",
    "                        \n",
    "                        #temp_sec.append(seq+'-'+f[0])\n",
    "                    #print('ctmm ',temp_sec)\n",
    "                        #temp_sec.append(tmp)\n",
    "                    #secuence.append(temp_sec)\n",
    "                    #temp_sec=''\n",
    "                #secuence=temp_sec\n",
    "                #print('temp_sec',temp_sec)\n",
    "                size=size+1\n",
    "            else:\n",
    "                x=mq\n",
    "            x=x+1\n",
    "            \n",
    "            print('temp_sec2',temp_sec,'SIZE',size)\n",
    "            secuence=temp_sec\n",
    "        \n",
    "        if size>=min_secuencia:\n",
    "            print('secuenceee',secuence)\n",
    "            seq_speeches.append(secuence)\n",
    "        secuence=[]\n",
    "    m_in=m_in+1\n",
    "    print('---------------------------while--------------------------------------------------------')\n",
    "                        "
   ]
  },
  {
   "cell_type": "raw",
   "metadata": {},
   "source": [
    "seq_speeches"
   ]
  },
  {
   "cell_type": "raw",
   "metadata": {},
   "source": [
    "temp_sec"
   ]
  },
  {
   "cell_type": "markdown",
   "metadata": {},
   "source": [
    "## mejora"
   ]
  },
  {
   "cell_type": "code",
   "execution_count": 46,
   "metadata": {},
   "outputs": [
    {
     "name": "stdout",
     "output_type": "stream",
     "text": [
      "cand  ['Gera_jun_8', 'Gera_jun_5', 'Gera_jun_7', 'Gera_jun_4', 'Gera_jun_6', 'Gera_jun_2', 'Gera_jun_1', 'Gera_jun_3']\n",
      "entrando  Gera_jun_8\n",
      "9 < 12\n",
      "9 << 12\n",
      "speeches_inNextMes ['Gera_jul_4', 'Gera_jul_2', 'Gera_jul_1', 'Gera_jul_6', 'Gera_jul_3', 'Gera_jul_5']\n",
      "similar  [('Gera_jul_3', 0.536517), ('Gera_jul_1', 0.53482443)]\n",
      "********************************************************+\n",
      "10 << 12\n",
      "speeches_inNextMes ['Gera_ago_6', 'Gera_ago_5', 'Gera_ago_7', 'Gera_ago_3', 'Gera_ago_1', 'Gera_ago_4', 'Gera_ago_2']\n",
      "similar  [('Gera_ago_2', 0.53909016), ('Gera_ago_5', 0.5316376)]\n",
      "********************************************************+\n",
      "11 << 12\n",
      "speeches_inNextMes ['Gera_set_3', 'Gera_set_1', 'Gera_set_2', 'Gera_set_4']\n",
      "similar  [('Gera_set_1', 0.56768996)]\n",
      "********************************************************+\n",
      "entrando  Gera_jun_5\n",
      "9 < 12\n",
      "9 << 12\n",
      "speeches_inNextMes ['Gera_jul_4', 'Gera_jul_2', 'Gera_jul_1', 'Gera_jul_6', 'Gera_jul_3', 'Gera_jul_5']\n",
      "similar  []\n",
      "********************************************************+\n",
      "entrando  Gera_jun_7\n",
      "9 < 12\n",
      "9 << 12\n",
      "speeches_inNextMes ['Gera_jul_4', 'Gera_jul_2', 'Gera_jul_1', 'Gera_jul_6', 'Gera_jul_3', 'Gera_jul_5']\n",
      "similar  []\n",
      "********************************************************+\n",
      "entrando  Gera_jun_4\n",
      "9 < 12\n",
      "9 << 12\n",
      "speeches_inNextMes ['Gera_jul_4', 'Gera_jul_2', 'Gera_jul_1', 'Gera_jul_6', 'Gera_jul_3', 'Gera_jul_5']\n",
      "similar  [('Gera_jul_3', 0.56597817)]\n",
      "********************************************************+\n",
      "10 << 12\n",
      "speeches_inNextMes ['Gera_ago_6', 'Gera_ago_5', 'Gera_ago_7', 'Gera_ago_3', 'Gera_ago_1', 'Gera_ago_4', 'Gera_ago_2']\n",
      "similar  []\n",
      "********************************************************+\n",
      "entrando  Gera_jun_6\n",
      "9 < 12\n",
      "9 << 12\n",
      "speeches_inNextMes ['Gera_jul_4', 'Gera_jul_2', 'Gera_jul_1', 'Gera_jul_6', 'Gera_jul_3', 'Gera_jul_5']\n",
      "similar  [('Gera_jul_3', 0.5677789), ('Gera_jul_4', 0.5518768)]\n",
      "********************************************************+\n",
      "10 << 12\n",
      "speeches_inNextMes ['Gera_ago_6', 'Gera_ago_5', 'Gera_ago_7', 'Gera_ago_3', 'Gera_ago_1', 'Gera_ago_4', 'Gera_ago_2']\n",
      "similar  []\n",
      "********************************************************+\n",
      "entrando  Gera_jun_2\n",
      "9 < 12\n",
      "9 << 12\n",
      "speeches_inNextMes ['Gera_jul_4', 'Gera_jul_2', 'Gera_jul_1', 'Gera_jul_6', 'Gera_jul_3', 'Gera_jul_5']\n",
      "similar  [('Gera_jul_3', 0.5514252), ('Gera_jul_1', 0.53995836)]\n",
      "********************************************************+\n",
      "10 << 12\n",
      "speeches_inNextMes ['Gera_ago_6', 'Gera_ago_5', 'Gera_ago_7', 'Gera_ago_3', 'Gera_ago_1', 'Gera_ago_4', 'Gera_ago_2']\n",
      "similar  [('Gera_ago_5', 0.5313629)]\n",
      "********************************************************+\n",
      "11 << 12\n",
      "speeches_inNextMes ['Gera_set_3', 'Gera_set_1', 'Gera_set_2', 'Gera_set_4']\n",
      "similar  [('Gera_set_3', 0.54017955)]\n",
      "********************************************************+\n",
      "entrando  Gera_jun_1\n",
      "9 < 12\n",
      "9 << 12\n",
      "speeches_inNextMes ['Gera_jul_4', 'Gera_jul_2', 'Gera_jul_1', 'Gera_jul_6', 'Gera_jul_3', 'Gera_jul_5']\n",
      "similar  [('Gera_jul_1', 0.5441944), ('Gera_jul_4', 0.5308744)]\n",
      "********************************************************+\n",
      "10 << 12\n",
      "speeches_inNextMes ['Gera_ago_6', 'Gera_ago_5', 'Gera_ago_7', 'Gera_ago_3', 'Gera_ago_1', 'Gera_ago_4', 'Gera_ago_2']\n",
      "similar  [('Gera_ago_7', 0.5415928), ('Gera_ago_3', 0.53668857)]\n",
      "********************************************************+\n",
      "11 << 12\n",
      "speeches_inNextMes ['Gera_set_3', 'Gera_set_1', 'Gera_set_2', 'Gera_set_4']\n",
      "similar  []\n",
      "********************************************************+\n",
      "entrando  Gera_jun_3\n",
      "9 < 12\n",
      "9 << 12\n",
      "speeches_inNextMes ['Gera_jul_4', 'Gera_jul_2', 'Gera_jul_1', 'Gera_jul_6', 'Gera_jul_3', 'Gera_jul_5']\n",
      "similar  [('Gera_jul_5', 0.5554189), ('Gera_jul_1', 0.5370975), ('Gera_jul_2', 0.53415716)]\n",
      "********************************************************+\n",
      "10 << 12\n",
      "speeches_inNextMes ['Gera_ago_6', 'Gera_ago_5', 'Gera_ago_7', 'Gera_ago_3', 'Gera_ago_1', 'Gera_ago_4', 'Gera_ago_2']\n",
      "similar  []\n",
      "********************************************************+\n"
     ]
    },
    {
     "name": "stderr",
     "output_type": "stream",
     "text": [
      "/usr/local/lib/python3.5/dist-packages/gensim/matutils.py:737: FutureWarning: Conversion of the second argument of issubdtype from `int` to `np.signedinteger` is deprecated. In future, it will be treated as `np.int64 == np.dtype(int).type`.\n",
      "  if np.issubdtype(vec.dtype, np.int):\n"
     ]
    }
   ],
   "source": [
    "k=10\n",
    "min_sim=0.53\n",
    "mes=['ant','out','nov','dez','jan','fev','mar','abr','mai','jun','jul','ago','set']\n",
    "sequencia=[]\n",
    "min_secuencia=3\n",
    "mp=9\n",
    "mq=12\n",
    "m_in=mp\n",
    "m_out=mq-(min_secuencia-1)\n",
    "candidato='Gera'\n",
    "seq_speeches=[]\n",
    "while m_in<m_out:\n",
    "    speeches_inMes=get_speeches(candidato,m_in)\n",
    "    print('cand ',speeches_inMes)\n",
    "    #x=m_in #2 nov\n",
    "    size=1\n",
    "    secuence=[]\n",
    "    for s in speeches_inMes:\n",
    "        x=m_in\n",
    "        print('entrando ',s)\n",
    "        secuence.append(s)\n",
    "        size=1\n",
    "        print(x,'<',mq)\n",
    "        while x<mq:\n",
    "            print(x,'<<',mq)\n",
    "            speeches_inNextMes=get_speeches(candidato,x+1)\n",
    "            print('speeches_inNextMes',speeches_inNextMes)\n",
    "            similar=most_similariti(s,speeches_inNextMes,k,min_sim)\n",
    "            print('similar ',similar)\n",
    "            if len(similar)>0:\n",
    "                temp_sec=[]\n",
    "                for f in similar:\n",
    "                    for si in secuence:\n",
    "                        algo=si+'/'+f[0]#+'/'+str(f[1])\n",
    "                        temp_sec.append(algo)\n",
    "                size=size+1\n",
    "                secuence=temp_sec\n",
    "            else:\n",
    "                x=mq\n",
    "            x=x+1\n",
    "            print('********************************************************+')\n",
    "        if size>=min_secuencia:\n",
    "            seq_speeches.append(secuence)\n",
    "        secuence=[]\n",
    "    m_in=m_in+1                        "
   ]
  },
  {
   "cell_type": "code",
   "execution_count": null,
   "metadata": {},
   "outputs": [],
   "source": [
    "seq_speeches"
   ]
  },
  {
   "cell_type": "raw",
   "metadata": {},
   "source": [
    "for x in seq_speeches:\n",
    "    print('Con size:',len(x[0].split('/')),' cantidad:',len(x))\n",
    "    #print('size element: ',len(x[0].split('/')))\n",
    "    "
   ]
  },
  {
   "cell_type": "markdown",
   "metadata": {},
   "source": [
    "## Funcion implementada"
   ]
  },
  {
   "cell_type": "raw",
   "metadata": {},
   "source": [
    "def media_prob(pro):\n",
    "    n_m=[]\n",
    "    for y in pro:\n",
    "        for z in y:\n",
    "            n_m.append(z[1:].split('/'))\n",
    "    mm=np.array(n_m).T\n",
    "    res=[]\n",
    "    suma=0\n",
    "    for u in mm:\n",
    "        for v in u:\n",
    "            suma=suma+float(v)\n",
    "        res.append(round((suma/len(u)),2))\n",
    "        suma=0\n",
    "    return res"
   ]
  },
  {
   "cell_type": "code",
   "execution_count": 22,
   "metadata": {},
   "outputs": [
    {
     "data": {
      "text/plain": [
       "['Ciro_fev_4',\n",
       " 'Ciro_fev_3',\n",
       " 'Ciro_fev_5',\n",
       " 'Ciro_fev_1',\n",
       " 'Ciro_fev_2',\n",
       " 'Ciro_fev_6']"
      ]
     },
     "execution_count": 22,
     "metadata": {},
     "output_type": "execute_result"
    }
   ],
   "source": [
    "get_speeches('Ciro',5,1)"
   ]
  },
  {
   "cell_type": "code",
   "execution_count": 38,
   "metadata": {},
   "outputs": [],
   "source": [
    "def constant(candidato,min_sim=0.53,k=10,min_secuencia=3,tmodel=2):\n",
    "    mp=1\n",
    "    mq=12\n",
    "    m_in=mp\n",
    "    m_out=mq-(min_secuencia-1)\n",
    "    #candidato='Gera'\n",
    "    seq_speeches=[]\n",
    "    while m_in<m_out:\n",
    "        speeches_inMes=get_speeches(candidato,m_in,tmodel)\n",
    "        secuence=[]\n",
    "        for s in speeches_inMes:\n",
    "            x=m_in\n",
    "            secuence.append(s)\n",
    "            size=1\n",
    "            while x<mq:\n",
    "                #print(x+m_in,x+1)\n",
    "                speeches_inNextMes=get_speeches(candidato,x+1,tmodel) # saca los similares del siguiente mes\n",
    "                similar=most_similariti(s,speeches_inNextMes,k,min_sim,tmodel)\n",
    "                #print(s,'similar', similar)\n",
    "                if len(similar)>0:\n",
    "                    temp_sec=[]\n",
    "                    for f in similar:\n",
    "                        for si in secuence:\n",
    "                            algo=si+'/'+f[0]+'/'+str(f[1])\n",
    "                            temp_sec.append(algo)\n",
    "                    size=size+1\n",
    "                    secuence=temp_sec\n",
    "                else:\n",
    "                    x=mq\n",
    "                x=x+1\n",
    "            if size>=min_secuencia:\n",
    "                seq_speeches.append(secuence)\n",
    "            secuence=[]\n",
    "        m_in=m_in+1     \n",
    "    return seq_speeches"
   ]
  },
  {
   "cell_type": "code",
   "execution_count": 39,
   "metadata": {},
   "outputs": [],
   "source": [
    "can=['Alva','Bols','Ciro','Gera','Guil','Henr','Joao','Mari']\n",
    "#TF-IDF = 0.33\n",
    "#DOC2VEC = 0.5\n",
    "candidate='Ciro'"
   ]
  },
  {
   "cell_type": "raw",
   "metadata": {},
   "source": [
    "res1=constant(candidate,0.54,10,3,1)\n",
    "#print(res1)\n",
    "#print(pro1)\n",
    "for x in res1:\n",
    "    rt1=x[0].split('/')\n",
    "    print('Con size:',len(rt1),' cantidad:',len(x),'|',rt1[0][5:8],'-',rt1[-1][5:8])\n",
    "#media_prob(pro1)"
   ]
  },
  {
   "cell_type": "code",
   "execution_count": 40,
   "metadata": {},
   "outputs": [
    {
     "name": "stderr",
     "output_type": "stream",
     "text": [
      "/usr/local/lib/python3.5/dist-packages/gensim/matutils.py:737: FutureWarning: Conversion of the second argument of issubdtype from `int` to `np.signedinteger` is deprecated. In future, it will be treated as `np.int64 == np.dtype(int).type`.\n",
      "  if np.issubdtype(vec.dtype, np.int):\n"
     ]
    },
    {
     "name": "stdout",
     "output_type": "stream",
     "text": [
      "[['Ciro_out_4/Ciro_nov_7/0.564146/Ciro_dez_8/0.56807655', 'Ciro_out_4/Ciro_nov_7/0.564146/Ciro_dez_6/0.55703646'], ['Ciro_out_5/Ciro_nov_2/0.62446827/Ciro_dez_6/0.6395238', 'Ciro_out_5/Ciro_nov_8/0.58855975/Ciro_dez_6/0.6395238'], ['Ciro_out_3/Ciro_nov_8/0.581468/Ciro_dez_6/0.60127807', 'Ciro_out_3/Ciro_nov_2/0.5684101/Ciro_dez_6/0.60127807', 'Ciro_out_3/Ciro_nov_7/0.5603706/Ciro_dez_6/0.60127807'], ['Ciro_fev_1/Ciro_mar_3/0.5650424/Ciro_abr_5/0.59287685', 'Ciro_fev_1/Ciro_mar_3/0.5650424/Ciro_abr_10/0.5572051', 'Ciro_fev_1/Ciro_mar_3/0.5650424/Ciro_abr_15/0.55689406'], ['Ciro_jun_4/Ciro_jul_2/0.6143861/Ciro_ago_8/0.578965', 'Ciro_jun_4/Ciro_jul_9/0.60496587/Ciro_ago_8/0.578965', 'Ciro_jun_4/Ciro_jul_2/0.6143861/Ciro_ago_9/0.5634763', 'Ciro_jun_4/Ciro_jul_9/0.60496587/Ciro_ago_9/0.5634763'], ['Ciro_jun_2/Ciro_jul_9/0.57447004/Ciro_ago_7/0.5557223'], ['Ciro_jun_12/Ciro_jul_9/0.592142/Ciro_ago_12/0.5581018/Ciro_set_2/0.56285286', 'Ciro_jun_12/Ciro_jul_9/0.592142/Ciro_ago_9/0.5515106/Ciro_set_2/0.56285286']]\n",
      "Con size: 5  cantidad: 2 | out - 076\n",
      "Con size: 5  cantidad: 2 | out - 523\n",
      "Con size: 5  cantidad: 3 | out - 278\n",
      "Con size: 5  cantidad: 3 | fev - 876\n",
      "Con size: 5  cantidad: 4 | jun - 965\n",
      "Con size: 5  cantidad: 1 | jun - 722\n",
      "Con size: 7  cantidad: 2 | jun - 852\n"
     ]
    }
   ],
   "source": [
    "res2=constant(candidate,0.55,10,3,2)\n",
    "print(res2)\n",
    "#print(pro2)\n",
    "for x in res2:\n",
    "    rt2=x[0].split('/')\n",
    "    print('Con size:',len(rt2),' cantidad:',len(x),'|',rt2[0][5:8],'-',rt2[-1][5:8])\n",
    "#media_prob(pro2)"
   ]
  },
  {
   "cell_type": "raw",
   "metadata": {},
   "source": [
    "def constant2(candidato,min_sim=0.53,k=10,min_secuencia=3,tmodel=2):\n",
    "    mp=1\n",
    "    mq=12\n",
    "    m_in=mp\n",
    "    m_out=mq-(min_secuencia-1)\n",
    "    #candidato='Gera'\n",
    "    seq_speeches=[]\n",
    "    seq_prob=[]\n",
    "    while m_in<m_out:\n",
    "        speeches_inMes=get_speeches(candidato,m_in,tmodel)      \n",
    "        secuence=[]\n",
    "        for s in speeches_inMes:\n",
    "            x=m_in\n",
    "            speeches_inNextMes=get_speeches(candidato,x+1,tmodel)\n",
    "            similar=most_similariti(s,speeches_inNextMes,k,min_sim,tmodel)\n",
    "            size=1\n",
    "            secuence.append(s)\n",
    "            while x<mq:\n",
    "                #speeches_inNextMes=get_speeches(candidato,x+1,tmodel)\n",
    "                #similar=most_similariti(s,speeches_inNextMes,k,min_sim,tmodel)\n",
    "                #print('similar', similar)\n",
    "                if len(similar)>0:\n",
    "                    temp_sec=[]\n",
    "                    for f in similar:\n",
    "                        for si in secuence:\n",
    "                            algo=si+'/'+f[0]#+'/'+str(f[1])\n",
    "                            temp_sec.append(algo)\n",
    "                    size=size+1\n",
    "                    secuence=temp_sec\n",
    "                else:\n",
    "                    x=mq\n",
    "                x=x+1\n",
    "            if size>=min_secuencia:\n",
    "                seq_speeches.append(secuence)\n",
    "            secuence=[]\n",
    "        m_in=m_in+1     \n",
    "    return seq_speeches,seq_prob"
   ]
  },
  {
   "cell_type": "raw",
   "metadata": {},
   "source": [
    "res3,pro3=constant2(candidate,0.6,10,3,2)\n",
    "#print(res1)\n",
    "#print(pro1)\n",
    "for x in res3:\n",
    "    rt3=x[0].split('/')\n",
    "    print('Con size:',len(rt3),' cantidad:',len(x),'|',rt3[0][5:8],'-',rt3[-1][5:8])\n",
    "#media_prob(pro1)"
   ]
  },
  {
   "cell_type": "code",
   "execution_count": null,
   "metadata": {},
   "outputs": [],
   "source": []
  }
 ],
 "metadata": {
  "kernelspec": {
   "display_name": "Python 3",
   "language": "python",
   "name": "python3"
  },
  "language_info": {
   "codemirror_mode": {
    "name": "ipython",
    "version": 3
   },
   "file_extension": ".py",
   "mimetype": "text/x-python",
   "name": "python",
   "nbconvert_exporter": "python",
   "pygments_lexer": "ipython3",
   "version": "3.5.2"
  }
 },
 "nbformat": 4,
 "nbformat_minor": 2
}
