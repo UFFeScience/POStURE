{
 "cells": [
  {
   "cell_type": "code",
   "execution_count": 7,
   "metadata": {},
   "outputs": [],
   "source": [
    "import pandas as pd\n",
    "import gensim\n",
    "import numpy as np                                                               \n",
    "import matplotlib.pyplot as plt\n",
    "import matplotlib.patches as mpatches\n",
    "import math\n",
    "import numpy as np\n",
    "#df=pd.read_pickle('./pandas_data_candidatos_lda.pd')\n",
    "#df=pd.read_pickle('/home/kid/Documentos/analisis2018/pandas_data_candidatos_lda.pd')\n",
    "df=pd.read_pickle('/home/kid/Documentos/analisis2018/pandas_data_candidatos_premas.pd')"
   ]
  },
  {
   "cell_type": "code",
   "execution_count": 8,
   "metadata": {},
   "outputs": [],
   "source": [
    "from sklearn.feature_extraction.text import TfidfVectorizer\n",
    "tfidf = TfidfVectorizer(use_idf=True, norm=None, ngram_range=(1, 1)) \n",
    "#X = tfidf.fit_transform(te)\n",
    "matrix = tfidf.fit_transform(df.Text_clean).toarray()\n",
    "labels_tfidf=list(df.abreviatura)\n",
    "vectors_tfidf=list(matrix)"
   ]
  },
  {
   "cell_type": "code",
   "execution_count": 9,
   "metadata": {},
   "outputs": [
    {
     "data": {
      "text/plain": [
       "(900, 55788)"
      ]
     },
     "execution_count": 9,
     "metadata": {},
     "output_type": "execute_result"
    }
   ],
   "source": [
    "matriz_tfidf=np.asarray(vectors_tfidf) #conver in matriz\n",
    "matriz_tfidf.shape"
   ]
  },
  {
   "cell_type": "code",
   "execution_count": 10,
   "metadata": {},
   "outputs": [
    {
     "name": "stderr",
     "output_type": "stream",
     "text": [
      "/usr/local/lib/python3.5/dist-packages/gensim/matutils.py:737: FutureWarning: Conversion of the second argument of issubdtype from `int` to `np.signedinteger` is deprecated. In future, it will be treated as `np.int64 == np.dtype(int).type`.\n",
      "  if np.issubdtype(vec.dtype, np.int):\n"
     ]
    }
   ],
   "source": [
    "index = gensim.similarities.MatrixSimilarity(gensim.matutils.Dense2Corpus(matriz_tfidf.T))\n",
    "similarity_matrix_tfidf = []\n",
    "for sims in index:\n",
    "    similarity_matrix_tfidf.append(sims)\n",
    "similarity_matrix_tfidf = np.array(similarity_matrix_tfidf)"
   ]
  },
  {
   "cell_type": "code",
   "execution_count": 11,
   "metadata": {},
   "outputs": [],
   "source": [
    "def most_simi(doc,num=10):\n",
    "    pos=labels_tfidf.index(doc)\n",
    "    simis=list(similarity_matrix_tfidf[pos][:])\n",
    "    zipsimi=list(zip(labels_tfidf,simis))\n",
    "    zipsimi.sort(key=lambda x: x[1],reverse=True)\n",
    "    return zipsimi[1:num+1]"
   ]
  },
  {
   "cell_type": "code",
   "execution_count": 12,
   "metadata": {},
   "outputs": [],
   "source": [
    "def most_simi_can(doc1,doc2):\n",
    "    pos1=labels_tfidf.index(doc1)\n",
    "    pos2=labels_tfidf.index(doc2)\n",
    "    return similarity_matrix_tfidf[pos1][pos2]"
   ]
  },
  {
   "cell_type": "markdown",
   "metadata": {},
   "source": [
    "## ----------------------------------------------------"
   ]
  },
  {
   "cell_type": "code",
   "execution_count": 13,
   "metadata": {},
   "outputs": [],
   "source": [
    "from gensim.models.doc2vec import Doc2Vec\n",
    "model_d2v = Doc2Vec.load('./modeloDoc2vec_setembro_premas40')\n",
    "labels_d2v = list(model_d2v.docvecs.doctags.keys())"
   ]
  },
  {
   "cell_type": "code",
   "execution_count": 14,
   "metadata": {},
   "outputs": [
    {
     "name": "stdout",
     "output_type": "stream",
     "text": [
      "(900, 8)\n",
      "656\n"
     ]
    }
   ],
   "source": [
    "import pandas as pd\n",
    "from operator import itemgetter\n",
    "from collections import Counter\n",
    "\n",
    "df=pd.read_pickle('/home/kid/Documentos/analisis2018/pandas_data_candidatos_premas.pd')\n",
    "labels=list(df[df.Weights_kbs>10000]['abreviatura'])\n",
    "print(df.shape)\n",
    "print(len(labels))\n",
    "labels_d2v=labels"
   ]
  },
  {
   "cell_type": "code",
   "execution_count": 20,
   "metadata": {},
   "outputs": [],
   "source": [
    "from itertools import groupby\n",
    "def similarity_camada1tf(labels,model,opc):\n",
    "    #Preparando dados\n",
    "    nomes=[]\n",
    "    for t in labels:\n",
    "        nomes.append(t[0:4])\n",
    "    ct=Counter(nomes)\n",
    "    listoTodo = sorted(labels, key=itemgetter(0,1,2))\n",
    "    indices=['Alva','Bols','Ciro','Gera','Guil','Henr','Joao','Mari']\n",
    "    ll_candidatos = [list(value) for key, value in groupby(listoTodo, lambda x: x[0:4])]\n",
    "    general=[]\n",
    "    for dis_candidato in ll_candidatos:\n",
    "        tmp=[]\n",
    "        for x in dis_candidato:\n",
    "            for t in listoTodo:\n",
    "                if x[0:4]!=t[0:4] and x[0:4] in indices and t[0:4] in indices:\n",
    "                    if opc == 1:\n",
    "                        tmp.append((x,t,most_simi_can(x,t)))\n",
    "                    else:\n",
    "                        tmp.append((x,t,model_d2v.docvecs.similarity(x,t)))\n",
    "                    #print(x,t)\n",
    "        general.append(tmp)\n",
    "    return general"
   ]
  },
  {
   "cell_type": "raw",
   "metadata": {},
   "source": [
    "cm1= similarity_camada1tf(labels_d2v,model_d2v,1)"
   ]
  },
  {
   "cell_type": "code",
   "execution_count": 35,
   "metadata": {},
   "outputs": [
    {
     "name": "stderr",
     "output_type": "stream",
     "text": [
      "/usr/local/lib/python3.5/dist-packages/gensim/matutils.py:737: FutureWarning: Conversion of the second argument of issubdtype from `int` to `np.signedinteger` is deprecated. In future, it will be treated as `np.int64 == np.dtype(int).type`.\n",
      "  if np.issubdtype(vec.dtype, np.int):\n"
     ]
    }
   ],
   "source": [
    "cm1= similarity_camada1tf(labels_d2v,model_d2v,2)\n",
    "camada2=[]\n",
    "for candidatox in cm1:\n",
    "    sort_canx=sorted(candidatox, key=lambda tup: tup[1])\n",
    "    cam2=[list(v) for k, v in groupby(sort_canx, lambda x: x[1][0:4])]\n",
    "    #stl=stl.sort(key=lambda tup: tup[2])\n",
    "    camada2.append(cam2)"
   ]
  },
  {
   "cell_type": "code",
   "execution_count": 36,
   "metadata": {},
   "outputs": [
    {
     "name": "stdout",
     "output_type": "stream",
     "text": [
      "Alva -> Bols = 0.4934045034646988\n",
      "Alva -> Ciro = 0.5146043282747269\n",
      "Alva -> Gera = 0.49251489877700805\n",
      "Alva -> Guil = 0.5022688138484955\n",
      "Alva -> Henr = 0.4826799011230469\n",
      "Alva -> Joao = 0.4984178376197815\n",
      "Alva -> Mari = 0.48645084738731387\n",
      "---------------------------------\n",
      "Bols -> Alva = 0.4934045034646988\n",
      "Bols -> Ciro = 0.5177497816085815\n",
      "Bols -> Gera = 0.48959239780902863\n",
      "Bols -> Guil = 0.48886500775814057\n",
      "Bols -> Henr = 0.4703986895084381\n",
      "Bols -> Joao = 0.4895739722251892\n",
      "Bols -> Mari = 0.4871939063072205\n",
      "---------------------------------\n",
      "Ciro -> Alva = 0.5146043282747269\n",
      "Ciro -> Bols = 0.5177497816085815\n",
      "Ciro -> Gera = 0.5285866248607636\n",
      "Ciro -> Guil = 0.5206684803962708\n",
      "Ciro -> Henr = 0.4904327040910721\n",
      "Ciro -> Joao = 0.5195780324935914\n",
      "Ciro -> Mari = 0.5121679502725601\n",
      "---------------------------------\n",
      "---------------------------------\n",
      "Gera -> Alva = 0.49251489877700805\n",
      "Gera -> Bols = 0.48959239780902863\n",
      "Gera -> Ciro = 0.5285866248607636\n",
      "Gera -> Guil = 0.5011965650320053\n",
      "Gera -> Henr = 0.4858803802728653\n",
      "Gera -> Joao = 0.5015106600522995\n",
      "Gera -> Mari = 0.49699840903282166\n",
      "---------------------------------\n",
      "Guil -> Alva = 0.5022688138484955\n",
      "Guil -> Bols = 0.48886500775814057\n",
      "Guil -> Ciro = 0.5206684803962708\n",
      "Guil -> Gera = 0.5011965650320053\n",
      "Guil -> Henr = 0.4800857698917389\n",
      "Guil -> Joao = 0.5110541510581971\n",
      "Guil -> Mari = 0.5075388664007187\n",
      "---------------------------------\n",
      "Henr -> Alva = 0.4826799011230469\n",
      "Henr -> Bols = 0.4703986895084381\n",
      "Henr -> Ciro = 0.4904327040910721\n",
      "Henr -> Gera = 0.4858803802728653\n",
      "Henr -> Guil = 0.4800857698917389\n",
      "Henr -> Joao = 0.4967718642950058\n",
      "Henr -> Mari = 0.4790300703048706\n",
      "---------------------------------\n",
      "Joao -> Alva = 0.4984178376197815\n",
      "Joao -> Bols = 0.4895739722251892\n",
      "Joao -> Ciro = 0.5195780324935914\n",
      "Joao -> Gera = 0.5015106600522995\n",
      "Joao -> Guil = 0.5110541510581971\n",
      "Joao -> Henr = 0.4967718642950058\n",
      "Joao -> Mari = 0.4946901124715805\n",
      "---------------------------------\n",
      "---------------------------------\n",
      "---------------------------------\n",
      "Mari -> Alva = 0.48645084738731387\n",
      "Mari -> Bols = 0.4871939063072205\n",
      "Mari -> Ciro = 0.5121679502725601\n",
      "Mari -> Gera = 0.49699840903282166\n",
      "Mari -> Guil = 0.5075388664007187\n",
      "Mari -> Henr = 0.4790300703048706\n",
      "Mari -> Joao = 0.4946901124715805\n",
      "---------------------------------\n",
      "---------------------------------\n"
     ]
    }
   ],
   "source": [
    "moda=50\n",
    "for cm1 in camada2:\n",
    "    for x in cm1:\n",
    "        #print('---------------------------------')\n",
    "        x.sort(key=lambda tup: tup[2], reverse=True)\n",
    "        mn=sum([v[2] for v in x[:moda]]) / float(len(x[:moda]))\n",
    "        print(x[0][0][0:4]+' -> '+x[0][1][0:4]+' = '+str(mn))\n",
    "    print('---------------------------------') "
   ]
  },
  {
   "cell_type": "code",
   "execution_count": null,
   "metadata": {},
   "outputs": [],
   "source": []
  }
 ],
 "metadata": {
  "kernelspec": {
   "display_name": "Python 3",
   "language": "python",
   "name": "python3"
  },
  "language_info": {
   "codemirror_mode": {
    "name": "ipython",
    "version": 3
   },
   "file_extension": ".py",
   "mimetype": "text/x-python",
   "name": "python",
   "nbconvert_exporter": "python",
   "pygments_lexer": "ipython3",
   "version": "3.5.2"
  }
 },
 "nbformat": 4,
 "nbformat_minor": 2
}
