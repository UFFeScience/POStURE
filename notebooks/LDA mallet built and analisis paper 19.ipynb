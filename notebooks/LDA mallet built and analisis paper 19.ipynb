{
 "cells": [
  {
   "cell_type": "code",
   "execution_count": 1,
   "metadata": {},
   "outputs": [],
   "source": [
    "from gensim.models.ldamodel import LdaModel\n",
    "import pandas as pd\n",
    "from gensim import corpora, models\n",
    "from gensim.models import CoherenceModel\n"
   ]
  },
  {
   "cell_type": "code",
   "execution_count": 2,
   "metadata": {},
   "outputs": [],
   "source": [
    "df=pd.read_pickle('./pandas_data_candidatos_lda.pd')\n",
    "lda_model = LdaModel.load('./lda_models/lda_model_precandi_m40')\n",
    "#dictionary= corpora.Dictionary.load('./lda_models/candidatos45.dict')\n",
    "                                    \n",
    "texts=[]\n",
    "for a in df.Text_clean:\n",
    "    texts.append(a.split())\n",
    "dictionary = corpora.Dictionary(texts)\n",
    "corpus = [dictionary.doc2bow(text) for text in texts]"
   ]
  },
  {
   "cell_type": "code",
   "execution_count": 4,
   "metadata": {},
   "outputs": [],
   "source": [
    "cohe_cv = CoherenceModel(model=lda_model, texts=texts, dictionary=dictionary, coherence='c_v')"
   ]
  },
  {
   "cell_type": "code",
   "execution_count": 5,
   "metadata": {},
   "outputs": [
    {
     "data": {
      "text/plain": [
       "0.5139542309821689"
      ]
     },
     "execution_count": 5,
     "metadata": {},
     "output_type": "execute_result"
    }
   ],
   "source": [
    "cohe_cv.get_coherence()"
   ]
  },
  {
   "cell_type": "code",
   "execution_count": 3,
   "metadata": {},
   "outputs": [
    {
     "data": {
      "text/html": [
       "<div>\n",
       "<style scoped>\n",
       "    .dataframe tbody tr th:only-of-type {\n",
       "        vertical-align: middle;\n",
       "    }\n",
       "\n",
       "    .dataframe tbody tr th {\n",
       "        vertical-align: top;\n",
       "    }\n",
       "\n",
       "    .dataframe thead th {\n",
       "        text-align: right;\n",
       "    }\n",
       "</style>\n",
       "<table border=\"1\" class=\"dataframe\">\n",
       "  <thead>\n",
       "    <tr style=\"text-align: right;\">\n",
       "      <th></th>\n",
       "      <th>Candidato</th>\n",
       "      <th>Date_doc</th>\n",
       "      <th>Id_doc</th>\n",
       "      <th>Mes</th>\n",
       "      <th>Text</th>\n",
       "      <th>Title</th>\n",
       "      <th>Weights_kbs</th>\n",
       "      <th>Text_clean</th>\n",
       "      <th>abreviatura</th>\n",
       "    </tr>\n",
       "  </thead>\n",
       "  <tbody>\n",
       "    <tr>\n",
       "      <th>125</th>\n",
       "      <td>Henrique Meirelles</td>\n",
       "      <td>2018-09-25</td>\n",
       "      <td>2</td>\n",
       "      <td>setembro</td>\n",
       "      <td>﻿[Música]  eleições de 2018 escolher a tui con...</td>\n",
       "      <td>Sabatina Linha de Frente_ Henrique Meirelles</td>\n",
       "      <td>20895</td>\n",
       "      <td>eleições escolher tui confirme compromisso ouv...</td>\n",
       "      <td>Henr_set_2</td>\n",
       "    </tr>\n",
       "    <tr>\n",
       "      <th>283</th>\n",
       "      <td>Alvaro Dias</td>\n",
       "      <td>2018-09-25</td>\n",
       "      <td>2</td>\n",
       "      <td>setembro</td>\n",
       "      <td>﻿o brasil está numa situação econômica  que nã...</td>\n",
       "      <td>Álvaro Dias, do Podemos, fala a EXAME</td>\n",
       "      <td>12218</td>\n",
       "      <td>situação econômica agradáveis upa saindo reces...</td>\n",
       "      <td>Alva_set_2</td>\n",
       "    </tr>\n",
       "    <tr>\n",
       "      <th>495</th>\n",
       "      <td>Geraldo Alckmin</td>\n",
       "      <td>2018-09-25</td>\n",
       "      <td>2</td>\n",
       "      <td>setembro</td>\n",
       "      <td>﻿pensando a ai vai começar  ae esse banheiro s...</td>\n",
       "      <td>Geraldo Alckmin - Pânico - 25_09_18</td>\n",
       "      <td>70488</td>\n",
       "      <td>pensando começar banheiro esquece chuva sol mi...</td>\n",
       "      <td>Gera_set_2</td>\n",
       "    </tr>\n",
       "    <tr>\n",
       "      <th>182</th>\n",
       "      <td>Joao Amoedo</td>\n",
       "      <td>2018-09-28</td>\n",
       "      <td>3</td>\n",
       "      <td>setembro</td>\n",
       "      <td>﻿nós temos a visita do candidato à  presidênci...</td>\n",
       "      <td>João Amoêdo em Novo Hamburgo_ _Nós contra eles...</td>\n",
       "      <td>12704</td>\n",
       "      <td>visita presidência feita carlos ayres jornal n...</td>\n",
       "      <td>Joao_set_3</td>\n",
       "    </tr>\n",
       "    <tr>\n",
       "      <th>4</th>\n",
       "      <td>Guilherme Boulos</td>\n",
       "      <td>2018-09-28</td>\n",
       "      <td>1</td>\n",
       "      <td>setembro</td>\n",
       "      <td>﻿a mãe e sua avó  ai começar já esse banheiro ...</td>\n",
       "      <td>Guilherme Boulos - Pânico - 28_09_18</td>\n",
       "      <td>82900</td>\n",
       "      <td>mãe avó começar banheiro esquece iriam chuva s...</td>\n",
       "      <td>Guil_set_1</td>\n",
       "    </tr>\n",
       "  </tbody>\n",
       "</table>\n",
       "</div>"
      ],
      "text/plain": [
       "              Candidato   Date_doc Id_doc       Mes  \\\n",
       "125  Henrique Meirelles 2018-09-25      2  setembro   \n",
       "283         Alvaro Dias 2018-09-25      2  setembro   \n",
       "495     Geraldo Alckmin 2018-09-25      2  setembro   \n",
       "182         Joao Amoedo 2018-09-28      3  setembro   \n",
       "4      Guilherme Boulos 2018-09-28      1  setembro   \n",
       "\n",
       "                                                  Text  \\\n",
       "125  ﻿[Música]  eleições de 2018 escolher a tui con...   \n",
       "283  ﻿o brasil está numa situação econômica  que nã...   \n",
       "495  ﻿pensando a ai vai começar  ae esse banheiro s...   \n",
       "182  ﻿nós temos a visita do candidato à  presidênci...   \n",
       "4    ﻿a mãe e sua avó  ai começar já esse banheiro ...   \n",
       "\n",
       "                                                 Title  Weights_kbs  \\\n",
       "125       Sabatina Linha de Frente_ Henrique Meirelles        20895   \n",
       "283              Álvaro Dias, do Podemos, fala a EXAME        12218   \n",
       "495                Geraldo Alckmin - Pânico - 25_09_18        70488   \n",
       "182  João Amoêdo em Novo Hamburgo_ _Nós contra eles...        12704   \n",
       "4                 Guilherme Boulos - Pânico - 28_09_18        82900   \n",
       "\n",
       "                                            Text_clean abreviatura  \n",
       "125  eleições escolher tui confirme compromisso ouv...  Henr_set_2  \n",
       "283  situação econômica agradáveis upa saindo reces...  Alva_set_2  \n",
       "495  pensando começar banheiro esquece chuva sol mi...  Gera_set_2  \n",
       "182  visita presidência feita carlos ayres jornal n...  Joao_set_3  \n",
       "4    mãe avó começar banheiro esquece iriam chuva s...  Guil_set_1  "
      ]
     },
     "execution_count": 3,
     "metadata": {},
     "output_type": "execute_result"
    }
   ],
   "source": [
    "df.tail(5)"
   ]
  },
  {
   "cell_type": "code",
   "execution_count": 10,
   "metadata": {
    "scrolled": true
   },
   "outputs": [
    {
     "name": "stdout",
     "output_type": "stream",
     "text": [
      "Topic 0: preço, petrobras, petróleo, empresa, privatização, empresas, gasolina, preços, caminhoneiros, greve, combustível, privatizar, mercado, estatal, energia, venezuela, aumento, eletrobrás, interesse, crise\n",
      "Topic 1: dinheiro, bancos, milhões, banco, colocar, bilhões, levy, chamado, passado, nação, prtb, naturalmente, família, tirar, creio, mão, pagar, dilma_rousseff, fundo, daqui\n",
      "Topic 2: previdência, reforma, aposentadoria, trabalhista, congresso, pagar, idade, fiscal, contas, eleitoral, setor, inflação, mínima, feita, regime, conta, trabalhador, presidência, fundo, teto\n",
      "Topic 3: liberdade, joão, idéias, fundo, fundamental, contas, interessante, televisão, mudanças, econômica, montar, participação, principal, renovação, valores, participar, sentido, deveria, difícil, responsabilidade\n",
      "Topic 4: situação, marina_silva, energia, educação, milhões, rede, ambiente, base, crise, políticas, compromisso, visão, criar, problemas, existem, vida, vivendo, ajudar, sustentável, sustentabilidade\n",
      "Topic 5: mulheres, família, bolsa, emprego, mulher, programa, aborto, saúde, milhões, salário, lei, pretende, venezuela, direito, proposta, várias, gostaria, mínimo, vista, idade\n",
      "Topic 6: federal, justiça, corrupção, preso, lei, prisão, supremo, judiciário, decisão, juiz, câmara, constituição, direito, instância, lava_jato, esquerda, mandato, polícia, deputados, supremo_tribunal\n",
      "Topic 7: dinheiro, cidadão, gestão, melhor, melhorar, educação, privada, empresas, quantidade, entendo, congresso, gostaria, acaba, colocar, recursos, mercado, mudar, milhões, qualidade, deveria\n",
      "Topic 8: água, melhor, dinheiro, real, qualidade, casa, paga, espaço, vida, jogo, nacional, atenção, psdb, social, oposição, família, futebol, restaurante, dias, orçamento\n",
      "Topic 9: vida, história, filho, casa, filhos, pai, amigos, sonho, cidade, palavra, igual, mãe, gosto, livro, coração, esperança, conhece, amigo, gol, família\n",
      "Topic 10: dinheiro, prefeito, milhões, federal, lei, passado, ganhar, vida, dizia, mandato, fizemos, josé, joão, votos, estadual, vice, futuro, perdeu, participar, serra\n",
      "Topic 11: mulheres, desenvolvimento, mulher, crise, vida, homens, conjunto, projeto, garantir, precisamos, manuela, sul, nacional, real, indústria, jovens, construção, deputada, defendo, saídas\n",
      "Topic 12: vida, direito, ciro_gomes, dilma_rousseff, prefeito, opinião, lei, golpe, cabeça, moral, michel_temer, respeito, cidadão, botar, fortaleza, evidentemente, professor, certa, conheço, mentira\n",
      "Topic 13: esquerda, luta, projeto, democracia, golpe, sociais, movimentos, eleitoral, programa, movimento, crise, social, popular, medo, unidade, aliança, campo, construir, mobilização, políticas\n",
      "Topic 14: projeto, tecnologia, direito, questões, dados, várias, livre, digital, respeito, serviço, discussão, informação, lei, congresso, nisso, segurança, agenda, visão, acesso, iniciativa\n",
      "Topic 15: social, igreja, vida, casa, saúde, livro, depressão, espaço, experiência, comunidade, pensar, professora, ler, dizia, estudar, aprendi, valores, forte, fiquei, poderia\n",
      "Topic 16: bilhões, recursos, milhões, privilégios, difícil, autoridade, dívida, pobreza, nacional, dinheiro, creio, nação, incompetência, mão, públicos, econômico, futuro, propostas, salário, desenvolvimento\n",
      "Topic 17: banco, empresa, negócio, projeto, passar, começar, risco, tirar, sul, fácil, caixa, plano, votar, perguntas, acabou, único, receber, abrir, dias, ganhar\n",
      "Topic 18: jair_bolsonaro, votar, esquerda, negócio, turma, medo, deixa, volta, jovem_pan, chega, caras, sair, lei, milhões, melhor, pânico, senão, preso, jeito, presença\n",
      "Topic 19: ciro_gomes, milhões, saúde, ceará, nacional, dinheiro, conta, experiência, mão, emprego, pagar, tomar, tarefa, média, pdt, cabeça, ônibus, amigo, classe, nordeste\n",
      "Topic 20: casa, melhor, conta, acontece, época, filho, pai, sair, china, cabeça, quiser, tomar, entrar, chegou, rua, pega, vale, sabia, começa, situação\n",
      "Topic 21: educação, escola, ensino, professor, escolas, médio, qualidade, professores, universidade, fundamental, perguntas, jovens, investimento, crianças, universidades, aula, alunos, superior, aluno, desigualdade\n",
      "Topic 22: milhões, bilhões, dívida, ceará, fiscal, crédito, simples, simplesmente, capital, bancos, orçamento, receita, prática, entender, regime, internacional, resolver, despesa, clareza, natureza\n",
      "Topic 23: produção, agricultura, agronegócio, campo, rural, segurança, terra, produtos, produzir, propriedade, setor, região, países, infraestrutura, agrícola, crédito, água, produtor, ambiental, produtores\n",
      "Topic 24: economia, banco_central, inflação, crescimento, história, condições, emprego, crescer, fazenda, fundamental, henrique_meirelles, época, resultado, crescendo, crise, período, banco, experiência, confiança, reformas\n",
      "Topic 25: saúde, municípios, educação, federal, estados, recursos, união, prefeitos, atendimento, saneamento, município, prefeito, gestão, federativo, financiamento, básico, sus, podemos, pacto, melhor\n",
      "Topic 26: congresso, imposto, paga, investimento, dinheiro, dívida, jeito, acabar, mercado, programa, reforma, michel_temer, economia, oportunidade, financiamento, bancada, saúde, privilégio, pega, empresário\n",
      "Topic 27: social, movimento, moradia, casa, enfrentar, modelo, privilégios, maneira, democracia, nacional, guilherme_boulos, queremos, teto, judiciário, medo, sociais, aliás, trabalhadores, lógica, ocupação\n",
      "Topic 28: psdb, reforma, crescer, emprego, federal, renda, aliás, investimento, inteiro, reduzir, reformas, geraldo_alckmin, trazer, obras, eleito, imposto, déficit, melhorar, confiança, pib\n",
      "Topic 29: segurança, polícia, violência, drogas, crime, armas, federal, arma, policiais, inteligência, intervenção, tráfico, guerra, policial, militar, combate, resolver, exército, organizado, polícias\n",
      "Topic 30: nacional, dólar, indústria, desenvolvimento, industrial, consumo, china, câmbio, inflação, história, estrangeiro, dólares, taxa, mercado, projeto, fernando_henrique, comprar, petróleo, real, produção\n",
      "Topic 31: renda, tributária, investimento, setor, investimentos, países, economia, empresas, fiscal, reforma, produtividade, imposto, pib, carga, segurança, crescimento, juros, emprego, impostos, consumo\n",
      "Topic 32: justiça, dilma_rousseff, corrupção, marina_silva, lava_jato, democracia, ganhar, respeito, programa, rede, psdb, privilegiado, pmdb, congresso, foro, eleições, base, lei, ética, caixa\n",
      "Topic 33: militar, jair_bolsonaro, economia, entender, ministério, exército, botar, buscar, policial, daí, continuar, proposta, arma, imprensa, parlamento, câmara, problemas, militares, maneira, podemos\n",
      "Topic 34: presidência, turno, pesquisas, eleitoral, eleitor, psdb, votos, congresso, eleições, centro, situação, votar, vice, michel_temer, pmdb, jair_bolsonaro, discurso, nacional, estados, propostas\n",
      "Topic 35: corrupção, reforma, podemos, congresso, paraná, senado, dias, reformas, proposta, refundação, projeto, mudança, modelo, mudar, álvaro_dias, mandato, privilegiado, mudanças, administrativa, evidente\n",
      "Topic 36: rádio, bahia, programa, semana, café, feira, jornal, facebook, abraço, cidade, região, manhã, joão, oportunidade, segurança, nacional, vista, viu, pernambuco, receber\n",
      "Topic 37: papel, agenda, crise, projeto, acredito, pensar, construir, vista, capacidade, melhor, centro, políticas, condições, passado, temas, nacional, problemas, diálogo, futuro, forte\n",
      "Topic 38: vida, mudar, difícil, acredita, história, sair, entender, mostrar, mudança, consegue, começar, colocar, conseguir, resolver, ruim, ambiente, volta, melhor, fácil, ajudar\n",
      "Topic 39: modelo, economia, capital, entender, velho, discutir, produzir, dinheiro, prazo, professor, universidade, renda, linha, campo, real, futuro, capitalismo, longo, estados_unidos, corpo\n"
     ]
    }
   ],
   "source": [
    "x=lda_model.show_topics(num_topics=45, num_words=20,formatted=False)\n",
    "topics_words = [(tp[0], [wd[0] for wd in tp[1]]) for tp in x]\n",
    "\n",
    "#Below Code Prints Only Words \n",
    "for topic,words in topics_words:\n",
    "    print('Topic '+str(topic)+': '+', '.join(words))"
   ]
  },
  {
   "cell_type": "raw",
   "metadata": {},
   "source": [
    "df.Date_doc =  pd.to_datetime(df.Date_doc, format='%d-%m-%Y')\n",
    "df = df.sort_values(by = 'Date_doc')\n",
    "df.tail(5)"
   ]
  },
  {
   "cell_type": "raw",
   "metadata": {},
   "source": [
    "df.loc[df['abreviatura'] == 'Henr_set_4', 'Date_doc']= pd.to_datetime('19-09-2018', format='%d-%m-%Y')"
   ]
  },
  {
   "cell_type": "raw",
   "metadata": {},
   "source": [
    "df.to_pickle('./pandas_data_candidatos_lda.pd')"
   ]
  },
  {
   "cell_type": "code",
   "execution_count": 3,
   "metadata": {},
   "outputs": [],
   "source": [
    "def get_ldav(corpusList):\n",
    "    list_vects_lda=[]\n",
    "    for i in corpusList:\n",
    "        tp=lda_model.get_document_topics(i, minimum_probability=0.00)\n",
    "        f=[list(t) for t in zip(*tp)]\n",
    "        list_vects_lda.append(f[1])\n",
    "    return list_vects_lda"
   ]
  },
  {
   "cell_type": "code",
   "execution_count": 4,
   "metadata": {},
   "outputs": [],
   "source": [
    "vec_lda=get_ldav(corpus)"
   ]
  },
  {
   "cell_type": "code",
   "execution_count": 6,
   "metadata": {},
   "outputs": [
    {
     "data": {
      "text/plain": [
       "[0.0230796496264608,\n",
       " 0.010298577277296325,\n",
       " 0.029015338486976048,\n",
       " 0.004096018960124203,\n",
       " 0.004354705278159179,\n",
       " 0.01606672572559707,\n",
       " 0.023202417884014098,\n",
       " 0.016431976775305807,\n",
       " 0.02024517543254239,\n",
       " 0.028848679088655106,\n",
       " 0.019291596954592045,\n",
       " 0.04126509108961652,\n",
       " 0.024998152857880727,\n",
       " 0.06717459076171833,\n",
       " 0.028988024812304045,\n",
       " 0.040250706668049516,\n",
       " 0.00894610783194914,\n",
       " 0.015431696099983556,\n",
       " 0.03850599527292769,\n",
       " 0.00816143027126766,\n",
       " 0.019866074379462792,\n",
       " 0.027695716128390894,\n",
       " 0.009118471492778599,\n",
       " 0.015970280743421873,\n",
       " 0.01920427038811504,\n",
       " 0.010553150913499803,\n",
       " 0.08468378800021177,\n",
       " 0.09004931290424634,\n",
       " 0.010920012634632196,\n",
       " 0.04088335019137355,\n",
       " 0.01818719946946084,\n",
       " 0.017747280993946648,\n",
       " 0.01803300282057199,\n",
       " 0.011415802180143578,\n",
       " 0.0406027204412715,\n",
       " 0.010964523272659081,\n",
       " 0.034997472624384574,\n",
       " 0.023229279263288126,\n",
       " 0.015422647401153684,\n",
       " 0.01180298660156666]"
      ]
     },
     "execution_count": 6,
     "metadata": {},
     "output_type": "execute_result"
    }
   ],
   "source": [
    "vec_lda[100]"
   ]
  },
  {
   "cell_type": "code",
   "execution_count": 87,
   "metadata": {},
   "outputs": [],
   "source": [
    "import numpy as np\n",
    "def generate_topic_evolution(topic, lda_vector, window=2): #el vector puede ser de un candidato o general\n",
    "    #topic_probabilties=[x[topic] for x in lda_vector]\n",
    "    topic_probabilties=np.array(f)\n",
    "    pos=window-1\n",
    "    serie=[0]*len(topic_probabilties)\n",
    "    for i in range(0,len(topic_probabilties)):\n",
    "        if i>=window-1:\n",
    "            media=sum(topic_probabilties[i-pos:i-pos+window])/window\n",
    "            serie[i]=media\n",
    "    print(serie)"
   ]
  },
  {
   "cell_type": "code",
   "execution_count": 88,
   "metadata": {},
   "outputs": [
    {
     "name": "stdout",
     "output_type": "stream",
     "text": [
      "[0, 3.5, 3.5, 2.5, 3.5, 3.0, 1.0, 2.5]\n"
     ]
    }
   ],
   "source": [
    "generate_topic_evolution(3,f)"
   ]
  },
  {
   "cell_type": "code",
   "execution_count": 28,
   "metadata": {},
   "outputs": [
    {
     "data": {
      "text/plain": [
       "[2, 5, 2, 3, 4, 2, 0, 5]"
      ]
     },
     "execution_count": 28,
     "metadata": {},
     "output_type": "execute_result"
    }
   ],
   "source": [
    "f"
   ]
  },
  {
   "cell_type": "code",
   "execution_count": 19,
   "metadata": {},
   "outputs": [],
   "source": [
    "dff= pd.DataFrame({'ja': f})\n",
    "dff['MA1_edu'] = dff['ja'].rolling(window=3,center=False).mean()"
   ]
  },
  {
   "cell_type": "code",
   "execution_count": 20,
   "metadata": {},
   "outputs": [
    {
     "data": {
      "text/html": [
       "<div>\n",
       "<style scoped>\n",
       "    .dataframe tbody tr th:only-of-type {\n",
       "        vertical-align: middle;\n",
       "    }\n",
       "\n",
       "    .dataframe tbody tr th {\n",
       "        vertical-align: top;\n",
       "    }\n",
       "\n",
       "    .dataframe thead th {\n",
       "        text-align: right;\n",
       "    }\n",
       "</style>\n",
       "<table border=\"1\" class=\"dataframe\">\n",
       "  <thead>\n",
       "    <tr style=\"text-align: right;\">\n",
       "      <th></th>\n",
       "      <th>ja</th>\n",
       "      <th>MA1_edu</th>\n",
       "    </tr>\n",
       "  </thead>\n",
       "  <tbody>\n",
       "    <tr>\n",
       "      <th>0</th>\n",
       "      <td>2</td>\n",
       "      <td>NaN</td>\n",
       "    </tr>\n",
       "    <tr>\n",
       "      <th>1</th>\n",
       "      <td>5</td>\n",
       "      <td>NaN</td>\n",
       "    </tr>\n",
       "    <tr>\n",
       "      <th>2</th>\n",
       "      <td>2</td>\n",
       "      <td>3.000000</td>\n",
       "    </tr>\n",
       "    <tr>\n",
       "      <th>3</th>\n",
       "      <td>3</td>\n",
       "      <td>3.333333</td>\n",
       "    </tr>\n",
       "    <tr>\n",
       "      <th>4</th>\n",
       "      <td>4</td>\n",
       "      <td>3.000000</td>\n",
       "    </tr>\n",
       "    <tr>\n",
       "      <th>5</th>\n",
       "      <td>2</td>\n",
       "      <td>3.000000</td>\n",
       "    </tr>\n",
       "    <tr>\n",
       "      <th>6</th>\n",
       "      <td>0</td>\n",
       "      <td>2.000000</td>\n",
       "    </tr>\n",
       "    <tr>\n",
       "      <th>7</th>\n",
       "      <td>5</td>\n",
       "      <td>2.333333</td>\n",
       "    </tr>\n",
       "  </tbody>\n",
       "</table>\n",
       "</div>"
      ],
      "text/plain": [
       "   ja   MA1_edu\n",
       "0   2       NaN\n",
       "1   5       NaN\n",
       "2   2  3.000000\n",
       "3   3  3.333333\n",
       "4   4  3.000000\n",
       "5   2  3.000000\n",
       "6   0  2.000000\n",
       "7   5  2.333333"
      ]
     },
     "execution_count": 20,
     "metadata": {},
     "output_type": "execute_result"
    }
   ],
   "source": [
    "dff"
   ]
  },
  {
   "cell_type": "code",
   "execution_count": 89,
   "metadata": {},
   "outputs": [],
   "source": [
    "list_vects_lda=get_ldav(corpus)\n",
    "df['education']=[x[1] for x in list_vects_lda]\n",
    "df['MA1_edu'] = df['education'].rolling(window=10,center=False).mean()\n",
    "#df['municipios']=[x[35] for x in list_vects_lda]\n",
    "#df['MA1_muni'] = df['municipios'].rolling(window=10,center=False).mean()"
   ]
  },
  {
   "cell_type": "code",
   "execution_count": null,
   "metadata": {},
   "outputs": [],
   "source": []
  },
  {
   "cell_type": "raw",
   "metadata": {},
   "source": [
    "import matplotlib.pyplot as plt\n",
    "ts_geral_edu= pd.Series(dict(zip(df['Date_doc'],df['MA1_edu'])))\n",
    "#ts_geral_muni= pd.Series(dict(zip(df['Date_doc'],df['MA1_muni'])))\n",
    "fig = plt.figure(figsize=(5,3))\n",
    "ts_geral_edu.plot(label='Education in schools')\n",
    "#ts_geral_muni.plot(label='Federal municipalities')\n",
    "plt.legend(loc='best')"
   ]
  },
  {
   "cell_type": "code",
   "execution_count": 96,
   "metadata": {},
   "outputs": [],
   "source": [
    "list_vects_lda=get_ldav(corpus)\n",
    "df['petrobras']=[x[24] for x in list_vects_lda]\n",
    "df['MA1_pbr'] = df['petrobras'].rolling(window=10,center=False).mean()"
   ]
  },
  {
   "cell_type": "code",
   "execution_count": 97,
   "metadata": {},
   "outputs": [
    {
     "data": {
      "text/plain": [
       "<matplotlib.legend.Legend at 0x7fcc769470b8>"
      ]
     },
     "execution_count": 97,
     "metadata": {},
     "output_type": "execute_result"
    },
    {
     "data": {
      "image/png": "[encoded data removed]",
      "text/plain": [
       "<Figure size 360x216 with 1 Axes>"
      ]
     },
     "metadata": {},
     "output_type": "display_data"
    }
   ],
   "source": [
    "import matplotlib.pyplot as plt\n",
    "ts_geral= pd.Series(dict(zip(df['Date_doc'],df['MA1_pbr'])))\n",
    "fig = plt.figure(figsize=(5,3))\n",
    "ts_geral.plot(label='Petroleum and Petrobras')\n",
    "plt.legend(loc='best')"
   ]
  },
  {
   "cell_type": "code",
   "execution_count": 43,
   "metadata": {},
   "outputs": [],
   "source": [
    "list_vects_lda=get_ldav(corpus)\n",
    "df['aborto']=[x[23] for x in list_vects_lda]\n",
    "df['MA1_abort'] = df['aborto'].rolling(window=10,center=False).mean()"
   ]
  },
  {
   "cell_type": "code",
   "execution_count": 95,
   "metadata": {},
   "outputs": [
    {
     "data": {
      "text/plain": [
       "<matplotlib.legend.Legend at 0x7f616ca94b70>"
      ]
     },
     "execution_count": 95,
     "metadata": {},
     "output_type": "execute_result"
    },
    {
     "data": {
      "image/png": "[encoded data removed]",
      "text/plain": [
       "<Figure size 360x216 with 1 Axes>"
      ]
     },
     "metadata": {},
     "output_type": "display_data"
    }
   ],
   "source": [
    "import matplotlib.pyplot as plt\n",
    "ts_geral= pd.Series(dict(zip(df['Date_doc'],df['MA1_abort'])))\n",
    "fig = plt.figure(figsize=(5,3))\n",
    "ts_geral.plot(label='Plebiscite \\n Abortion')\n",
    "plt.legend(loc='best')"
   ]
  },
  {
   "cell_type": "code",
   "execution_count": 109,
   "metadata": {},
   "outputs": [],
   "source": [
    "list_vects_lda=get_ldav(corpus)\n",
    "df['naturalesa']=[x[30] for x in list_vects_lda]\n",
    "df['MA1_natu'] = df['naturalesa'].rolling(window=10,center=False).mean()"
   ]
  },
  {
   "cell_type": "code",
   "execution_count": 110,
   "metadata": {},
   "outputs": [
    {
     "data": {
      "text/plain": [
       "<matplotlib.legend.Legend at 0x7f616ce1b8d0>"
      ]
     },
     "execution_count": 110,
     "metadata": {},
     "output_type": "execute_result"
    },
    {
     "data": {
      "image/png": "[encoded data removed]",
      "text/plain": [
       "<Figure size 360x216 with 1 Axes>"
      ]
     },
     "metadata": {},
     "output_type": "display_data"
    }
   ],
   "source": [
    "ts_geral= pd.Series(dict(zip(df['Date_doc'],df['MA1_natu'])))\n",
    "fig = plt.figure(figsize=(5,3))\n",
    "ts_geral.plot(label='Environment \\n and energy')\n",
    "plt.legend(loc='best')"
   ]
  },
  {
   "cell_type": "code",
   "execution_count": 113,
   "metadata": {},
   "outputs": [],
   "source": [
    "list_vects_lda=get_ldav(corpus)\n",
    "df['seguridad']=[x[10] for x in list_vects_lda]\n",
    "df['MA1_segur'] = df['seguridad'].rolling(window=10,center=False).mean()"
   ]
  },
  {
   "cell_type": "code",
   "execution_count": 114,
   "metadata": {},
   "outputs": [
    {
     "data": {
      "text/plain": [
       "<matplotlib.legend.Legend at 0x7f616ccf4ef0>"
      ]
     },
     "execution_count": 114,
     "metadata": {},
     "output_type": "execute_result"
    },
    {
     "data": {
      "image/png": "[encoded data removed]",
      "text/plain": [
       "<Figure size 360x216 with 1 Axes>"
      ]
     },
     "metadata": {},
     "output_type": "display_data"
    }
   ],
   "source": [
    "import matplotlib.pyplot as plt\n",
    "ts_geral= pd.Series(dict(zip(df['Date_doc'],df['MA1_segur'])))\n",
    "fig = plt.figure(figsize=(5,3))\n",
    "ts_geral.plot(label='Security, weapons and \\n Military Intervention')\n",
    "plt.legend(loc='best')"
   ]
  },
  {
   "cell_type": "code",
   "execution_count": 115,
   "metadata": {},
   "outputs": [],
   "source": [
    "df['lula']=[x[8] for x in list_vects_lda]\n",
    "df['MA1_lula'] = df['lula'].rolling(window=10,center=False).mean()"
   ]
  },
  {
   "cell_type": "code",
   "execution_count": 118,
   "metadata": {},
   "outputs": [
    {
     "data": {
      "text/plain": [
       "<matplotlib.legend.Legend at 0x7f616cf5bf98>"
      ]
     },
     "execution_count": 118,
     "metadata": {},
     "output_type": "execute_result"
    },
    {
     "data": {
      "image/png": "[encoded data removed]",
      "text/plain": [
       "<Figure size 360x216 with 1 Axes>"
      ]
     },
     "metadata": {},
     "output_type": "display_data"
    }
   ],
   "source": [
    "ts_geral= pd.Series(dict(zip(df['Date_doc'],df['MA1_lula'])))\n",
    "fig = plt.figure(figsize=(5,3))\n",
    "ts_geral.plot(label='Democracy, Lula\\'s prison')\n",
    "plt.legend(loc='best')"
   ]
  },
  {
   "cell_type": "markdown",
   "metadata": {},
   "source": [
    "### Entre candidatos"
   ]
  },
  {
   "cell_type": "code",
   "execution_count": 176,
   "metadata": {},
   "outputs": [],
   "source": [
    "df['MA_bol'] = df[df.Candidato=='Bolsonaro']['education'].rolling(window=10,center=False).mean()\n",
    "df['MA_mar'] = df[df.Candidato=='Marina silva']['education'].rolling(window=10,center=False).mean()\n",
    "df['MA_cir'] = df[df.Candidato=='Ciro Gomes']['education'].rolling(window=10,center=False).mean()\n",
    "df['MA_alv'] = df[df.Candidato=='Alvaro Dias']['education'].rolling(window=10,center=False).mean()"
   ]
  },
  {
   "cell_type": "code",
   "execution_count": 177,
   "metadata": {},
   "outputs": [],
   "source": [
    "ts_bol= pd.Series(dict(zip(df[df.Candidato=='Bolsonaro']['Date_doc'],df[df.Candidato=='Bolsonaro']['MA_bol'])))\n",
    "ts_mar= pd.Series(dict(zip(df[df.Candidato=='Marina silva']['Date_doc'],df[df.Candidato=='Marina silva']['MA_mar'])))\n",
    "ts_cir= pd.Series(dict(zip(df[df.Candidato=='Ciro Gomes']['Date_doc'],df[df.Candidato=='Ciro Gomes']['MA_cir'])))\n",
    "ts_alv= pd.Series(dict(zip(df[df.Candidato=='Alvaro Dias']['Date_doc'],df[df.Candidato=='Alvaro Dias']['MA_alv'])))"
   ]
  },
  {
   "cell_type": "code",
   "execution_count": 178,
   "metadata": {},
   "outputs": [
    {
     "data": {
      "text/plain": [
       "Text(0.5, 0.98, 'Education in schools')"
      ]
     },
     "execution_count": 178,
     "metadata": {},
     "output_type": "execute_result"
    },
    {
     "data": {
      "image/png": "[encoded data removed]",
      "text/plain": [
       "<Figure size 360x216 with 1 Axes>"
      ]
     },
     "metadata": {},
     "output_type": "display_data"
    }
   ],
   "source": [
    "fig = plt.figure(figsize=(5,3))\n",
    "ts_bol.plot(label='Bolsonaro')\n",
    "ts_mar.plot(label='Marina Silva')\n",
    "ts_cir.plot(label='Ciro Gomes')\n",
    "ts_alv.plot(label='Alvaro Dias')\n",
    "plt.legend(loc='best')\n",
    "plt.suptitle(\"Education in schools\")"
   ]
  },
  {
   "cell_type": "code",
   "execution_count": 179,
   "metadata": {},
   "outputs": [],
   "source": [
    "df['MA_bol'] = df[df.Candidato=='Bolsonaro']['seguridad'].rolling(window=10,center=False).mean()\n",
    "df['MA_mar'] = df[df.Candidato=='Marina silva']['seguridad'].rolling(window=10,center=False).mean()\n",
    "df['MA_cir'] = df[df.Candidato=='Ciro Gomes']['seguridad'].rolling(window=10,center=False).mean()\n",
    "df['MA_alv'] = df[df.Candidato=='Alvaro Dias']['seguridad'].rolling(window=10,center=False).mean()\n",
    "ts_bol= pd.Series(dict(zip(df[df.Candidato=='Bolsonaro']['Date_doc'],df[df.Candidato=='Bolsonaro']['MA_bol'])))\n",
    "ts_mar= pd.Series(dict(zip(df[df.Candidato=='Marina silva']['Date_doc'],df[df.Candidato=='Marina silva']['MA_mar'])))\n",
    "ts_cir= pd.Series(dict(zip(df[df.Candidato=='Ciro Gomes']['Date_doc'],df[df.Candidato=='Ciro Gomes']['MA_cir'])))\n",
    "ts_alv= pd.Series(dict(zip(df[df.Candidato=='Alvaro Dias']['Date_doc'],df[df.Candidato=='Alvaro Dias']['MA_alv'])))"
   ]
  },
  {
   "cell_type": "code",
   "execution_count": 180,
   "metadata": {},
   "outputs": [
    {
     "data": {
      "text/plain": [
       "Text(0.5, 0.98, 'Security, weapons and Military Intervention')"
      ]
     },
     "execution_count": 180,
     "metadata": {},
     "output_type": "execute_result"
    },
    {
     "data": {
      "image/png": "[encoded data removed]",
      "text/plain": [
       "<Figure size 360x216 with 1 Axes>"
      ]
     },
     "metadata": {},
     "output_type": "display_data"
    }
   ],
   "source": [
    "fig = plt.figure(figsize=(5,3))\n",
    "ts_bol.plot(label='Jair Bolsonaro')\n",
    "ts_mar.plot(label='Marina Silva')\n",
    "ts_cir.plot(label='Ciro Gomes')\n",
    "ts_alv.plot(label='Alvaro Dias')\n",
    "plt.legend(loc='best')\n",
    "plt.suptitle(\"Security, weapons and Military Intervention\")"
   ]
  },
  {
   "cell_type": "code",
   "execution_count": 159,
   "metadata": {},
   "outputs": [],
   "source": [
    "df['MA_bol'] = df[df.Candidato=='Bolsonaro']['petrobras'].rolling(window=10,center=False).mean()\n",
    "df['MA_mar'] = df[df.Candidato=='Marina silva']['petrobras'].rolling(window=10,center=False).mean()\n",
    "df['MA_cir'] = df[df.Candidato=='Ciro Gomes']['petrobras'].rolling(window=10,center=False).mean()\n",
    "df['MA_alv'] = df[df.Candidato=='Alvaro Dias']['petrobras'].rolling(window=10,center=False).mean()\n",
    "ts_bol= pd.Series(dict(zip(df[df.Candidato=='Bolsonaro']['Date_doc'],df[df.Candidato=='Bolsonaro']['MA_bol'])))\n",
    "ts_mar= pd.Series(dict(zip(df[df.Candidato=='Marina silva']['Date_doc'],df[df.Candidato=='Marina silva']['MA_mar'])))\n",
    "ts_cir= pd.Series(dict(zip(df[df.Candidato=='Ciro Gomes']['Date_doc'],df[df.Candidato=='Ciro Gomes']['MA_cir'])))\n",
    "ts_alv= pd.Series(dict(zip(df[df.Candidato=='Alvaro Dias']['Date_doc'],df[df.Candidato=='Alvaro Dias']['MA_alv'])))"
   ]
  },
  {
   "cell_type": "code",
   "execution_count": 160,
   "metadata": {},
   "outputs": [
    {
     "data": {
      "text/plain": [
       "Text(0.5, 0.98, 'Petroleum and Petrobras')"
      ]
     },
     "execution_count": 160,
     "metadata": {},
     "output_type": "execute_result"
    },
    {
     "data": {
      "image/png": "[encoded data removed]",
      "text/plain": [
       "<Figure size 360x216 with 1 Axes>"
      ]
     },
     "metadata": {},
     "output_type": "display_data"
    }
   ],
   "source": [
    "fig = plt.figure(figsize=(5,3))\n",
    "ts_bol.plot(label='Jair Bolsonaro')\n",
    "ts_mar.plot(label='Marina Silva')\n",
    "ts_cir.plot(label='Ciro Gomes')\n",
    "ts_alv.plot(label='Alvaro Dias')\n",
    "plt.legend(loc='best')\n",
    "plt.suptitle(\"Petroleum and Petrobras\")"
   ]
  },
  {
   "cell_type": "code",
   "execution_count": null,
   "metadata": {},
   "outputs": [],
   "source": [
    "#naturalesa"
   ]
  },
  {
   "cell_type": "code",
   "execution_count": 170,
   "metadata": {},
   "outputs": [],
   "source": [
    "df['MA_bol'] = df[df.Candidato=='Bolsonaro']['naturalesa'].rolling(window=10,center=False).mean()\n",
    "df['MA_mar'] = df[df.Candidato=='Marina silva']['naturalesa'].rolling(window=10,center=False).mean()\n",
    "df['MA_cir'] = df[df.Candidato=='Ciro Gomes']['naturalesa'].rolling(window=10,center=False).mean()\n",
    "df['MA_alv'] = df[df.Candidato=='Alvaro Dias']['naturalesa'].rolling(window=10,center=False).mean()\n",
    "ts_bol= pd.Series(dict(zip(df[df.Candidato=='Bolsonaro']['Date_doc'],df[df.Candidato=='Bolsonaro']['MA_bol'])))\n",
    "ts_mar= pd.Series(dict(zip(df[df.Candidato=='Marina silva']['Date_doc'],df[df.Candidato=='Marina silva']['MA_mar'])))\n",
    "ts_cir= pd.Series(dict(zip(df[df.Candidato=='Ciro Gomes']['Date_doc'],df[df.Candidato=='Ciro Gomes']['MA_cir'])))\n",
    "ts_alv= pd.Series(dict(zip(df[df.Candidato=='Alvaro Dias']['Date_doc'],df[df.Candidato=='Alvaro Dias']['MA_alv'])))"
   ]
  },
  {
   "cell_type": "code",
   "execution_count": 172,
   "metadata": {},
   "outputs": [
    {
     "data": {
      "text/plain": [
       "Text(0.5, 0.98, 'Environment and energy')"
      ]
     },
     "execution_count": 172,
     "metadata": {},
     "output_type": "execute_result"
    },
    {
     "data": {
      "image/png": "[encoded data removed]",
      "text/plain": [
       "<Figure size 360x216 with 1 Axes>"
      ]
     },
     "metadata": {},
     "output_type": "display_data"
    }
   ],
   "source": [
    "fig = plt.figure(figsize=(5,3))\n",
    "ts_bol.plot(label='Jair Bolsonaro')\n",
    "ts_mar.plot(label='Marina Silva')\n",
    "ts_cir.plot(label='Ciro Gomes')\n",
    "ts_alv.plot(label='Alvaro Dias')\n",
    "plt.legend(loc='best')\n",
    "plt.suptitle(\"Environment and energy\")"
   ]
  },
  {
   "cell_type": "code",
   "execution_count": 174,
   "metadata": {},
   "outputs": [],
   "source": [
    "df['MA_bol'] = df[df.Candidato=='Bolsonaro']['lula'].rolling(window=10,center=False).mean()\n",
    "df['MA_mar'] = df[df.Candidato=='Marina silva']['lula'].rolling(window=10,center=False).mean()\n",
    "df['MA_cir'] = df[df.Candidato=='Ciro Gomes']['lula'].rolling(window=10,center=False).mean()\n",
    "df['MA_alv'] = df[df.Candidato=='Alvaro Dias']['lula'].rolling(window=10,center=False).mean()\n",
    "ts_bol= pd.Series(dict(zip(df[df.Candidato=='Bolsonaro']['Date_doc'],df[df.Candidato=='Bolsonaro']['MA_bol'])))\n",
    "ts_mar= pd.Series(dict(zip(df[df.Candidato=='Marina silva']['Date_doc'],df[df.Candidato=='Marina silva']['MA_mar'])))\n",
    "ts_cir= pd.Series(dict(zip(df[df.Candidato=='Ciro Gomes']['Date_doc'],df[df.Candidato=='Ciro Gomes']['MA_cir'])))\n",
    "ts_alv= pd.Series(dict(zip(df[df.Candidato=='Alvaro Dias']['Date_doc'],df[df.Candidato=='Alvaro Dias']['MA_alv'])))"
   ]
  },
  {
   "cell_type": "code",
   "execution_count": 175,
   "metadata": {},
   "outputs": [
    {
     "data": {
      "text/plain": [
       "Text(0.5, 0.98, 'Environment and energy')"
      ]
     },
     "execution_count": 175,
     "metadata": {},
     "output_type": "execute_result"
    },
    {
     "data": {
      "image/png": "[encoded data removed]",
      "text/plain": [
       "<Figure size 360x216 with 1 Axes>"
      ]
     },
     "metadata": {},
     "output_type": "display_data"
    }
   ],
   "source": [
    "fig = plt.figure(figsize=(5,3))\n",
    "ts_bol.plot(label='Jair Bolsonaro')\n",
    "ts_mar.plot(label='Marina Silva')\n",
    "ts_cir.plot(label='Ciro Gomes')\n",
    "ts_alv.plot(label='Alvaro Dias')\n",
    "plt.legend(loc='best')\n",
    "plt.suptitle(\"Environment and energy\")"
   ]
  },
  {
   "cell_type": "code",
   "execution_count": 98,
   "metadata": {},
   "outputs": [
    {
     "data": {
      "text/html": [
       "<div>\n",
       "<style scoped>\n",
       "    .dataframe tbody tr th:only-of-type {\n",
       "        vertical-align: middle;\n",
       "    }\n",
       "\n",
       "    .dataframe tbody tr th {\n",
       "        vertical-align: top;\n",
       "    }\n",
       "\n",
       "    .dataframe thead th {\n",
       "        text-align: right;\n",
       "    }\n",
       "</style>\n",
       "<table border=\"1\" class=\"dataframe\">\n",
       "  <thead>\n",
       "    <tr style=\"text-align: right;\">\n",
       "      <th></th>\n",
       "      <th>Candidato</th>\n",
       "      <th>Date_doc</th>\n",
       "      <th>Id_doc</th>\n",
       "      <th>Mes</th>\n",
       "      <th>Text</th>\n",
       "      <th>Title</th>\n",
       "      <th>Weights_kbs</th>\n",
       "      <th>Text_clean</th>\n",
       "      <th>abreviatura</th>\n",
       "      <th>educacion</th>\n",
       "      <th>MA1_edu</th>\n",
       "      <th>petrobras</th>\n",
       "      <th>MA1_pbr</th>\n",
       "      <th>aborto</th>\n",
       "      <th>MA1_abort</th>\n",
       "      <th>MA_bol</th>\n",
       "      <th>MA_mar</th>\n",
       "      <th>MA_cir</th>\n",
       "      <th>MA_alv</th>\n",
       "    </tr>\n",
       "  </thead>\n",
       "  <tbody>\n",
       "    <tr>\n",
       "      <th>392</th>\n",
       "      <td>Alvaro Dias</td>\n",
       "      <td>2017-07-05</td>\n",
       "      <td>1</td>\n",
       "      <td>antigo</td>\n",
       "      <td>﻿o senhor é um pré-candidato à  presidência os...</td>\n",
       "      <td>Alvaro Dias conta suas propostas para 2018</td>\n",
       "      <td>3395</td>\n",
       "      <td>presidência seguidores ouvi evento poderoso fa...</td>\n",
       "      <td>Alva_ant_1</td>\n",
       "      <td>0.007226</td>\n",
       "      <td>NaN</td>\n",
       "      <td>0.006848</td>\n",
       "      <td>NaN</td>\n",
       "      <td>0.042580</td>\n",
       "      <td>NaN</td>\n",
       "      <td>NaN</td>\n",
       "      <td>NaN</td>\n",
       "      <td>NaN</td>\n",
       "      <td>NaN</td>\n",
       "    </tr>\n",
       "    <tr>\n",
       "      <th>670</th>\n",
       "      <td>Ciro Gomes</td>\n",
       "      <td>2017-08-09</td>\n",
       "      <td>2</td>\n",
       "      <td>antigo</td>\n",
       "      <td>﻿o banheiro não esquece o microfone  ligado no...</td>\n",
       "      <td>Ciro Gomes - Pânico -</td>\n",
       "      <td>60115</td>\n",
       "      <td>banheiro esquece microfone querer volta progra...</td>\n",
       "      <td>Ciro_ant_2</td>\n",
       "      <td>0.012234</td>\n",
       "      <td>NaN</td>\n",
       "      <td>0.003848</td>\n",
       "      <td>NaN</td>\n",
       "      <td>0.005769</td>\n",
       "      <td>NaN</td>\n",
       "      <td>NaN</td>\n",
       "      <td>NaN</td>\n",
       "      <td>NaN</td>\n",
       "      <td>NaN</td>\n",
       "    </tr>\n",
       "  </tbody>\n",
       "</table>\n",
       "</div>"
      ],
      "text/plain": [
       "       Candidato   Date_doc Id_doc     Mes  \\\n",
       "392  Alvaro Dias 2017-07-05      1  antigo   \n",
       "670   Ciro Gomes 2017-08-09      2  antigo   \n",
       "\n",
       "                                                  Text  \\\n",
       "392  ﻿o senhor é um pré-candidato à  presidência os...   \n",
       "670  ﻿o banheiro não esquece o microfone  ligado no...   \n",
       "\n",
       "                                          Title  Weights_kbs  \\\n",
       "392  Alvaro Dias conta suas propostas para 2018         3395   \n",
       "670                       Ciro Gomes - Pânico -        60115   \n",
       "\n",
       "                                            Text_clean abreviatura  educacion  \\\n",
       "392  presidência seguidores ouvi evento poderoso fa...  Alva_ant_1   0.007226   \n",
       "670  banheiro esquece microfone querer volta progra...  Ciro_ant_2   0.012234   \n",
       "\n",
       "     MA1_edu  petrobras  MA1_pbr    aborto  MA1_abort  MA_bol  MA_mar  MA_cir  \\\n",
       "392      NaN   0.006848      NaN  0.042580        NaN     NaN     NaN     NaN   \n",
       "670      NaN   0.003848      NaN  0.005769        NaN     NaN     NaN     NaN   \n",
       "\n",
       "     MA_alv  \n",
       "392     NaN  \n",
       "670     NaN  "
      ]
     },
     "execution_count": 98,
     "metadata": {},
     "output_type": "execute_result"
    }
   ],
   "source": [
    "df.head(2)"
   ]
  },
  {
   "cell_type": "code",
   "execution_count": null,
   "metadata": {},
   "outputs": [],
   "source": [
    "lda.get_document_topics(dictionary.doc2bow(text))"
   ]
  },
  {
   "cell_type": "raw",
   "metadata": {},
   "source": [
    "import pyLDAvis.gensim\n",
    "pyLDAvis.enable_notebook()\n",
    "\n",
    "import warnings\n",
    "warnings.filterwarnings(\"ignore\", category=DeprecationWarning) "
   ]
  },
  {
   "cell_type": "markdown",
   "metadata": {},
   "source": [
    "pyLDAvis.gensim.prepare(lda_model, corpus, dictionary)"
   ]
  },
  {
   "cell_type": "raw",
   "metadata": {},
   "source": [
    "lda_model[corpus[0]]"
   ]
  },
  {
   "cell_type": "code",
   "execution_count": 5,
   "metadata": {},
   "outputs": [],
   "source": [
    "def print_top_words(model, feature_names, n_top_words):\n",
    "    for topic_idx, topic in enumerate(model.components_):\n",
    "        print(\"Topic #%d:\" % topic_idx, \" \".join([feature_names[i]\n",
    "                        for i in topic.argsort()[:-n_top_words - 1:-1]]))\n",
    "    print()"
   ]
  },
  {
   "cell_type": "code",
   "execution_count": 6,
   "metadata": {},
   "outputs": [
    {
     "ename": "NameError",
     "evalue": "name 'tf_feature_names' is not defined",
     "output_type": "error",
     "traceback": [
      "\u001b[0;31m---------------------------------------------------------------------------\u001b[0m",
      "\u001b[0;31mNameError\u001b[0m                                 Traceback (most recent call last)",
      "\u001b[0;32m<ipython-input-6-5378bbffbfec>\u001b[0m in \u001b[0;36m<module>\u001b[0;34m()\u001b[0m\n\u001b[0;32m----> 1\u001b[0;31m \u001b[0mprint_top_words\u001b[0m\u001b[0;34m(\u001b[0m\u001b[0mlda_model\u001b[0m\u001b[0;34m,\u001b[0m \u001b[0mtf_feature_names\u001b[0m\u001b[0;34m,\u001b[0m \u001b[0;36m10\u001b[0m\u001b[0;34m)\u001b[0m\u001b[0;34m\u001b[0m\u001b[0m\n\u001b[0m",
      "\u001b[0;31mNameError\u001b[0m: name 'tf_feature_names' is not defined"
     ]
    }
   ],
   "source": [
    "print_top_words(lda_model, tf_feature_names, 10)"
   ]
  },
  {
   "cell_type": "markdown",
   "metadata": {},
   "source": [
    "#### Built model LDA mallet"
   ]
  },
  {
   "cell_type": "code",
   "execution_count": 1,
   "metadata": {},
   "outputs": [],
   "source": [
    "from gensim import corpora, models\n",
    "import gensim\n",
    "from gensim.models import CoherenceModel\n",
    "import pandas as pd\n",
    "\n",
    "#df=pd.read_pickle('./pandas_data_candidatos__premas.pd') normal\n",
    "df=pd.read_pickle('./pandas_data_candidatos_premas_lema.pd')\n",
    "\n",
    "texts=[]\n",
    "for a in df.Text:\n",
    "    texts.append(a.split())\n",
    "    \n",
    "dictionary = corpora.Dictionary(texts)\n",
    "corpus = [dictionary.doc2bow(text) for text in texts]\n",
    "#"
   ]
  },
  {
   "cell_type": "code",
   "execution_count": 2,
   "metadata": {},
   "outputs": [],
   "source": [
    "k2=[]\n",
    "def compute_coherence_values2(dictionary, corpus, texts, limit, start, step=1):\n",
    "    coherencemodel_cv = []\n",
    "    coherencemodel_umass=[]\n",
    "    model_list2 = []\n",
    "    mallet_path = '/home/kid/Documentos/LMCD/mallet-2.0.8/mallet-2.0.8/bin/mallet' # update this path\n",
    "    for num_topics in range(start, limit, step):\n",
    "        k2.append(str(num_topics))\n",
    "        model=gensim.models.wrappers.LdaMallet(mallet_path, corpus=corpus, num_topics=num_topics, id2word=dictionary,workers=4)\n",
    "        print('Terminado model k= '+str(num_topics))\n",
    "        model_list2.append(model)\n",
    "        cohe_cv = CoherenceModel(model=model, texts=texts, dictionary=dictionary, coherence='c_v') \n",
    "        #cohe_umass = CoherenceModel(model=model, texts=texts, dictionary=dictionary, coherence='u_mass')\n",
    "        coherencemodel_cv.append(cohe_cv.get_coherence())\n",
    "        #coherencemodel_umass.append(cohe_umass.get_coherence())\n",
    "\n",
    "    return model_list2, coherencemodel_cv, coherencemodel_umass"
   ]
  },
  {
   "cell_type": "code",
   "execution_count": 20,
   "metadata": {},
   "outputs": [
    {
     "name": "stdout",
     "output_type": "stream",
     "text": [
      "Terminado model k= 50\n",
      "Terminado model k= 54\n",
      "Terminado model k= 58\n"
     ]
    }
   ],
   "source": [
    "modelLists=[]\n",
    "ch_cvLists=[]\n",
    "ch_umssLists=[]\n",
    "for it in range(1):\n",
    "    model_list, ch_cv, ch_umss = compute_coherence_values2(dictionary, corpus, texts, start=50, limit=61, step=4)\n",
    "    modelLists.append(model_list)\n",
    "    ch_cvLists.append(ch_cv)\n",
    "    #ch_umssLists.append(ch_umss)"
   ]
  },
  {
   "cell_type": "raw",
   "metadata": {},
   "source": [
    "[0.43076154843068926],\n",
    " [0.43615661090559577],\n",
    " [0.43936192135380947],\n",
    " [0.4323890679241885],\n",
    " [0.43449014878579795],\n",
    " [0.4348256161943032],\n",
    " [0.44271578743793616],\n",
    " [0.4261947083094617],\n",
    " [0.42676832046768026],\n",
    " [0.4362745653005956]]"
   ]
  },
  {
   "cell_type": "code",
   "execution_count": 21,
   "metadata": {},
   "outputs": [
    {
     "data": {
      "text/plain": [
       "[[0.40579408062816463, 0.3975692927385773, 0.3995534150740454]]"
      ]
     },
     "execution_count": 21,
     "metadata": {},
     "output_type": "execute_result"
    }
   ],
   "source": [
    "ch_cvLists"
   ]
  },
  {
   "cell_type": "raw",
   "metadata": {},
   "source": [
    "import matplotlib.pyplot as plt\n",
    "plt.figure(figsize=(8, 5))\n",
    "iy=0\n",
    "for c in ch_cvLists:\n",
    "    plt.plot(k2[:1], c, label='Run '+str(iy+1))\n",
    "    iy=iy+1\n",
    "#plt.title(\"Choosing Optimal LDA Model\")\n",
    "plt.xlabel(\"Number of Topics\")\n",
    "plt.ylabel(\"Coherence valuess\")\n",
    "plt.legend(title='Number running', loc='best')\n",
    "plt.show()"
   ]
  },
  {
   "cell_type": "code",
   "execution_count": 8,
   "metadata": {},
   "outputs": [],
   "source": [
    "maxi=0\n",
    "modelmas=None\n",
    "i=0\n",
    "for c, m in zip(ch_cvLists[0],modelLists[0]):\n",
    "    if c>maxi:\n",
    "        i=i+1\n",
    "        maxi=c\n",
    "        modelmas=m"
   ]
  },
  {
   "cell_type": "code",
   "execution_count": null,
   "metadata": {},
   "outputs": [],
   "source": []
  },
  {
   "cell_type": "markdown",
   "metadata": {},
   "source": [
    "# gana 1"
   ]
  },
  {
   "cell_type": "code",
   "execution_count": 22,
   "metadata": {},
   "outputs": [
    {
     "data": {
      "text/plain": [
       "[(0,\n",
       "  [('município', 0.059428950863213814),\n",
       "   ('prefeito', 0.030931828242585214),\n",
       "   ('recurso', 0.023793714032757856),\n",
       "   ('saudar', 0.023517042939353697),\n",
       "   ('estar', 0.022465692784417884),\n",
       "   ('educação', 0.021801682160247898),\n",
       "   ('federal', 0.01909030544488712),\n",
       "   ('união', 0.01693227091633466),\n",
       "   ('federativo', 0.013944223107569721),\n",
       "   ('saneamento', 0.012726870296591412)]),\n",
       " (1,\n",
       "  [('reformar', 0.025583550016438028),\n",
       "   ('corrupção', 0.018799127290116263),\n",
       "   ('poder', 0.01766340894826504),\n",
       "   ('congresso', 0.015033324367135897),\n",
       "   ('proposto', 0.014585014495352521),\n",
       "   ('paraná', 0.014076929973998028),\n",
       "   ('mudar', 0.01404704264921247),\n",
       "   ('mudança', 0.013509070803072417),\n",
       "   ('combater', 0.012761887683433455),\n",
       "   ('dia', 0.012761887683433455)]),\n",
       " (2,\n",
       "  [('oportunidade', 0.0215693018228271),\n",
       "   ('futurar', 0.019309192747997837),\n",
       "   ('viver', 0.017147349285117672),\n",
       "   ('agradecer', 0.016950818061219477),\n",
       "   ('acreditar', 0.014739841792364762),\n",
       "   ('olhar', 0.013364123225077384),\n",
       "   ('ouvir', 0.013364123225077384),\n",
       "   ('precisar', 0.013167592001179187),\n",
       "   ('querer', 0.011300545374146317),\n",
       "   ('coragem', 0.01115314695622267)]),\n",
       " (3,\n",
       "  [('dinheiro', 0.04615276211950395),\n",
       "   ('milhão', 0.03889515219842165),\n",
       "   ('pagar', 0.029981679819616684),\n",
       "   ('empregar', 0.02712795941375423),\n",
       "   ('família', 0.022970687711386696),\n",
       "   ('bolsar', 0.02261837655016911),\n",
       "   ('salário', 0.02205467869222097),\n",
       "   ('receber', 0.01983511837655017),\n",
       "   ('impor', 0.0189543404735062),\n",
       "   ('gastar', 0.016276775648252535)]),\n",
       " (4,\n",
       "  [('banco', 0.02056038396679206),\n",
       "   ('colocar', 0.01978207290180309),\n",
       "   ('passar', 0.011804384485666104),\n",
       "   ('levar', 0.010701777143598391),\n",
       "   ('bilião', 0.009988325334025166),\n",
       "   ('milhão', 0.009793747567777922),\n",
       "   ('ver', 0.009145155013620444),\n",
       "   ('tirar', 0.0089505772473732),\n",
       "   ('levy', 0.0089505772473732),\n",
       "   ('dinheiro', 0.008496562459462965)]),\n",
       " (5,\n",
       "  [('passar', 0.015542690241485422),\n",
       "   ('federal', 0.014030146560267041),\n",
       "   ('setor', 0.012934856308350284),\n",
       "   ('acreditar', 0.012361132843060554),\n",
       "   ('gerar', 0.011839566056433526),\n",
       "   ('decisão', 0.011578782663120013),\n",
       "   ('condição', 0.011265842591143795),\n",
       "   ('agendar', 0.008866635372659469),\n",
       "   ('conseguir', 0.008658008658008658),\n",
       "   ('principalmente', 0.008658008658008658)]),\n",
       " (6,\n",
       "  [('educação', 0.07390029325513196),\n",
       "   ('escola', 0.06000733137829912),\n",
       "   ('ensinar', 0.05274926686217009),\n",
       "   ('universidade', 0.020417888563049852),\n",
       "   ('professorar', 0.018328445747800588),\n",
       "   ('qualidade', 0.01719208211143695),\n",
       "   ('professor', 0.017082111436950147),\n",
       "   ('médio', 0.014736070381231672),\n",
       "   ('criança', 0.014296187683284457),\n",
       "   ('básico', 0.013049853372434018)]),\n",
       " (7,\n",
       "  [('marino', 0.023366177357731752),\n",
       "   ('redar', 0.01721294992961995),\n",
       "   ('ganhar', 0.016328172129499295),\n",
       "   ('justiçar', 0.014558616529257993),\n",
       "   ('corrupção', 0.014437965011059723),\n",
       "   ('dilma', 0.011944500301628795),\n",
       "   ('lavar', 0.01162276291976674),\n",
       "   ('defender', 0.011461894228835713),\n",
       "   ('silvar', 0.010737985119646088),\n",
       "   ('jato', 0.010657550774180576)]),\n",
       " (8,\n",
       "  [('amigar', 0.017991696140242965),\n",
       "   ('prefeito', 0.016658977907632374),\n",
       "   ('acabar', 0.0163514275462607),\n",
       "   ('pai', 0.015787585217079295),\n",
       "   ('ficar', 0.015531293249269568),\n",
       "   ('casar', 0.014864934132964273),\n",
       "   ('roubar', 0.01307089035829617),\n",
       "   ('cidade', 0.012712081603362551),\n",
       "   ('amigo', 0.012302014454866984),\n",
       "   ('acreditar', 0.009021477266902455)]),\n",
       " (9,\n",
       "  [('garantir', 0.020616524755597603),\n",
       "   ('desenvolvimento', 0.016595711132134972),\n",
       "   ('crise', 0.01643803216650899),\n",
       "   ('defender', 0.013087354146956796),\n",
       "   ('projeto', 0.012653736991485335),\n",
       "   ('sair', 0.010682749921160518),\n",
       "   ('conjuntar', 0.010603910438347524),\n",
       "   ('viver', 0.010564490696941028),\n",
       "   ('pensar', 0.01044623147272154),\n",
       "   ('trabalhador', 0.010406811731315043)]),\n",
       " (10,\n",
       "  [('produção', 0.027184993883376377),\n",
       "   ('agronegócio', 0.024058719586788093),\n",
       "   ('agricultura', 0.02365094467853745),\n",
       "   ('rural', 0.022767432377327715),\n",
       "   ('produtor', 0.016718771238276472),\n",
       "   ('campar', 0.015223596574690771),\n",
       "   ('terra', 0.01366045942639663),\n",
       "   ('agrícola', 0.013592496941688188),\n",
       "   ('produto', 0.011757509854560283),\n",
       "   ('propriedade', 0.011417697431018078)]),\n",
       " (11,\n",
       "  [('pt', 0.0588631679086729),\n",
       "   ('venezuela', 0.017599492627239574),\n",
       "   ('perguntar', 0.014111304899318219),\n",
       "   ('bolsonaro', 0.013596004439511655),\n",
       "   ('fernando', 0.012327572538449343),\n",
       "   ('dilma', 0.011970826066275567),\n",
       "   ('responder', 0.01193118756936737),\n",
       "   ('esquerdo', 0.011851910575550975),\n",
       "   ('sair', 0.01034564769303948),\n",
       "   ('temer', 0.010306009196131283)]),\n",
       " (12,\n",
       "  [('vidar', 0.01961038961038961),\n",
       "   ('direito', 0.014285714285714285),\n",
       "   ('deixar', 0.01422077922077922),\n",
       "   ('família', 0.012922077922077922),\n",
       "   ('igreja', 0.012792207792207792),\n",
       "   ('evangélico', 0.012077922077922078),\n",
       "   ('fé', 0.011688311688311689),\n",
       "   ('gostar', 0.011233766233766233),\n",
       "   ('saber', 0.01038961038961039),\n",
       "   ('irmão', 0.01038961038961039)]),\n",
       " (13,\n",
       "  [('crescer', 0.018378286394962987),\n",
       "   ('reformar', 0.015655577299412915),\n",
       "   ('melhorar', 0.01399642644431209),\n",
       "   ('empregar', 0.011741682974559686),\n",
       "   ('ganhar', 0.010039989789840892),\n",
       "   ('federal', 0.009954905130604952),\n",
       "   ('dinheiro', 0.009146600867863524),\n",
       "   ('inteirar', 0.009018973879009615),\n",
       "   ('aliás', 0.008848804560537734),\n",
       "   ('reduzir', 0.008551008253211945)]),\n",
       " (14,\n",
       "  [('entender', 0.023709979095610078),\n",
       "   ('cidadão', 0.021949609417977776),\n",
       "   ('dever', 0.015953350203542743),\n",
       "   ('acabar', 0.014578061392892508),\n",
       "   ('gostar', 0.013670370777863351),\n",
       "   ('contar', 0.013092749477390251),\n",
       "   ('gestão', 0.012900209043899219),\n",
       "   ('poder', 0.011799977995379029),\n",
       "   ('melhorar', 0.011442402904609968),\n",
       "   ('recurso', 0.010974804708988888)]),\n",
       " (15,\n",
       "  [('ciro', 0.03449375922159748),\n",
       "   ('gomar', 0.02755513019898712),\n",
       "   ('cear', 0.012441679626749611),\n",
       "   ('pobre', 0.011803644774095784),\n",
       "   ('passar', 0.01116560992144196),\n",
       "   ('irmão', 0.010806715316824181),\n",
       "   ('ajudar', 0.010288311999042947),\n",
       "   ('contar', 0.009769908681261714),\n",
       "   ('dinheiro', 0.0094508912549348),\n",
       "   ('experiência', 0.009131873828607888)]),\n",
       " (16,\n",
       "  [('militar', 0.029875797247398455),\n",
       "   ('armar', 0.020350788855320576),\n",
       "   ('forçar', 0.010406176569318564),\n",
       "   ('exército', 0.01036421617992615),\n",
       "   ('policial', 0.009525008392077879),\n",
       "   ('casar', 0.00872776099362202),\n",
       "   ('lei', 0.008434038267875126),\n",
       "   ('pt', 0.008392077878482713),\n",
       "   ('matar', 0.008308157099697885),\n",
       "   ('imprensar', 0.007930513595166163)]),\n",
       " (17,\n",
       "  [('conseguir', 0.01484834383857185),\n",
       "   ('ambientar', 0.014129193282287745),\n",
       "   ('energia', 0.013959981386691484),\n",
       "   ('ajudar', 0.013240830830407377),\n",
       "   ('base', 0.011844832691738229),\n",
       "   ('milhão', 0.00985659291848217),\n",
       "   ('criar', 0.009729683996784973),\n",
       "   ('educação', 0.009348957231693388),\n",
       "   ('programar', 0.00837598883201489),\n",
       "   ('mudar', 0.008333685858115825)]),\n",
       " (18,\n",
       "  [('vidar', 0.0173183090070332),\n",
       "   ('livrar', 0.017167057399984875),\n",
       "   ('sentir', 0.015578915525977463),\n",
       "   ('ver', 0.01512516070483249),\n",
       "   ('levar', 0.01172199954624518),\n",
       "   ('entender', 0.011192618921576043),\n",
       "   ('estudar', 0.01051198668985858),\n",
       "   ('depressão', 0.009982606065189442),\n",
       "   ('espaçar', 0.009528851244044468),\n",
       "   ('sofrer', 0.008772593208802843)]),\n",
       " (19,\n",
       "  [('bilião', 0.021816580601256956),\n",
       "   ('dívida', 0.021136063408190225),\n",
       "   ('fiscal', 0.016172290941115247),\n",
       "   ('taxar', 0.01220927905207958),\n",
       "   ('prático', 0.009166966894840079),\n",
       "   ('receitar', 0.00900684520235379),\n",
       "   ('orçamentar', 0.008966814779232217),\n",
       "   ('câmbio', 0.008926784356110645),\n",
       "   ('jurar', 0.008926784356110645),\n",
       "   ('mercar', 0.008806693086745927)]),\n",
       " (20,\n",
       "  [('chegar', 0.02057787174066244),\n",
       "   ('pensar', 0.017089499647639183),\n",
       "   ('conseguir', 0.016596194503171246),\n",
       "   ('passar', 0.015010570824524313),\n",
       "   ('tirar', 0.014411557434813248),\n",
       "   ('começar', 0.014059196617336152),\n",
       "   ('chamar', 0.013988724453840733),\n",
       "   ('casar', 0.013918252290345313),\n",
       "   ('contar', 0.013565891472868217),\n",
       "   ('funcionar', 0.013037350246652573)]),\n",
       " (21,\n",
       "  [('rádio', 0.02494286647078028),\n",
       "   ('programar', 0.01749918380672543),\n",
       "   ('bahia', 0.015997388181521383),\n",
       "   ('ver', 0.012863206007182501),\n",
       "   ('br', 0.009794319294809012),\n",
       "   ('ouvir', 0.009729023832843617),\n",
       "   ('segurança', 0.009141364675155077),\n",
       "   ('vidar', 0.008749591903362716),\n",
       "   ('ouvinte', 0.008357819131570356),\n",
       "   ('participar', 0.00803134182174339)]),\n",
       " (22,\n",
       "  [('voltar', 0.015203922612033904),\n",
       "   ('negócio', 0.013911589190011023),\n",
       "   ('deixar', 0.013227412672469498),\n",
       "   ('dinheiro', 0.012733285187578396),\n",
       "   ('ver', 0.012581245961458057),\n",
       "   ('mandar', 0.012277167509217379),\n",
       "   ('sair', 0.012163138089627124),\n",
       "   ('chegar', 0.011364932152495344),\n",
       "   ('querer', 0.010984834087194497),\n",
       "   ('entrar', 0.010566726215363564)]),\n",
       " (23,\n",
       "  [('investimento', 0.023103032957407205),\n",
       "   ('social', 0.016387459396328335),\n",
       "   ('tributário', 0.015146538194824628),\n",
       "   ('impor', 0.011861746779079528),\n",
       "   ('dívida', 0.01167925836709369),\n",
       "   ('pago', 0.011387276907916348),\n",
       "   ('juro', 0.01116829081353334),\n",
       "   ('privilégio', 0.010584327895178656),\n",
       "   ('gerar', 0.009963867294426804),\n",
       "   ('cortar', 0.009452899740866456)]),\n",
       " (24,\n",
       "  [('negro', 0.021341947783720807),\n",
       "   ('tratar', 0.021077159349679606),\n",
       "   ('pensar', 0.018164486575226395),\n",
       "   ('condição', 0.016310967536937986),\n",
       "   ('semana', 0.013027590954827093),\n",
       "   ('questão', 0.012603929460361171),\n",
       "   ('periferia', 0.011174071916538686),\n",
       "   ('sair', 0.010485621988031563),\n",
       "   ('mandar', 0.010167875867182121),\n",
       "   ('passar', 0.010114918180373881)]),\n",
       " (25,\n",
       "  [('empresar', 0.05814071886773241),\n",
       "   ('banco', 0.0473135797440858),\n",
       "   ('mercar', 0.0314631911210671),\n",
       "   ('privar', 0.022842208872144724),\n",
       "   ('passar', 0.017106200997861726),\n",
       "   ('financeiro', 0.01547703899806537),\n",
       "   ('taxar', 0.014119403998235075),\n",
       "   ('entrar', 0.013847876998269015),\n",
       "   ('econômica', 0.012795709873400537),\n",
       "   ('pequeno', 0.012422360248447204)]),\n",
       " (26,\n",
       "  [('esquerdo', 0.031212438447520453),\n",
       "   ('social', 0.026327013299212904),\n",
       "   ('projeto', 0.02035593811794812),\n",
       "   ('construir', 0.01783567911286883),\n",
       "   ('movimentar', 0.01531542010778954),\n",
       "   ('colocar', 0.014346089721220581),\n",
       "   ('golpe', 0.012562521809933698),\n",
       "   ('lutar', 0.012523748594470939),\n",
       "   ('crise', 0.01229110930169439),\n",
       "   ('programar', 0.01205847000891784)]),\n",
       " (27,\n",
       "  [('nacional', 0.03389723320158103),\n",
       "   ('desenvolvimento', 0.014292490118577075),\n",
       "   ('milhão', 0.01309090909090909),\n",
       "   ('complexo', 0.01166798418972332),\n",
       "   ('saudar', 0.008853754940711462),\n",
       "   ('médio', 0.008790513833992096),\n",
       "   ('discutir', 0.008284584980237155),\n",
       "   ('resolver', 0.007462450592885375),\n",
       "   ('industrial', 0.007367588932806324),\n",
       "   ('moderno', 0.00733596837944664)]),\n",
       " (28,\n",
       "  [('casar', 0.034517133956386295),\n",
       "   ('social', 0.02809968847352025),\n",
       "   ('movimentar', 0.02679127725856698),\n",
       "   ('moradia', 0.023738317757009346),\n",
       "   ('ocupação', 0.02336448598130841),\n",
       "   ('família', 0.014454828660436137),\n",
       "   ('morar', 0.013333333333333334),\n",
       "   ('cidade', 0.013333333333333334),\n",
       "   ('pagar', 0.013084112149532711),\n",
       "   ('passar', 0.012523364485981308)]),\n",
       " (29,\n",
       "  [('prático', 0.01640620655135977),\n",
       "   ('milhão', 0.012346365608141927),\n",
       "   ('fechar', 0.012068294310661254),\n",
       "   ('internacional', 0.011400923196707637),\n",
       "   ('deixar', 0.011122851899226962),\n",
       "   ('propor', 0.010956009120738557),\n",
       "   ('chamar', 0.009954952449808131),\n",
       "   ('trocar', 0.009732495411823592),\n",
       "   ('tomar', 0.009510038373839052),\n",
       "   ('projeto', 0.009009510038373839)]),\n",
       " (30,\n",
       "  [('congresso', 0.011018107277075504),\n",
       "   ('evento', 0.010078578749572941),\n",
       "   ('ser', 0.009907755380936112),\n",
       "   ('real', 0.009822343696617697),\n",
       "   ('social', 0.009309873590707209),\n",
       "   ('programar', 0.009224461906388794),\n",
       "   ('futebol', 0.008882815169115136),\n",
       "   ('nacional', 0.008028698325930988),\n",
       "   ('henrique', 0.007772463272975743),\n",
       "   ('serviço', 0.007772463272975743)]),\n",
       " (31,\n",
       "  [('passar', 0.01552782884186647),\n",
       "   ('bolsonaro', 0.015097586732897876),\n",
       "   ('entender', 0.01455000586693785),\n",
       "   ('querer', 0.013337505378026361),\n",
       "   ('poder', 0.01298548910705206),\n",
       "   ('buscar', 0.01282903743106348),\n",
       "   ('economia', 0.012789924512066335),\n",
       "   ('ministério', 0.01275081159306919),\n",
       "   ('ver', 0.011929440294129151),\n",
       "   ('jair', 0.011694762780146282)]),\n",
       " (32,\n",
       "  [('investimento', 0.03115318416523236),\n",
       "   ('tributário', 0.021686746987951807),\n",
       "   ('setor', 0.01549053356282272),\n",
       "   ('passar', 0.014285714285714285),\n",
       "   ('impor', 0.012822719449225473),\n",
       "   ('estar', 0.012048192771084338),\n",
       "   ('trazer', 0.011574870912220309),\n",
       "   ('indústria', 0.010929432013769363),\n",
       "   ('economia', 0.010757314974182444),\n",
       "   ('reformar', 0.010025817555938038)]),\n",
       " (33,\n",
       "  [('bilião', 0.010195153497926731),\n",
       "   ('recurso', 0.010004945410278845),\n",
       "   ('render', 0.00951040438239434),\n",
       "   ('reformar', 0.009472362764864762),\n",
       "   ('público', 0.008673488796743638),\n",
       "   ('lei', 0.008559363944154906),\n",
       "   ('investimento', 0.008140906151329555),\n",
       "   ('país', 0.007950698063681668),\n",
       "   ('tributário', 0.007608323505915471),\n",
       "   ('fiscal', 0.007189865713090121)]),\n",
       " (34,\n",
       "  [('democracia', 0.0255435312469533),\n",
       "   ('provar', 0.01847518767670859),\n",
       "   ('dilma', 0.016671541386370285),\n",
       "   ('história', 0.013502973579019206),\n",
       "   ('liberdade', 0.013405479184946865),\n",
       "   ('esquerdo', 0.012966754411621331),\n",
       "   ('dizer', 0.01286926001754899),\n",
       "   ('direito', 0.012674271229404309),\n",
       "   ('democrático', 0.012040557667934094),\n",
       "   ('corrupção', 0.011991810470897923)]),\n",
       " (35,\n",
       "  [('segurança', 0.06498976082840693),\n",
       "   ('polícia', 0.0503844519145319),\n",
       "   ('armar', 0.037556508635678686),\n",
       "   ('drogar', 0.03002202387852092),\n",
       "   ('violência', 0.025887716857926665),\n",
       "   ('crime', 0.022178432054402845),\n",
       "   ('federal', 0.01530079981453576),\n",
       "   ('resolver', 0.014025733163324446),\n",
       "   ('estar', 0.013137050345813531),\n",
       "   ('inteligência', 0.012596112978632975)]),\n",
       " (36,\n",
       "  [('preço', 0.06537498352444972),\n",
       "   ('petrobras', 0.048504020034269145),\n",
       "   ('petróleo', 0.04039804929484645),\n",
       "   ('aumentar', 0.022736259391063662),\n",
       "   ('combustível', 0.021484117569526822),\n",
       "   ('gasolina', 0.016870963490180572),\n",
       "   ('empresar', 0.01542111506524318),\n",
       "   ('greve', 0.015025701858442072),\n",
       "   ('caminhoneiros', 0.014959799657308554),\n",
       "   ('voltar', 0.01482799525504152)]),\n",
       " (37,\n",
       "  [('chino', 0.01862652183422031),\n",
       "   ('projeto', 0.013414011810162572),\n",
       "   ('unir', 0.013085951738718378),\n",
       "   ('comprar', 0.01264853831012612),\n",
       "   ('estar', 0.011409200262448058),\n",
       "   ('norte', 0.011372749143398702),\n",
       "   ('sul', 0.010315666690967413),\n",
       "   ('carro', 0.010169862214769993),\n",
       "   ('americano', 0.009987606619523219),\n",
       "   ('terra', 0.009404388714733543)]),\n",
       " (38,\n",
       "  [('dólar', 0.027291836181177108),\n",
       "   ('comprar', 0.019222945484133443),\n",
       "   ('modelar', 0.014205315975047464),\n",
       "   ('consumir', 0.013866286954163276),\n",
       "   ('pagar', 0.011391375101708706),\n",
       "   ('tomar', 0.010781122864117169),\n",
       "   ('história', 0.010509899647409818),\n",
       "   ('produzir', 0.009594521291022512),\n",
       "   ('estrangeirar', 0.009458909682668836),\n",
       "   ('real', 0.009255492270138324)]),\n",
       " (39,\n",
       "  [('eleitoral', 0.025630756908289948),\n",
       "   ('pesquisar', 0.02228128299413842),\n",
       "   ('eleitor', 0.019368696981832745),\n",
       "   ('turno', 0.01612844504314268),\n",
       "   ('colocar', 0.014308078785451633),\n",
       "   ('presidência', 0.01383478355845196),\n",
       "   ('centrar', 0.013361488331452289),\n",
       "   ('voto', 0.011905195325299451),\n",
       "   ('defender', 0.011650344049222704),\n",
       "   ('estar', 0.011541122073761241)]),\n",
       " (40,\n",
       "  [('passar', 0.0260219186620267),\n",
       "   ('voltar', 0.016568846413545942),\n",
       "   ('jogar', 0.01615332675427206),\n",
       "   ('nacional', 0.013556328883810316),\n",
       "   ('gostar', 0.012984989352308731),\n",
       "   ('ver', 0.01277722952267179),\n",
       "   ('santo', 0.012153950033760972),\n",
       "   ('conhecer', 0.011634550459668623),\n",
       "   ('matar', 0.011063210928167038),\n",
       "   ('portar', 0.010907391055939334)]),\n",
       " (41,\n",
       "  [('querer', 0.017779364512674044),\n",
       "   ('chamar', 0.015994287754373438),\n",
       "   ('sentir', 0.013780792574080686),\n",
       "   ('educação', 0.013209568011424491),\n",
       "   ('economia', 0.013138164941092467),\n",
       "   ('trazer', 0.012067118886112102),\n",
       "   ('passar', 0.011067475901463763),\n",
       "   ('perder', 0.010996072831131739),\n",
       "   ('fazer', 0.010710460549803642),\n",
       "   ('filhar', 0.010639057479471617)]),\n",
       " (42,\n",
       "  [('crescer', 0.027330950253202264),\n",
       "   ('economia', 0.026400059577003275),\n",
       "   ('inflação', 0.025245755138516533),\n",
       "   ('aumentar', 0.02468722073279714),\n",
       "   ('crescimento', 0.0217828418230563),\n",
       "   ('reformar', 0.020107238605898123),\n",
       "   ('cair', 0.017128388442061365),\n",
       "   ('empregar', 0.01519213583556747),\n",
       "   ('despesa', 0.011729222520107238),\n",
       "   ('previdência', 0.01165475126601132)]),\n",
       " (43,\n",
       "  [('parlamentar', 0.028023598820058997),\n",
       "   ('votar', 0.023148148148148147),\n",
       "   ('câmara', 0.022164863979023272),\n",
       "   ('deputar', 0.021427400852179614),\n",
       "   ('receber', 0.015814487053425107),\n",
       "   ('chegar', 0.01577351687971157),\n",
       "   ('perguntar', 0.015322844968862668),\n",
       "   ('aprovar', 0.012086201245493281),\n",
       "   ('tomar', 0.011799410029498525),\n",
       "   ('continuar', 0.011676499508357915)]),\n",
       " (44,\n",
       "  [('lutar', 0.039760348583877995),\n",
       "   ('passar', 0.016884531590413945),\n",
       "   ('companheiro', 0.016339869281045753),\n",
       "   ('sair', 0.014297385620915032),\n",
       "   ('entregar', 0.013616557734204794),\n",
       "   ('conseguir', 0.01273148148148148),\n",
       "   ('ver', 0.012391067538126362),\n",
       "   ('querer', 0.011574074074074073),\n",
       "   ('vitória', 0.010688997821350762),\n",
       "   ('converso', 0.010348583877995643)]),\n",
       " (45,\n",
       "  [('tecnologia', 0.02533032941606284),\n",
       "   ('dar', 0.022042257809170067),\n",
       "   ('projeto', 0.018693295987334834),\n",
       "   ('lei', 0.01698836996894599),\n",
       "   ('começar', 0.01406563965170797),\n",
       "   ('serviço', 0.012969615782743714),\n",
       "   ('colocar', 0.012056262558606833),\n",
       "   ('conseguir', 0.011386470194239785),\n",
       "   ('participar', 0.010290446325275529),\n",
       "   ('informação', 0.010107775680448152)]),\n",
       " (46,\n",
       "  [('supremo', 0.02891750849810887),\n",
       "   ('justiçar', 0.026380045004069517),\n",
       "   ('federal', 0.025278881600995836),\n",
       "   ('tribunal', 0.018049504476468615),\n",
       "   ('instância', 0.017714367788576626),\n",
       "   ('corrupção', 0.01766649111887777),\n",
       "   ('lavar', 0.017427107770383494),\n",
       "   ('lei', 0.016565327715804087),\n",
       "   ('prisão', 0.016182314358213244),\n",
       "   ('jato', 0.015703547661224684)]),\n",
       " (47,\n",
       "  [('sair', 0.01856607337878922),\n",
       "   ('conseguir', 0.01844800613949644),\n",
       "   ('ver', 0.017680569084093392),\n",
       "   ('acreditar', 0.017621535464447002),\n",
       "   ('começar', 0.016588447120635202),\n",
       "   ('gostar', 0.01602762773399451),\n",
       "   ('entrar', 0.015053573009829098),\n",
       "   ('comedir', 0.013312081230260633),\n",
       "   ('achar', 0.013105463561498273),\n",
       "   ('resolver', 0.011541072640868975)]),\n",
       " (48,\n",
       "  [('chegar', 0.018320525671010134),\n",
       "   ('respeitar', 0.014756654415859227),\n",
       "   ('social', 0.013921372090433233),\n",
       "   ('poder', 0.013587259160262835),\n",
       "   ('possibilidade', 0.013141775253368971),\n",
       "   ('disputar', 0.01291903329992204),\n",
       "   ('jogar', 0.011081412183984854),\n",
       "   ('campar', 0.010301815346920592),\n",
       "   ('presidência', 0.010190444370197126),\n",
       "   ('problema', 0.010190444370197126)]),\n",
       " (49,\n",
       "  [('lei', 0.017970401691331923),\n",
       "   ('opinião', 0.013021333845858159),\n",
       "   ('direito', 0.01095521814337882),\n",
       "   ('michel', 0.009802037286181049),\n",
       "   ('cear', 0.008552758024216798),\n",
       "   ('cair', 0.008312512012300596),\n",
       "   ('vidar', 0.008312512012300596),\n",
       "   ('certo', 0.007976167595617912),\n",
       "   ('judiciário', 0.007735921583701711),\n",
       "   ('acontecer', 0.00763982317893523)]),\n",
       " (50,\n",
       "  [('congresso', 0.02197352766210589),\n",
       "   ('democracia', 0.019593991671624032),\n",
       "   ('enfrentar', 0.01903628792385485),\n",
       "   ('querer', 0.01301308744794765),\n",
       "   ('poder', 0.012975907198096371),\n",
       "   ('governar', 0.012604104699583582),\n",
       "   ('defender', 0.012381023200475906),\n",
       "   ('nacional', 0.011786139202855444),\n",
       "   ('judiciário', 0.010930993456276026),\n",
       "   ('aliançar', 0.008811719214753122)]),\n",
       " (51,\n",
       "  [('psdb', 0.030751964085297418),\n",
       "   ('voltar', 0.021212121212121213),\n",
       "   ('aliançar', 0.017957351290684626),\n",
       "   ('alckmin', 0.017845117845117844),\n",
       "   ('minar', 0.01425364758698092),\n",
       "   ('geraldo', 0.013804713804713804),\n",
       "   ('federal', 0.013804713804713804),\n",
       "   ('nacional', 0.012008978675645342),\n",
       "   ('presidência', 0.011560044893378228),\n",
       "   ('viçar', 0.010774410774410775)]),\n",
       " (52,\n",
       "  [('situação', 0.022339334017349128),\n",
       "   ('crise', 0.022292696576811863),\n",
       "   ('pensar', 0.017489040201473745),\n",
       "   ('viver', 0.01730249043932469),\n",
       "   ('poder', 0.015716817461057738),\n",
       "   ('social', 0.013991232161178995),\n",
       "   ('problema', 0.012592108945061095),\n",
       "   ('político', 0.010633336442496037),\n",
       "   ('acontecer', 0.009887137393899823),\n",
       "   ('visão', 0.00970058763175077)]),\n",
       " (53,\n",
       "  [('dinheiro', 0.021449904968775454),\n",
       "   ('liberdade', 0.019522128699429812),\n",
       "   ('conseguir', 0.01629106706489275),\n",
       "   ('mudança', 0.015232147705674721),\n",
       "   ('montar', 0.014933478142818354),\n",
       "   ('joão', 0.013793103448275862),\n",
       "   ('mudar', 0.012625576975291881),\n",
       "   ('deixar', 0.011783871843605756),\n",
       "   ('idéias', 0.011756720065164268),\n",
       "   ('participar', 0.011240836274775998)]),\n",
       " (54,\n",
       "  [('saudar', 0.11676300578034682),\n",
       "   ('rodar', 0.028406275805119736),\n",
       "   ('chegar', 0.0259289843104872),\n",
       "   ('tv', 0.02518579686209744),\n",
       "   ('médico', 0.023534269199009084),\n",
       "   ('vivo', 0.022708505367464906),\n",
       "   ('atendimento', 0.02023121387283237),\n",
       "   ('sus', 0.01907514450867052),\n",
       "   ('contar', 0.017341040462427744),\n",
       "   ('televisão', 0.01709331131296449)]),\n",
       " (55,\n",
       "  [('mulher', 0.13530645082646642),\n",
       "   ('homem', 0.020527573260519773),\n",
       "   ('vidar', 0.016919401238480666),\n",
       "   ('criança', 0.016236774099175972),\n",
       "   ('violência', 0.01472524257642986),\n",
       "   ('abortar', 0.013993856355746258),\n",
       "   ('filho', 0.012969915646789214),\n",
       "   ('mãe', 0.008922911892339949),\n",
       "   ('passar', 0.008532839241308694),\n",
       "   ('casar', 0.008386561997171972)]),\n",
       " (56,\n",
       "  [('reformar', 0.10150282298239788),\n",
       "   ('previdência', 0.07808867485885088),\n",
       "   ('trabalhador', 0.022999003653271337),\n",
       "   ('congresso', 0.018432414480239124),\n",
       "   ('aposentar', 0.017270009963467288),\n",
       "   ('aposentadoria', 0.016688807705081368),\n",
       "   ('trabalhista', 0.016149119893723016),\n",
       "   ('mínimo', 0.014114911989372302),\n",
       "   ('pagar', 0.013533709730986384),\n",
       "   ('idade', 0.01336765194287612)]),\n",
       " (57,\n",
       "  [('banco', 0.02653322886245459),\n",
       "   ('central', 0.021974499608234204),\n",
       "   ('crescer', 0.013818648051855545),\n",
       "   ('condição', 0.01332003703967519),\n",
       "   ('fazenda', 0.012073509509224303),\n",
       "   ('história', 0.011539283424745353),\n",
       "   ('meirelles', 0.010755751834176224),\n",
       "   ('voltar', 0.009972220243607095),\n",
       "   ('época', 0.009829759954412707),\n",
       "   ('criar', 0.009829759954412707)])]"
      ]
     },
     "execution_count": 22,
     "metadata": {},
     "output_type": "execute_result"
    }
   ],
   "source": [
    "modelLists[0][2].show_topics(num_topics=100, formatted=False)"
   ]
  },
  {
   "cell_type": "raw",
   "metadata": {},
   "source": [
    "modelLists[1][4].print_topics(num_topics=100 ,num_words=10)"
   ]
  },
  {
   "cell_type": "raw",
   "metadata": {},
   "source": [
    "import matplotlib.pyplot as plt\n",
    "plt.figure(figsize=(12, 8))\n",
    "iy=0\n",
    "for c in ch_umssLists:\n",
    "    plt.plot(k2[:7], c, label='run '+str(iy))\n",
    "    iy=iy+1\n",
    "plt.title(\"Choosing Optimal LDA Model\")\n",
    "plt.xlabel(\"Num Topics\")\n",
    "plt.ylabel(\"coherence_valuess\")\n",
    "plt.legend(title='Numbers running', loc='best')\n",
    "plt.show()"
   ]
  },
  {
   "cell_type": "code",
   "execution_count": 9,
   "metadata": {},
   "outputs": [],
   "source": [
    "from gensim.models.ldamodel import LdaModel\n",
    "import numpy\n",
    "\n",
    "def convertldaGenToldaMallet(mallet_model):\n",
    "    model_gensim = LdaModel(\n",
    "        id2word=mallet_model.id2word, num_topics=mallet_model.num_topics,\n",
    "        alpha=mallet_model.alpha, eta=0, iterations=1000,\n",
    "        gamma_threshold=0.001,\n",
    "        dtype=numpy.float64\n",
    "    )\n",
    "    model_gensim.state.sstats[...] = mallet_model.wordtopics\n",
    "    model_gensim.sync_state()\n",
    "    return model_gensim"
   ]
  },
  {
   "cell_type": "raw",
   "metadata": {},
   "source": [
    "ldamodelk = gensim.models.ldamodel.LdaModel(corpus, num_topics=18, id2word = dictionary, passes=5,alpha=modelLists[0][3].alpha)"
   ]
  },
  {
   "cell_type": "raw",
   "metadata": {},
   "source": [
    "ldamodelk.print_topics(num_topics=45 ,num_words=10)"
   ]
  },
  {
   "cell_type": "code",
   "execution_count": 23,
   "metadata": {},
   "outputs": [],
   "source": [
    "modeloLDA=convertldaGenToldaMallet(modelLists[0][2])"
   ]
  },
  {
   "cell_type": "code",
   "execution_count": 24,
   "metadata": {},
   "outputs": [],
   "source": [
    "modeloLDA.save('./lda_models/lda_model_precandi_m58lema')"
   ]
  },
  {
   "cell_type": "raw",
   "metadata": {},
   "source": [
    "dictionary.save('./lda_models/candidatos45.dict')"
   ]
  },
  {
   "cell_type": "code",
   "execution_count": 110,
   "metadata": {},
   "outputs": [
    {
     "data": {
      "text/plain": [
       "array([0., 0., 0., ..., 0., 0., 0.])"
      ]
     },
     "execution_count": 110,
     "metadata": {},
     "output_type": "execute_result"
    }
   ],
   "source": [
    "modeloLDA.state.get_lambda()[0]"
   ]
  },
  {
   "cell_type": "code",
   "execution_count": 24,
   "metadata": {},
   "outputs": [
    {
     "data": {
      "text/plain": [
       "[(0,\n",
       "  '0.009*\"social\" + 0.009*\"movimento\" + 0.008*\"esquerda\" + 0.007*\"democracia\" + 0.007*\"enfrentar\" + 0.006*\"sociais\" + 0.006*\"congresso\" + 0.006*\"medo\" + 0.006*\"moradia\" + 0.006*\"projeto\"'),\n",
       " (1,\n",
       "  '0.027*\"segurança\" + 0.021*\"polícia\" + 0.016*\"federal\" + 0.015*\"violência\" + 0.014*\"lei\" + 0.014*\"crime\" + 0.008*\"preso\" + 0.008*\"direito\" + 0.007*\"drogas\" + 0.007*\"ministério\"'),\n",
       " (2,\n",
       "  '0.015*\"economia\" + 0.010*\"inflação\" + 0.009*\"banco_central\" + 0.008*\"crescimento\" + 0.007*\"condições\" + 0.007*\"previdência\" + 0.006*\"crescer\" + 0.006*\"história\" + 0.006*\"fazenda\" + 0.006*\"emprego\"'),\n",
       " (3,\n",
       "  '0.010*\"ceará\" + 0.010*\"ciro_gomes\" + 0.010*\"milhões\" + 0.006*\"bilhões\" + 0.006*\"dilma_rousseff\" + 0.005*\"dinheiro\" + 0.005*\"nacional\" + 0.004*\"dívida\" + 0.004*\"saúde\" + 0.004*\"popular\"'),\n",
       " (4,\n",
       "  '0.011*\"nacional\" + 0.008*\"economia\" + 0.008*\"indústria\" + 0.007*\"china\" + 0.007*\"desenvolvimento\" + 0.007*\"dólar\" + 0.007*\"modelo\" + 0.007*\"projeto\" + 0.006*\"consumo\" + 0.006*\"industrial\"'),\n",
       " (5,\n",
       "  '0.010*\"federal\" + 0.007*\"psdb\" + 0.007*\"reforma\" + 0.007*\"crescer\" + 0.006*\"emprego\" + 0.006*\"dinheiro\" + 0.005*\"renda\" + 0.005*\"inteiro\" + 0.005*\"lei\" + 0.005*\"aliás\"'),\n",
       " (6,\n",
       "  '0.043*\"educação\" + 0.028*\"saúde\" + 0.019*\"ensino\" + 0.019*\"escola\" + 0.010*\"municípios\" + 0.009*\"federal\" + 0.008*\"qualidade\" + 0.007*\"recursos\" + 0.007*\"fundamental\" + 0.006*\"estados\"'),\n",
       " (7,\n",
       "  '0.011*\"marina_silva\" + 0.008*\"rede\" + 0.007*\"situação\" + 0.006*\"base\" + 0.005*\"justiça\" + 0.005*\"lei\" + 0.005*\"energia\" + 0.005*\"programa\" + 0.005*\"ambiente\" + 0.004*\"crise\"'),\n",
       " (8,\n",
       "  '0.013*\"corrupção\" + 0.010*\"podemos\" + 0.009*\"congresso\" + 0.008*\"paraná\" + 0.007*\"senado\" + 0.006*\"dias\" + 0.005*\"reformas\" + 0.005*\"futuro\" + 0.005*\"recursos\" + 0.004*\"mudança\"'),\n",
       " (9,\n",
       "  '0.033*\"reforma\" + 0.020*\"previdência\" + 0.014*\"tributária\" + 0.012*\"renda\" + 0.011*\"setor\" + 0.011*\"dívida\" + 0.010*\"economia\" + 0.009*\"fiscal\" + 0.008*\"bilhões\" + 0.008*\"milhões\"'),\n",
       " (10,\n",
       "  '0.010*\"casa\" + 0.008*\"vida\" + 0.008*\"história\" + 0.007*\"sair\" + 0.006*\"conta\" + 0.005*\"cabeça\" + 0.005*\"fácil\" + 0.005*\"jogo\" + 0.005*\"direito\" + 0.005*\"passar\"'),\n",
       " (11,\n",
       "  '0.017*\"dinheiro\" + 0.012*\"milhões\" + 0.008*\"banco\" + 0.006*\"família\" + 0.006*\"bancos\" + 0.006*\"colocar\" + 0.005*\"pagar\" + 0.004*\"mão\" + 0.004*\"época\" + 0.004*\"programa\"'),\n",
       " (12,\n",
       "  '0.011*\"reforma\" + 0.010*\"presidência\" + 0.009*\"michel_temer\" + 0.009*\"psdb\" + 0.008*\"eleitoral\" + 0.008*\"eleições\" + 0.008*\"turno\" + 0.007*\"pesquisas\" + 0.007*\"corrupção\" + 0.007*\"esquerda\"'),\n",
       " (13,\n",
       "  '0.008*\"vida\" + 0.008*\"cidade\" + 0.005*\"rádio\" + 0.005*\"bahia\" + 0.005*\"oportunidade\" + 0.005*\"amigo\" + 0.004*\"palavra\" + 0.004*\"difícil\" + 0.004*\"pai\" + 0.004*\"melhor\"'),\n",
       " (14,\n",
       "  '0.011*\"dinheiro\" + 0.009*\"cidadão\" + 0.008*\"liberdade\" + 0.006*\"mudar\" + 0.006*\"joão\" + 0.006*\"fundo\" + 0.006*\"deveria\" + 0.006*\"melhor\" + 0.005*\"gestão\" + 0.005*\"idéias\"'),\n",
       " (15,\n",
       "  '0.022*\"mulheres\" + 0.012*\"crise\" + 0.012*\"projeto\" + 0.011*\"mulher\" + 0.009*\"desenvolvimento\" + 0.008*\"vida\" + 0.006*\"conjunto\" + 0.006*\"precisamos\" + 0.006*\"pensar\" + 0.006*\"nacional\"'),\n",
       " (16,\n",
       "  '0.021*\"preço\" + 0.014*\"petrobras\" + 0.012*\"empresa\" + 0.011*\"petróleo\" + 0.010*\"congresso\" + 0.009*\"mercado\" + 0.007*\"venezuela\" + 0.006*\"empresas\" + 0.005*\"nacional\" + 0.005*\"gasolina\"'),\n",
       " (17,\n",
       "  '0.009*\"jair_bolsonaro\" + 0.009*\"militar\" + 0.006*\"economia\" + 0.005*\"mulher\" + 0.005*\"daí\" + 0.005*\"botar\" + 0.005*\"buscar\" + 0.004*\"ministério\" + 0.004*\"casa\" + 0.004*\"exército\"')]"
      ]
     },
     "execution_count": 24,
     "metadata": {},
     "output_type": "execute_result"
    }
   ],
   "source": [
    "modeloLDA.print_topics(num_topics=50 ,num_words=10)"
   ]
  },
  {
   "cell_type": "code",
   "execution_count": 47,
   "metadata": {},
   "outputs": [
    {
     "name": "stdout",
     "output_type": "stream",
     "text": [
      "Topic 0: federal, difícil, mudar, acredito, casa, construir, vida, sair, consegue, passado, principalmente, ambiente, ajudar, espaço, papel, conseguir, projeto, decisão, agenda, experiência\n",
      "Topic 1: milhões, dinheiro, bancos, imposto, banco, bilhões, saúde, proposta, pagar, crédito, dívida, federal, economia, emprego, caixa, paga, tirar, conta, segurança, média\n",
      "Topic 2: previdência, reforma, fiscal, dívida, orçamento, congresso, regime, lei, contribuição, setor, despesa, discutir, receita, bilhões, idade, salário, déficit, trabalhador, transição, mínima\n",
      "Topic 3: segurança, polícia, drogas, violência, crime, intervenção, arma, armas, federal, tráfico, policiais, proposta, lei, polícias, combater, combate, aborto, inteligência, policial, países\n",
      "Topic 4: turno, michel_temer, eleitoral, pesquisas, pmdb, votos, presidência, eleições, dilma_rousseff, psdb, centro, jair_bolsonaro, discurso, situação, congresso, esquerda, eleitor, programa, feita, cenário\n",
      "Topic 5: congresso, reforma, dinheiro, mercado, projeto, dívida, acabar, empresário, paga, financiamento, nacional, prova, aumentar, eleito, governar, colocar, junto, bolsa, salário, conta\n",
      "Topic 6: marina_silva, rede, reforma, base, justiça, corrupção, energia, milhões, programa, democracia, governar, ganhar, educação, políticas, dilma_rousseff, ambiente, plano, saúde, situação, lava_jato\n",
      "Topic 7: milhões, corrupção, renda, privilégios, bilhões, países, pobreza, recursos, investimentos, salário, autoridade, lei, tributária, mão, dinheiro, desenvolvimento, receita, matéria, emprego, educação\n",
      "Topic 8: economia, inflação, reforma, crescimento, previdência, emprego, reformas, fundamental, crescer, aumento, econômica, renda, países, gastos, crise, crescendo, despesas, baixa, fiscal, melhor\n",
      "Topic 9: lei, violência, crime, direito, polícia, bandido, exército, dilma_rousseff, cabeça, cadeia, ministério, cidadão, jair_bolsonaro, pena, daqui, preso, guerra, filho, democracia, deixar\n",
      "Topic 10: perguntas, projeto, passar, responder, agradecer, internet, joão, semana, pedir, várias, manhã, evento, dados, amanhã, pouquinho, propostas, presença, livre, professor, voltar\n",
      "Topic 11: democracia, privilégios, enfrentar, social, investimento, imposto, reforma, michel_temer, queremos, modelo, aliás, guilherme_boulos, tributária, história, juros, moradia, renda, maneira, casa, crise\n",
      "Topic 12: crise, desenvolvimento, nacional, projeto, precisamos, garantir, conjunto, reforma, indústria, pensar, construção, acredito, papel, passa, capacidade, saídas, trabalhadores, congresso, jovens, ciclo\n",
      "Topic 13: esquerda, projeto, luta, golpe, democracia, crise, programa, movimento, sociais, unidade, campo, movimentos, eleitoral, políticas, popular, colocar, construir, aliança, mobilização, democrática\n",
      "Topic 14: crise, social, problemas, situação, vida, lei, melhor, vista, necessário, capaz, visão, capacidade, agenda, diferentes, oportunidade, vivendo, econômico, pensar, economia, ambiente\n",
      "Topic 15: produção, agronegócio, setor, agricultura, rural, crédito, campo, segurança, indústria, infraestrutura, produtos, produtividade, agrícola, terra, economia, países, propriedade, mercado, setores, tecnologia\n",
      "Topic 16: programa, saúde, família, rádio, presidência, bolsa, emprego, salário, vida, mínimo, pagar, nacional, agência, vista, volta, bloco, empresa, resolver, programas, super\n",
      "Topic 17: mulheres, mulher, vida, homens, violência, negros, direitos, filha, jovem, filhos, criança, crianças, espaço, ódio, sul, jovens, gênero, mãe, sonho, digamos\n",
      "Topic 18: ciro_gomes, ceará, vida, prefeito, experiência, fortaleza, golpe, pdt, dilma_rousseff, história, popular, mudar, evidentemente, tomar, opinião, velho, classe, irmão, completamente, volta\n",
      "Topic 19: psdb, federal, geraldo_alckmin, presidência, nacional, volta, vice, aliança, ministério, prefeito, sul, eleito, linha, jornal, fernando_henrique, participar, estadual, show, joão, roberto\n",
      "Topic 20: dinheiro, negócio, turma, esquerda, jair_bolsonaro, votar, milhões, chega, casa, volta, sair, daqui, deixa, funcionário, viu, medo, jovem, caras, acabou, marina_silva\n",
      "Topic 21: dólar, modelo, economia, comprar, fernando_henrique, china, estrangeiro, história, dinheiro, petróleo, entender, dilma_rousseff, pagar, compra, real, indústria, produzir, capital, conta, preço\n",
      "Topic 22: milhões, dinheiro, bancos, banco, colocar, levy, passado, bilhões, nacional, prtb, chamado, creio, nação, especialmente, vida, mão, campo, fundo, família, necessário\n",
      "Topic 23: dinheiro, cidadão, liberdade, joão, gestão, fundo, privada, justamente, mudar, melhorar, educação, idéias, deveria, quantidade, entendo, fundamental, gostaria, sentido, difícil, melhor\n",
      "Topic 24: banco_central, história, fazenda, henrique_meirelles, época, condições, banco, experiência, confiança, fiz, segurança, ministério, internacional, proposta, criar, direito, michel_temer, mdb, maneira, milhões\n",
      "Topic 25: corrupção, senado, melhor, eleitor, dinheiro, espaço, podemos, senadores, nacional, futuro, discurso, parlamentares, deputados, projeto, agradeço, aliás, aprovação, credibilidade, cpi, cidadão\n",
      "Topic 26: nordeste, região, água, norte, energia, problemas, conta, começar, paraíba, pernambuco, oportunidade, presença, francisco, união, brasília, jovem, emprego, sul, associação, futuro\n",
      "Topic 27: militar, casa, jair_bolsonaro, buscar, botar, daí, arma, continuar, mulher, família, economia, maneira, proposta, policial, militares, parlamento, passado, imprensa, idade, câmara\n",
      "Topic 28: direito, globo, social, certa, constituição, opção, mídia, cabeça, força, pior, papel, renda, fundo, passado, opinião, repente, explicar, pedir, campo, limite\n",
      "Topic 29: economia, poderia, perder, passa, resposta, problemas, solução, direito, conta, questões, continua, possibilidade, tirar, brasília, certa, leva, viu, entender, legal, deixar\n",
      "Topic 30: educação, escola, ensino, professor, escolas, médio, qualidade, professores, universidade, crianças, alunos, aula, superior, aluno, filho, criança, universidades, fundamental, plano, casa\n",
      "Topic 31: reforma, renda, crescer, dinheiro, emprego, federal, investimento, aliás, reduzir, fizemos, inteiro, reformas, milhões, tributária, imposto, déficit, melhorar, média, vida, trazer\n",
      "Topic 32: saúde, universidade, investimento, modelo, questões, enfrentar, medo, café, violência, condições, educação, programa, lgbt, semana, políticas, escola, pensar, favela, nacional, queremos\n",
      "Topic 33: petrobras, preço, petróleo, empresa, gasolina, empresas, privatização, caminhoneiros, preços, combustível, greve, estatal, venezuela, privatizar, setor, pagar, casa, energia, crise, capacidade\n",
      "Topic 34: reforma, paraná, podemos, congresso, reformas, proposta, dias, mudança, refundação, modelo, álvaro_dias, futuro, mudar, mudanças, eleitoral, experiência, essencial, mandato, evidente, autoridades\n",
      "Topic 35: nacional, milhões, desenvolvimento, mercado, dólares, industrial, inflação, consumo, câmbio, bilhões, indústria, taxa, capital, internacional, econômica, iniciativa, juro, privada, china, real\n",
      "Topic 36: tecnologia, ciência, projeto, sul, centro, razão, entender, chega, china, estados_unidos, ficou, inovação, produzir, conhecimento, terra, questões, serviço, digital, média, cidade\n",
      "Topic 37: empresa, vida, trazer, banco, negócio, empresas, funciona, longo, começou, algum, interessante, saúde, entrar, visão, objetivo, últimos, melhor, financeiro, único, indo\n",
      "Topic 38: melhor, filho, época, chegou, jogo, pai, carro, sair, acontece, começou, começa, tomar, fácil, rua, diferença, causa, começar, bola, tirar, vida\n",
      "Topic 39: bahia, rádio, cidade, jornal, telefone, joão, salvador, atenção, dias, josé, abraço, família, feira, carro, manhã, programa, real, goiás, qualidade, restaurante\n",
      "Topic 40: contas, televisão, participação, cultura, chegou, roda_viva, congresso, semana, afinal, dinheiro, feira, redes, algum, companhia, ricardo, recentemente, estudo, sido, dando, proposta\n",
      "Topic 41: vida, história, amigos, precisamos, sonho, cidade, luta, coração, pai, saúde, agradecer, juntos, palavra, mudar, esperança, igreja, queremos, amigo, futuro, companheiros\n",
      "Topic 42: saúde, educação, municípios, estados, recursos, federal, ensino, união, investimento, gestão, saneamento, básico, fundamental, financiamento, prefeitos, município, prefeito, federativo, qualidade, podemos\n",
      "Topic 43: social, movimento, casa, moradia, ocupação, aluguel, famílias, ocupações, vida, terra, teto, luta, depressão, propriedade, situação, cidades, mtst, sociais, cidade, pagar\n",
      "Topic 44: justiça, federal, corrupção, decisão, supremo, prisão, lei, preso, instância, câmara, judiciário, direito, juiz, constituição, deputados, lava_jato, supremo_tribunal, democracia, operação, condenação\n"
     ]
    }
   ],
   "source": [
    "x=modeloLDA.show_topics(num_topics=45, num_words=20,formatted=False)\n",
    "topics_words = [(tp[0], [wd[0] for wd in tp[1]]) for tp in x]\n",
    "\n",
    "#Below Code Prints Only Words \n",
    "for topic,words in topics_words:\n",
    "    print('Topic '+str(topic)+': '+', '.join(words))"
   ]
  },
  {
   "cell_type": "code",
   "execution_count": null,
   "metadata": {},
   "outputs": [],
   "source": []
  }
 ],
 "metadata": {
  "kernelspec": {
   "display_name": "Python 3",
   "language": "python",
   "name": "python3"
  },
  "language_info": {
   "codemirror_mode": {
    "name": "ipython",
    "version": 3
   },
   "file_extension": ".py",
   "mimetype": "text/x-python",
   "name": "python",
   "nbconvert_exporter": "python",
   "pygments_lexer": "ipython3",
   "version": "3.5.2"
  }
 },
 "nbformat": 4,
 "nbformat_minor": 2
}
