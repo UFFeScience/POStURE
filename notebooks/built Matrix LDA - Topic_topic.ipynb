{
 "cells": [
  {
   "cell_type": "markdown",
   "metadata": {},
   "source": [
    "# Model LDA topic"
   ]
  },
  {
   "cell_type": "code",
   "execution_count": 1,
   "metadata": {},
   "outputs": [],
   "source": [
    "from nltk.stem.porter import PorterStemmer\n",
    "from gensim import corpora, models\n",
    "import gensim\n",
    "import pandas as pd\n",
    "import numpy as np\n",
    "from gensim.models.ldamodel import LdaModel\n",
    "\n",
    "#df=pd.read_pickle('./pandas_data_candidatos_premas_lema.pd')\n",
    "df=pd.read_pickle('./pandas_data_candidatos__premas.pd')\n",
    "lda_model = LdaModel.load('./lda_models/lda_model_precandi_m48lema') #lda_model_precandi_m48lema\n",
    "#dictionary= corpora.Dictionary.load('./lda_models/candidatos45.dict')\n",
    "texts=[]\n",
    "for a in df.Text:#.Clean\n",
    "    texts.append(a.split())\n",
    "    \n",
    "dictionary = corpora.Dictionary(texts)\n",
    "# convert tokenized documents into a document-term matrix\n",
    "corpus = [dictionary.doc2bow(text) for text in texts]"
   ]
  },
  {
   "cell_type": "code",
   "execution_count": 5,
   "metadata": {},
   "outputs": [
    {
     "data": {
      "text/plain": [
       "[(0,\n",
       "  '0.021*\"jovem\" + 0.015*\"deixar\" + 0.012*\"votar\" + 0.012*\"pt\" + 0.011*\"pan\" + 0.011*\"voltar\" + 0.011*\"ver\" + 0.011*\"esquerdo\" + 0.010*\"bolsonaro\" + 0.009*\"querer\"'),\n",
       " (1,\n",
       "  '0.017*\"social\" + 0.013*\"sentir\" + 0.013*\"tratar\" + 0.011*\"semana\" + 0.011*\"querer\" + 0.011*\"negro\" + 0.010*\"experiência\" + 0.010*\"café\" + 0.009*\"saudar\" + 0.009*\"comunidade\"'),\n",
       " (2,\n",
       "  '0.035*\"lei\" + 0.025*\"direito\" + 0.019*\"chamar\" + 0.018*\"entender\" + 0.015*\"passar\" + 0.015*\"deixar\" + 0.013*\"gostar\" + 0.013*\"perder\" + 0.012*\"pensar\" + 0.012*\"respeitar\"'),\n",
       " (3,\n",
       "  '0.023*\"mulher\" + 0.021*\"vidar\" + 0.019*\"filho\" + 0.018*\"pai\" + 0.017*\"casar\" + 0.014*\"filhar\" + 0.013*\"história\" + 0.012*\"gostar\" + 0.011*\"mãe\" + 0.011*\"pensar\"'),\n",
       " (4,\n",
       "  '0.029*\"investimento\" + 0.016*\"juro\" + 0.014*\"dívida\" + 0.011*\"fiscal\" + 0.011*\"taxar\" + 0.011*\"cortar\" + 0.010*\"mercar\" + 0.010*\"pago\" + 0.010*\"empresar\" + 0.009*\"proposto\"'),\n",
       " (5,\n",
       "  '0.021*\"dólar\" + 0.016*\"comprar\" + 0.014*\"economia\" + 0.012*\"chino\" + 0.012*\"produzir\" + 0.012*\"consumir\" + 0.011*\"modelar\" + 0.009*\"história\" + 0.009*\"nacional\" + 0.009*\"inflação\"'),\n",
       " (6,\n",
       "  '0.021*\"turno\" + 0.021*\"psdb\" + 0.018*\"presidência\" + 0.017*\"pt\" + 0.015*\"aliançar\" + 0.015*\"eleitoral\" + 0.014*\"pesquisar\" + 0.014*\"eleitor\" + 0.014*\"último\" + 0.014*\"alckmin\"'),\n",
       " (7,\n",
       "  '0.060*\"segurança\" + 0.047*\"polícia\" + 0.033*\"armar\" + 0.027*\"violência\" + 0.026*\"drogar\" + 0.022*\"crime\" + 0.014*\"defender\" + 0.013*\"combater\" + 0.013*\"federal\" + 0.012*\"resolver\"'),\n",
       " (8,\n",
       "  '0.015*\"render\" + 0.014*\"bilião\" + 0.012*\"viver\" + 0.012*\"dívida\" + 0.011*\"país\" + 0.009*\"poder\" + 0.009*\"investimento\" + 0.009*\"tributário\" + 0.008*\"milhão\" + 0.008*\"chegar\"'),\n",
       " (9,\n",
       "  '0.025*\"município\" + 0.022*\"prefeito\" + 0.021*\"estar\" + 0.014*\"união\" + 0.014*\"fiscal\" + 0.014*\"federal\" + 0.013*\"tributário\" + 0.012*\"federativo\" + 0.012*\"despesa\" + 0.011*\"orçamentar\"'),\n",
       " (10,\n",
       "  '0.042*\"mulher\" + 0.021*\"garantir\" + 0.014*\"desenvolvimento\" + 0.013*\"crise\" + 0.012*\"viver\" + 0.012*\"vidar\" + 0.010*\"jovem\" + 0.009*\"defender\" + 0.009*\"precisar\" + 0.009*\"trabalhador\"'),\n",
       " (11,\n",
       "  '0.024*\"construir\" + 0.024*\"esquerdo\" + 0.023*\"social\" + 0.021*\"projeto\" + 0.020*\"crise\" + 0.015*\"colocar\" + 0.015*\"golpe\" + 0.014*\"programar\" + 0.011*\"lutar\" + 0.010*\"eleitoral\"'),\n",
       " (12,\n",
       "  '0.076*\"reformar\" + 0.054*\"previdência\" + 0.017*\"aprovar\" + 0.015*\"proposto\" + 0.014*\"congresso\" + 0.013*\"aposentadoria\" + 0.013*\"passar\" + 0.012*\"fazer\" + 0.012*\"aposentar\" + 0.011*\"discutir\"'),\n",
       " (13,\n",
       "  '0.022*\"rádio\" + 0.017*\"bahia\" + 0.014*\"ver\" + 0.012*\"programar\" + 0.011*\"ouvir\" + 0.010*\"acompanhar\" + 0.009*\"cidade\" + 0.009*\"br\" + 0.009*\"participar\" + 0.008*\"joão\"'),\n",
       " (14,\n",
       "  '0.016*\"tirar\" + 0.013*\"tomar\" + 0.013*\"acontecer\" + 0.013*\"economia\" + 0.013*\"melhor\" + 0.012*\"planar\" + 0.012*\"campar\" + 0.011*\"vender\" + 0.011*\"social\" + 0.011*\"depender\"'),\n",
       " (15,\n",
       "  '0.052*\"preço\" + 0.039*\"petrobras\" + 0.034*\"empresar\" + 0.029*\"petróleo\" + 0.015*\"combustível\" + 0.014*\"privatização\" + 0.013*\"aumentar\" + 0.013*\"privatizar\" + 0.012*\"gasolina\" + 0.012*\"estatal\"'),\n",
       " (16,\n",
       "  '0.036*\"casar\" + 0.033*\"social\" + 0.031*\"moradia\" + 0.026*\"movimentar\" + 0.024*\"ocupação\" + 0.014*\"cidade\" + 0.014*\"passar\" + 0.012*\"teto\" + 0.012*\"família\" + 0.011*\"morar\"'),\n",
       " (17,\n",
       "  '0.028*\"reformar\" + 0.022*\"crescer\" + 0.014*\"investimento\" + 0.014*\"empregar\" + 0.014*\"passar\" + 0.014*\"melhorar\" + 0.012*\"render\" + 0.012*\"tributário\" + 0.011*\"médio\" + 0.011*\"reduzir\"'),\n",
       " (18,\n",
       "  '0.022*\"colocar\" + 0.022*\"banco\" + 0.012*\"passar\" + 0.011*\"ver\" + 0.010*\"levar\" + 0.009*\"chamar\" + 0.009*\"bilião\" + 0.009*\"milhão\" + 0.008*\"levy\" + 0.008*\"mandar\"'),\n",
       " (19,\n",
       "  '0.030*\"pt\" + 0.028*\"dilma\" + 0.018*\"temer\" + 0.017*\"fernando\" + 0.016*\"corrupção\" + 0.015*\"henrique\" + 0.014*\"vidar\" + 0.012*\"votar\" + 0.011*\"crime\" + 0.010*\"michel\"'),\n",
       " (20,\n",
       "  '0.015*\"prático\" + 0.014*\"propor\" + 0.014*\"dívida\" + 0.008*\"voltar\" + 0.008*\"forçar\" + 0.008*\"internacional\" + 0.008*\"capital\" + 0.007*\"professor\" + 0.007*\"permitir\" + 0.007*\"considerar\"'),\n",
       " (21,\n",
       "  '0.013*\"criar\" + 0.010*\"ajudar\" + 0.010*\"ambientar\" + 0.010*\"conseguir\" + 0.009*\"energia\" + 0.008*\"crise\" + 0.008*\"poder\" + 0.007*\"viver\" + 0.007*\"social\" + 0.007*\"mulher\"'),\n",
       " (22,\n",
       "  '0.021*\"entender\" + 0.014*\"liberdade\" + 0.014*\"cidadão\" + 0.013*\"dever\" + 0.013*\"dinheiro\" + 0.010*\"empresar\" + 0.010*\"gestão\" + 0.009*\"fundir\" + 0.009*\"joão\" + 0.009*\"gostar\"'),\n",
       " (23,\n",
       "  '0.024*\"banco\" + 0.022*\"pagar\" + 0.022*\"família\" + 0.021*\"dinheiro\" + 0.020*\"bolsar\" + 0.017*\"milhão\" + 0.017*\"programar\" + 0.017*\"impor\" + 0.016*\"aumentar\" + 0.014*\"empregar\"'),\n",
       " (24,\n",
       "  '0.021*\"conseguir\" + 0.016*\"jogar\" + 0.012*\"portar\" + 0.011*\"ficar\" + 0.010*\"contar\" + 0.010*\"deixar\" + 0.009*\"dia\" + 0.009*\"tocar\" + 0.008*\"provar\" + 0.008*\"perder\"'),\n",
       " (25,\n",
       "  '0.012*\"qualidade\" + 0.012*\"trazer\" + 0.011*\"colocar\" + 0.010*\"programar\" + 0.010*\"ser\" + 0.009*\"causar\" + 0.009*\"melhor\" + 0.008*\"família\" + 0.008*\"real\" + 0.008*\"sentir\"'),\n",
       " (26,\n",
       "  '0.050*\"milhão\" + 0.041*\"dinheiro\" + 0.028*\"empregar\" + 0.017*\"casar\" + 0.017*\"pagar\" + 0.016*\"passar\" + 0.016*\"contar\" + 0.015*\"receber\" + 0.015*\"voltar\" + 0.013*\"gastar\"'),\n",
       " (27,\n",
       "  '0.021*\"nacional\" + 0.011*\"bilião\" + 0.011*\"milhão\" + 0.010*\"resolver\" + 0.009*\"cear\" + 0.008*\"mercar\" + 0.008*\"médio\" + 0.008*\"banco\" + 0.008*\"americano\" + 0.007*\"passar\"'),\n",
       " (28,\n",
       "  '0.018*\"marino\" + 0.016*\"ganhar\" + 0.015*\"redar\" + 0.013*\"justiçar\" + 0.012*\"corrupção\" + 0.011*\"lavar\" + 0.011*\"defender\" + 0.010*\"programar\" + 0.009*\"governar\" + 0.009*\"reformar\"'),\n",
       " (29,\n",
       "  '0.020*\"banco\" + 0.020*\"crescer\" + 0.019*\"economia\" + 0.015*\"central\" + 0.015*\"inflação\" + 0.014*\"aumentar\" + 0.011*\"crescimento\" + 0.010*\"voltar\" + 0.010*\"cair\" + 0.009*\"mostrar\"'),\n",
       " (30,\n",
       "  '0.023*\"federal\" + 0.012*\"dinheiro\" + 0.010*\"voltar\" + 0.010*\"milhão\" + 0.009*\"psdb\" + 0.008*\"aliás\" + 0.008*\"prefeito\" + 0.008*\"estar\" + 0.008*\"inteirar\" + 0.008*\"fazer\"'),\n",
       " (31,\n",
       "  '0.026*\"tecnologia\" + 0.021*\"projeto\" + 0.019*\"dar\" + 0.015*\"perguntar\" + 0.013*\"direito\" + 0.012*\"ciência\" + 0.011*\"empresar\" + 0.009*\"serviço\" + 0.009*\"acreditar\" + 0.009*\"apresentar\"'),\n",
       " (32,\n",
       "  '0.069*\"saudar\" + 0.029*\"educação\" + 0.016*\"recurso\" + 0.016*\"município\" + 0.013*\"médico\" + 0.013*\"segurança\" + 0.013*\"federal\" + 0.012*\"nacional\" + 0.012*\"básico\" + 0.010*\"social\"'),\n",
       " (33,\n",
       "  '0.023*\"conseguir\" + 0.022*\"ver\" + 0.018*\"mudar\" + 0.018*\"começar\" + 0.012*\"pensar\" + 0.012*\"trazer\" + 0.010*\"difícil\" + 0.010*\"fazer\" + 0.010*\"ter\" + 0.010*\"idéias\"'),\n",
       " (34,\n",
       "  '0.025*\"produção\" + 0.022*\"agricultura\" + 0.018*\"agronegócio\" + 0.017*\"rural\" + 0.014*\"terra\" + 0.014*\"segurança\" + 0.013*\"produzir\" + 0.012*\"campar\" + 0.012*\"produtor\" + 0.012*\"agrícola\"'),\n",
       " (35,\n",
       "  '0.028*\"democracia\" + 0.027*\"esquerdo\" + 0.018*\"lutar\" + 0.015*\"dizer\" + 0.014*\"ver\" + 0.013*\"liberdade\" + 0.012*\"direito\" + 0.012*\"provar\" + 0.012*\"democrático\" + 0.012*\"passar\"'),\n",
       " (36,\n",
       "  '0.026*\"supremo\" + 0.023*\"justiçar\" + 0.022*\"federal\" + 0.017*\"tribunal\" + 0.016*\"respeitar\" + 0.016*\"poder\" + 0.016*\"decisão\" + 0.015*\"corrupção\" + 0.014*\"lei\" + 0.014*\"lavar\"'),\n",
       " (37,\n",
       "  '0.021*\"enfrentar\" + 0.016*\"congresso\" + 0.014*\"reformar\" + 0.014*\"democracia\" + 0.013*\"privilégio\" + 0.011*\"querer\" + 0.010*\"nacional\" + 0.010*\"temer\" + 0.010*\"governar\" + 0.009*\"poder\"'),\n",
       " (38,\n",
       "  '0.031*\"reformar\" + 0.024*\"corrupção\" + 0.018*\"combater\" + 0.014*\"autoridade\" + 0.012*\"privilégio\" + 0.010*\"proposto\" + 0.010*\"congresso\" + 0.010*\"refundação\" + 0.009*\"essencial\" + 0.009*\"mudança\"'),\n",
       " (39,\n",
       "  '0.020*\"receber\" + 0.019*\"votar\" + 0.019*\"voltar\" + 0.017*\"perguntar\" + 0.017*\"câmara\" + 0.016*\"continuar\" + 0.014*\"passar\" + 0.013*\"chegar\" + 0.012*\"pedir\" + 0.011*\"semana\"'),\n",
       " (40,\n",
       "  '0.021*\"bolsonaro\" + 0.012*\"exército\" + 0.012*\"jair\" + 0.012*\"funcionário\" + 0.009*\"botar\" + 0.009*\"ver\" + 0.009*\"pt\" + 0.008*\"perguntar\" + 0.008*\"defender\" + 0.008*\"militar\"'),\n",
       " (41,\n",
       "  '0.017*\"militar\" + 0.016*\"entender\" + 0.012*\"ministério\" + 0.012*\"armar\" + 0.012*\"poder\" + 0.012*\"querer\" + 0.011*\"buscar\" + 0.011*\"passar\" + 0.009*\"parlamentar\" + 0.009*\"direito\"'),\n",
       " (42,\n",
       "  '0.040*\"rodar\" + 0.040*\"tv\" + 0.040*\"chegar\" + 0.036*\"cultura\" + 0.036*\"contar\" + 0.027*\"participação\" + 0.027*\"vivo\" + 0.026*\"voltar\" + 0.026*\"rede\" + 0.022*\"televisão\"'),\n",
       " (43,\n",
       "  '0.033*\"ciro\" + 0.025*\"gomar\" + 0.019*\"cear\" + 0.012*\"pt\" + 0.011*\"vidar\" + 0.010*\"experiência\" + 0.009*\"fortalezar\" + 0.009*\"pdt\" + 0.008*\"cabeça\" + 0.008*\"botar\"'),\n",
       " (44,\n",
       "  '0.019*\"precisar\" + 0.017*\"pedir\" + 0.015*\"poder\" + 0.014*\"agradecer\" + 0.014*\"passar\" + 0.013*\"querer\" + 0.013*\"deixar\" + 0.012*\"ouvir\" + 0.011*\"lutar\" + 0.011*\"companheiro\"'),\n",
       " (45,\n",
       "  '0.026*\"poder\" + 0.023*\"dia\" + 0.017*\"paraná\" + 0.015*\"mudar\" + 0.012*\"passar\" + 0.011*\"congresso\" + 0.010*\"administrativo\" + 0.009*\"experiência\" + 0.009*\"ocorrer\" + 0.009*\"apresentar\"'),\n",
       " (46,\n",
       "  '0.021*\"sair\" + 0.020*\"ganhar\" + 0.020*\"chegar\" + 0.016*\"acabar\" + 0.016*\"começar\" + 0.015*\"entrar\" + 0.014*\"tirar\" + 0.013*\"comprar\" + 0.013*\"negócio\" + 0.012*\"dinheiro\"'),\n",
       " (47,\n",
       "  '0.076*\"educação\" + 0.062*\"escola\" + 0.052*\"ensinar\" + 0.021*\"universidade\" + 0.018*\"professorar\" + 0.018*\"qualidade\" + 0.017*\"professor\" + 0.017*\"médio\" + 0.012*\"fundamental\" + 0.012*\"criança\"')]"
      ]
     },
     "execution_count": 5,
     "metadata": {},
     "output_type": "execute_result"
    }
   ],
   "source": [
    "lda_model.print_topics(num_topics=100 ,num_words=10)"
   ]
  },
  {
   "cell_type": "raw",
   "metadata": {},
   "source": [
    "ldamodel = gensim.models.ldamodel.LdaModel(corpus, num_topics=30, id2word = dictionary, passes=30)"
   ]
  },
  {
   "cell_type": "raw",
   "metadata": {},
   "source": [
    "dictionary.save('./lda_models/lda_precandi48lema.dict')\n",
    "#ldamodel.save('poli_lda')"
   ]
  },
  {
   "cell_type": "raw",
   "metadata": {},
   "source": [
    "df"
   ]
  },
  {
   "cell_type": "code",
   "execution_count": 2,
   "metadata": {},
   "outputs": [],
   "source": [
    "from nltk.stem.porter import PorterStemmer\n",
    "from gensim import corpora, models\n",
    "import gensim\n",
    "import pandas as pd\n",
    "import numpy as np\n",
    "from gensim.models.ldamodel import LdaModel\n",
    "#lda_model = LdaModel.load('./lda_models/lda_model_precandi_m40')"
   ]
  },
  {
   "cell_type": "markdown",
   "metadata": {},
   "source": [
    "# Load word2vec model"
   ]
  },
  {
   "cell_type": "code",
   "execution_count": 3,
   "metadata": {},
   "outputs": [],
   "source": [
    "import gensim\n",
    "#doc='/home/kid/Documentos/analisis2018/dynamic-nmf-master-2018/out/w2v-model_setembro3.bin'\n",
    "doc='/home/kid/Documentos/analisis2018/lda_models/w2v_lema'\n",
    "model_w2v = gensim.models.Word2Vec.load(doc) "
   ]
  },
  {
   "cell_type": "code",
   "execution_count": 4,
   "metadata": {},
   "outputs": [
    {
     "name": "stderr",
     "output_type": "stream",
     "text": [
      "/home/kid/.local/lib/python3.5/site-packages/ipykernel_launcher.py:1: DeprecationWarning: Call to deprecated `most_similar` (Method will be removed in 4.0.0, use self.wv.most_similar() instead).\n",
      "  \"\"\"Entry point for launching an IPython kernel.\n",
      "/usr/local/lib/python3.5/dist-packages/gensim/matutils.py:737: FutureWarning: Conversion of the second argument of issubdtype from `int` to `np.signedinteger` is deprecated. In future, it will be treated as `np.int64 == np.dtype(int).type`.\n",
      "  if np.issubdtype(vec.dtype, np.int):\n"
     ]
    },
    {
     "data": {
      "text/plain": [
       "[('vir', 0.7912255525588989),\n",
       " ('chegar', 0.7148990631103516),\n",
       " ('acontecer', 0.7130476236343384),\n",
       " ('tava', 0.6676400899887085),\n",
       " ('tô', 0.6584104299545288),\n",
       " ('dizer', 0.6460803151130676),\n",
       " ('imaginar', 0.6379849910736084),\n",
       " ('dar', 0.6273107528686523),\n",
       " ('assistir', 0.6267815828323364),\n",
       " ('recentemente', 0.6229785680770874)]"
      ]
     },
     "execution_count": 4,
     "metadata": {},
     "output_type": "execute_result"
    }
   ],
   "source": [
    "model_w2v.most_similar('ver')"
   ]
  },
  {
   "cell_type": "markdown",
   "metadata": {},
   "source": [
    "# Matrix topic-topic similarity"
   ]
  },
  {
   "cell_type": "code",
   "execution_count": 5,
   "metadata": {},
   "outputs": [],
   "source": [
    "from gensim import corpora, models"
   ]
  },
  {
   "cell_type": "code",
   "execution_count": 6,
   "metadata": {},
   "outputs": [],
   "source": [
    "topn_words = {str(i): [word for word, prob in lda_model.show_topic(i, topn=15)] for i in range(0, lda_model.num_topics)}"
   ]
  },
  {
   "cell_type": "code",
   "execution_count": 7,
   "metadata": {},
   "outputs": [
    {
     "data": {
      "text/plain": [
       "['social',\n",
       " 'sentir',\n",
       " 'tratar',\n",
       " 'semana',\n",
       " 'querer',\n",
       " 'negro',\n",
       " 'experiência',\n",
       " 'café',\n",
       " 'saudar',\n",
       " 'comunidade',\n",
       " 'pensar',\n",
       " 'lgbt',\n",
       " 'passar',\n",
       " 'sofrer',\n",
       " 'condição']"
      ]
     },
     "execution_count": 7,
     "metadata": {},
     "output_type": "execute_result"
    }
   ],
   "source": [
    "topn_words['1']"
   ]
  },
  {
   "cell_type": "code",
   "execution_count": 8,
   "metadata": {},
   "outputs": [
    {
     "name": "stderr",
     "output_type": "stream",
     "text": [
      "/home/kid/.local/lib/python3.5/site-packages/ipykernel_launcher.py:7: DeprecationWarning: Call to deprecated `__getitem__` (Method will be removed in 4.0.0, use self.wv.__getitem__() instead).\n",
      "  import sys\n"
     ]
    }
   ],
   "source": [
    "vectors_topic=[]\n",
    "for i in range(len(topn_words)):\n",
    "    tmp=np.zeros(100)\n",
    "    count=0\n",
    "    for word in topn_words[str(i)]:\n",
    "        try:\n",
    "            tmp=tmp+model_w2v[word]\n",
    "            count=count+1\n",
    "        except:\n",
    "            print ('no: ',i,word)\n",
    "            pass\n",
    "        \n",
    "    tmp=tmp/count\n",
    "    vectors_topic.append(tmp)\n",
    "    \n",
    "vectors_topic=np.asarray(vectors_topic)"
   ]
  },
  {
   "cell_type": "code",
   "execution_count": 9,
   "metadata": {},
   "outputs": [
    {
     "data": {
      "text/plain": [
       "(48, 100)"
      ]
     },
     "execution_count": 9,
     "metadata": {},
     "output_type": "execute_result"
    }
   ],
   "source": [
    "vectors_topic.shape"
   ]
  },
  {
   "cell_type": "markdown",
   "metadata": {},
   "source": [
    "## Matriz topic-topic"
   ]
  },
  {
   "cell_type": "code",
   "execution_count": 10,
   "metadata": {},
   "outputs": [
    {
     "name": "stderr",
     "output_type": "stream",
     "text": [
      "/usr/local/lib/python3.5/dist-packages/gensim/matutils.py:737: FutureWarning: Conversion of the second argument of issubdtype from `int` to `np.signedinteger` is deprecated. In future, it will be treated as `np.int64 == np.dtype(int).type`.\n",
      "  if np.issubdtype(vec.dtype, np.int):\n"
     ]
    }
   ],
   "source": [
    "index = gensim.similarities.MatrixSimilarity(gensim.matutils.Dense2Corpus(vectors_topic.T))\n",
    "similarity_matrix_topic = []\n",
    "for sims in index:\n",
    "    similarity_matrix_topic.append(sims)\n",
    "similarity_matrix_topic = np.array(similarity_matrix_topic)"
   ]
  },
  {
   "cell_type": "code",
   "execution_count": 11,
   "metadata": {},
   "outputs": [
    {
     "data": {
      "text/plain": [
       "(48, 48)"
      ]
     },
     "execution_count": 11,
     "metadata": {},
     "output_type": "execute_result"
    }
   ],
   "source": [
    "similarity_matrix_topic.shape"
   ]
  },
  {
   "cell_type": "code",
   "execution_count": 12,
   "metadata": {},
   "outputs": [],
   "source": [
    "np.savetxt('./lda_models/matrix_simi_precandim48lema2.txt', similarity_matrix_topic)"
   ]
  },
  {
   "cell_type": "markdown",
   "metadata": {},
   "source": [
    "### Test load matrix"
   ]
  },
  {
   "cell_type": "code",
   "execution_count": 56,
   "metadata": {},
   "outputs": [],
   "source": [
    "import numpy as np\n",
    "topic_matrix = np.loadtxt('/home/kid/Documentos/analisis2018/lda_models/matrix_simi_precandim30.txt')"
   ]
  },
  {
   "cell_type": "code",
   "execution_count": 57,
   "metadata": {},
   "outputs": [
    {
     "data": {
      "text/plain": [
       "(30, 30)"
      ]
     },
     "execution_count": 57,
     "metadata": {},
     "output_type": "execute_result"
    }
   ],
   "source": [
    "topic_matrix.shape"
   ]
  },
  {
   "cell_type": "markdown",
   "metadata": {},
   "source": [
    "## TSS similarity"
   ]
  },
  {
   "cell_type": "code",
   "execution_count": 28,
   "metadata": {},
   "outputs": [
    {
     "name": "stdout",
     "output_type": "stream",
     "text": [
      "2.23606797749979\n",
      "0.9999999999999998\n",
      "0.0004639582566999478\n"
     ]
    }
   ],
   "source": [
    "import math\n",
    "\n",
    "def Cosine(vec1, vec2) :\n",
    "    result = InnerProduct(vec1,vec2) / (VectorSize(vec1) * VectorSize(vec2))\n",
    "    return result\n",
    "\n",
    "def VectorSize(vec) :\n",
    "    return math.sqrt(sum(math.pow(v,2) for v in vec))\n",
    "\n",
    "def InnerProduct(vec1, vec2) :\n",
    "    return sum(v1*v2 for v1,v2 in zip(vec1,vec2))\n",
    "\n",
    "def Euclidean(vec1, vec2) :\n",
    "    return math.sqrt(sum(math.pow((v1-v2),2) for v1,v2 in zip(vec1, vec2)))\n",
    "\n",
    "def Theta(vec1, vec2) :\n",
    "    return math.acos(Cosine(vec1,vec2)) + math.radians(10)\n",
    "\n",
    "def Triangle(vec1, vec2) :\n",
    "    theta = math.radians(Theta(vec1,vec2))\n",
    "    return (VectorSize(vec1) * VectorSize(vec2) * math.sin(theta)) / 2\n",
    "\n",
    "def Magnitude_Difference(vec1, vec2) :\n",
    "    return abs(VectorSize(vec1) - VectorSize(vec2))\n",
    "\n",
    "def Sector(vec1, vec2) :\n",
    "    ED = Euclidean(vec1, vec2)\n",
    "    MD = Magnitude_Difference(vec1, vec2)\n",
    "    theta = Theta(vec1, vec2)\n",
    "    return math.pi * math.pow((ED+MD),2) * theta/360\n",
    "\n",
    "def TS_SS(vec1, vec2) :\n",
    "    return Triangle(vec1, vec2) * Sector(vec1, vec2)\n",
    "\n",
    "vec1 = [1,2]\n",
    "vec2 = [2,4]\n",
    "\n",
    "print(Euclidean(vec1,vec2))\n",
    "print(Cosine(vec1,vec2))\n",
    "print(TS_SS(vec1,vec2))"
   ]
  },
  {
   "cell_type": "code",
   "execution_count": null,
   "metadata": {},
   "outputs": [],
   "source": []
  }
 ],
 "metadata": {
  "kernelspec": {
   "display_name": "Python 3",
   "language": "python",
   "name": "python3"
  },
  "language_info": {
   "codemirror_mode": {
    "name": "ipython",
    "version": 3
   },
   "file_extension": ".py",
   "mimetype": "text/x-python",
   "name": "python",
   "nbconvert_exporter": "python",
   "pygments_lexer": "ipython3",
   "version": "3.7.3"
  }
 },
 "nbformat": 4,
 "nbformat_minor": 2
}
